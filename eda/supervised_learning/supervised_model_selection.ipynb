{
 "cells": [
  {
   "cell_type": "code",
   "execution_count": 11,
   "id": "bc2e6aef-322b-42f6-a02a-671f5f0acbbc",
   "metadata": {
    "pycharm": {
     "name": "#%%\n"
    }
   },
   "outputs": [],
   "source": [
    "import pandas as pd\n",
    "import datetime as dt\n",
    "import numpy as np\n",
    "import math\n",
    "import warnings\n",
    "\n",
    "from sklearn.model_selection import train_test_split\n",
    "from sklearn.preprocessing import StandardScaler, MinMaxScaler\n",
    "from sklearn.metrics import confusion_matrix, accuracy_score, f1_score, classification_report, roc_curve, roc_auc_score\n",
    "\n",
    "\n",
    "from sklearn.model_selection import RandomizedSearchCV, GridSearchCV, StratifiedKFold\n",
    "from sklearn.linear_model import LogisticRegression, SGDClassifier, BayesianRidge\n",
    "from sklearn.ensemble import GradientBoostingClassifier, HistGradientBoostingClassifier, RandomForestClassifier, GradientBoostingRegressor\n",
    "from sklearn.naive_bayes import GaussianNB\n",
    "from sklearn.svm import SVR, SVC\n",
    "# from xgboost import XGBClassifier\n",
    "from sklearn.tree import DecisionTreeClassifier\n",
    "from xgboost.sklearn import XGBClassifier\n",
    "\n",
    "import seaborn as sns\n",
    "import matplotlib.pyplot as plt"
   ]
  },
  {
   "cell_type": "code",
   "execution_count": 12,
   "id": "bdce196b-a363-43fb-a66c-92aa1fab1693",
   "metadata": {
    "pycharm": {
     "name": "#%%\n"
    }
   },
   "outputs": [],
   "source": [
    "# sns.set_theme()\n",
    "sns.set_palette('rocket_r')\n",
    "# sns.color_palette(\"rocket\")"
   ]
  },
  {
   "cell_type": "markdown",
   "id": "b00f2889-340b-4f4f-8ba5-e171577862f8",
   "metadata": {
    "pycharm": {
     "name": "#%% md\n"
    }
   },
   "source": [
    "## To do:\n",
    "1. Preprocess:\n",
    "   \n",
    "   a. Standardize\n",
    "   \n",
    "   b. Split Data\n",
    "   \n",
    "   c. Normalize\n",
    "3. Extract import features using RandomForestClassifier\n",
    "4. Run all models storing their accuracy and f1-scores in a table"
   ]
  },
  {
   "cell_type": "code",
   "execution_count": 13,
   "id": "48bb1eb7-45d5-4630-93b1-0aa22d8ec224",
   "metadata": {
    "pycharm": {
     "name": "#%%\n"
    }
   },
   "outputs": [
    {
     "data": {
      "text/plain": [
       "(1192, 82)"
      ]
     },
     "execution_count": 13,
     "metadata": {},
     "output_type": "execute_result"
    }
   ],
   "source": [
    "data = pd.read_csv('../../data/model_features.csv')\n",
    "data.shape"
   ]
  },
  {
   "cell_type": "code",
   "execution_count": 14,
   "id": "73a684cb-9ccc-4014-b1c9-000e211e5193",
   "metadata": {
    "pycharm": {
     "name": "#%%\n"
    }
   },
   "outputs": [
    {
     "data": {
      "text/html": [
       "<div>\n",
       "<style scoped>\n",
       "    .dataframe tbody tr th:only-of-type {\n",
       "        vertical-align: middle;\n",
       "    }\n",
       "\n",
       "    .dataframe tbody tr th {\n",
       "        vertical-align: top;\n",
       "    }\n",
       "\n",
       "    .dataframe thead th {\n",
       "        text-align: right;\n",
       "    }\n",
       "</style>\n",
       "<table border=\"1\" class=\"dataframe\">\n",
       "  <thead>\n",
       "    <tr style=\"text-align: right;\">\n",
       "      <th></th>\n",
       "      <th>won</th>\n",
       "      <th>underdog</th>\n",
       "      <th>underdog_opp</th>\n",
       "      <th>fan_favorite</th>\n",
       "      <th>fan_favorite_opp</th>\n",
       "      <th>de</th>\n",
       "      <th>oe</th>\n",
       "      <th>te</th>\n",
       "      <th>pace</th>\n",
       "      <th>physicality_score</th>\n",
       "      <th>...</th>\n",
       "      <th>luck_opp</th>\n",
       "      <th>choke_rate</th>\n",
       "      <th>choke_rate_opp</th>\n",
       "      <th>upset_rate</th>\n",
       "      <th>upset_rate_opp</th>\n",
       "      <th>3mean_plus_minus</th>\n",
       "      <th>3mean_plus_minus_opp</th>\n",
       "      <th>win_streak</th>\n",
       "      <th>win_streak_opp</th>\n",
       "      <th>matchup_win_rate</th>\n",
       "    </tr>\n",
       "  </thead>\n",
       "  <tbody>\n",
       "    <tr>\n",
       "      <th>0</th>\n",
       "      <td>0</td>\n",
       "      <td>1</td>\n",
       "      <td>0</td>\n",
       "      <td>1</td>\n",
       "      <td>0</td>\n",
       "      <td>94.171478</td>\n",
       "      <td>109.031485</td>\n",
       "      <td>1.157797</td>\n",
       "      <td>67.0</td>\n",
       "      <td>8.250000</td>\n",
       "      <td>...</td>\n",
       "      <td>0.555556</td>\n",
       "      <td>1.000000</td>\n",
       "      <td>0.178571</td>\n",
       "      <td>0.000000</td>\n",
       "      <td>0.833333</td>\n",
       "      <td>16.333333</td>\n",
       "      <td>7.666667</td>\n",
       "      <td>5</td>\n",
       "      <td>0</td>\n",
       "      <td>NaN</td>\n",
       "    </tr>\n",
       "    <tr>\n",
       "      <th>1</th>\n",
       "      <td>1</td>\n",
       "      <td>1</td>\n",
       "      <td>0</td>\n",
       "      <td>1</td>\n",
       "      <td>0</td>\n",
       "      <td>83.955939</td>\n",
       "      <td>105.172414</td>\n",
       "      <td>1.252710</td>\n",
       "      <td>72.0</td>\n",
       "      <td>9.405172</td>\n",
       "      <td>...</td>\n",
       "      <td>0.615385</td>\n",
       "      <td>0.000000</td>\n",
       "      <td>0.238095</td>\n",
       "      <td>0.000000</td>\n",
       "      <td>0.400000</td>\n",
       "      <td>16.333333</td>\n",
       "      <td>5.666667</td>\n",
       "      <td>3</td>\n",
       "      <td>4</td>\n",
       "      <td>NaN</td>\n",
       "    </tr>\n",
       "    <tr>\n",
       "      <th>2</th>\n",
       "      <td>0</td>\n",
       "      <td>1</td>\n",
       "      <td>0</td>\n",
       "      <td>1</td>\n",
       "      <td>0</td>\n",
       "      <td>83.955939</td>\n",
       "      <td>105.172414</td>\n",
       "      <td>1.252710</td>\n",
       "      <td>72.0</td>\n",
       "      <td>9.405172</td>\n",
       "      <td>...</td>\n",
       "      <td>0.545455</td>\n",
       "      <td>0.000000</td>\n",
       "      <td>0.444444</td>\n",
       "      <td>0.000000</td>\n",
       "      <td>0.600000</td>\n",
       "      <td>16.000000</td>\n",
       "      <td>4.333333</td>\n",
       "      <td>4</td>\n",
       "      <td>2</td>\n",
       "      <td>NaN</td>\n",
       "    </tr>\n",
       "    <tr>\n",
       "      <th>3</th>\n",
       "      <td>0</td>\n",
       "      <td>1</td>\n",
       "      <td>0</td>\n",
       "      <td>1</td>\n",
       "      <td>0</td>\n",
       "      <td>97.527473</td>\n",
       "      <td>109.981685</td>\n",
       "      <td>1.127700</td>\n",
       "      <td>64.0</td>\n",
       "      <td>7.580882</td>\n",
       "      <td>...</td>\n",
       "      <td>0.250000</td>\n",
       "      <td>1.000000</td>\n",
       "      <td>0.192308</td>\n",
       "      <td>0.000000</td>\n",
       "      <td>0.666667</td>\n",
       "      <td>10.000000</td>\n",
       "      <td>4.000000</td>\n",
       "      <td>8</td>\n",
       "      <td>0</td>\n",
       "      <td>NaN</td>\n",
       "    </tr>\n",
       "    <tr>\n",
       "      <th>4</th>\n",
       "      <td>1</td>\n",
       "      <td>1</td>\n",
       "      <td>0</td>\n",
       "      <td>1</td>\n",
       "      <td>0</td>\n",
       "      <td>100.912698</td>\n",
       "      <td>103.333333</td>\n",
       "      <td>1.023987</td>\n",
       "      <td>70.0</td>\n",
       "      <td>8.979167</td>\n",
       "      <td>...</td>\n",
       "      <td>0.500000</td>\n",
       "      <td>0.333333</td>\n",
       "      <td>NaN</td>\n",
       "      <td>0.666667</td>\n",
       "      <td>0.500000</td>\n",
       "      <td>-7.666667</td>\n",
       "      <td>0.000000</td>\n",
       "      <td>0</td>\n",
       "      <td>0</td>\n",
       "      <td>NaN</td>\n",
       "    </tr>\n",
       "  </tbody>\n",
       "</table>\n",
       "<p>5 rows × 82 columns</p>\n",
       "</div>"
      ],
      "text/plain": [
       "   won  underdog  underdog_opp  fan_favorite  fan_favorite_opp          de  \\\n",
       "0    0         1             0             1                 0   94.171478   \n",
       "1    1         1             0             1                 0   83.955939   \n",
       "2    0         1             0             1                 0   83.955939   \n",
       "3    0         1             0             1                 0   97.527473   \n",
       "4    1         1             0             1                 0  100.912698   \n",
       "\n",
       "           oe        te  pace  physicality_score  ...  luck_opp  choke_rate  \\\n",
       "0  109.031485  1.157797  67.0           8.250000  ...  0.555556    1.000000   \n",
       "1  105.172414  1.252710  72.0           9.405172  ...  0.615385    0.000000   \n",
       "2  105.172414  1.252710  72.0           9.405172  ...  0.545455    0.000000   \n",
       "3  109.981685  1.127700  64.0           7.580882  ...  0.250000    1.000000   \n",
       "4  103.333333  1.023987  70.0           8.979167  ...  0.500000    0.333333   \n",
       "\n",
       "   choke_rate_opp  upset_rate  upset_rate_opp  3mean_plus_minus  \\\n",
       "0        0.178571    0.000000        0.833333         16.333333   \n",
       "1        0.238095    0.000000        0.400000         16.333333   \n",
       "2        0.444444    0.000000        0.600000         16.000000   \n",
       "3        0.192308    0.000000        0.666667         10.000000   \n",
       "4             NaN    0.666667        0.500000         -7.666667   \n",
       "\n",
       "   3mean_plus_minus_opp  win_streak  win_streak_opp  matchup_win_rate  \n",
       "0              7.666667           5               0               NaN  \n",
       "1              5.666667           3               4               NaN  \n",
       "2              4.333333           4               2               NaN  \n",
       "3              4.000000           8               0               NaN  \n",
       "4              0.000000           0               0               NaN  \n",
       "\n",
       "[5 rows x 82 columns]"
      ]
     },
     "execution_count": 14,
     "metadata": {},
     "output_type": "execute_result"
    }
   ],
   "source": [
    "data.head()"
   ]
  },
  {
   "cell_type": "code",
   "execution_count": 20,
   "id": "f59adfa2-7df8-4e71-9379-50aa91731a77",
   "metadata": {
    "pycharm": {
     "name": "#%%\n"
    }
   },
   "outputs": [],
   "source": [
    "models = {\n",
    "    'Bayesian Ridge Regression':[BayesianRidge(), False, 'regression', 'Linear'],\n",
    "    'Decision Tree Classifier':[DecisionTreeClassifier(random_state=42), False, 'classification', 'Tree'],\n",
    "    'Gaussian Naïve Bayes':[GaussianNB(), False, 'classification', 'Probabilistic'],\n",
    "    'Gradient Boosting for Classification':[GradientBoostingClassifier(random_state=42), False, 'classification', 'Tree'],\n",
    "    'Gradient Boosting for Regression':[GradientBoostingRegressor(random_state=42), False, 'regression', 'Tree'],\n",
    "    'Histogram-based Gradient Boosting Classification Tree':[HistGradientBoostingClassifier(random_state=42), True, 'classification', 'Tree'],\n",
    "    'Logistic Regression':[LogisticRegression(random_state=42), False, 'classification', 'Linear'],\n",
    "    'Random Forest Classifier':[RandomForestClassifier(random_state=42), False, 'classification', 'Tree'],\n",
    "    'Stochastic Gradient Descent Classifier':[SGDClassifier(random_state=42), False, 'classification', 'Linear'],\n",
    "    'Epsilon-Support Vector Regression (SVR)':[SVR(), False, 'regression', 'Non-Probabilistic'],\n",
    "    'Support Vector Machines Classifier':[SVC(random_state=42), False, 'classification', 'Non-Probabilistic'],\n",
    "    'Extreme Gradient Boosting (Xgboost) Classifier':[XGBClassifier(random_state=42), False, 'classification', 'Tree']\n",
    "}"
   ]
  },
  {
   "cell_type": "code",
   "execution_count": 21,
   "id": "dc7c4b6c-ed79-4f73-941d-835e5de29989",
   "metadata": {
    "pycharm": {
     "name": "#%%\n"
    }
   },
   "outputs": [],
   "source": [
    "# custom function\n",
    "def sigmoid(x):\n",
    "  return 1 / (1 + math.exp(-x))"
   ]
  },
  {
   "cell_type": "code",
   "execution_count": 22,
   "id": "44adb861-62fc-4dfe-9459-ce750e86af4f",
   "metadata": {
    "pycharm": {
     "name": "#%%\n"
    }
   },
   "outputs": [],
   "source": [
    "def transform_to_binary(x):\n",
    "    if x < 0:\n",
    "        return 0\n",
    "    elif x > 1:\n",
    "        return 1\n",
    "    else:\n",
    "        return round(x)"
   ]
  },
  {
   "cell_type": "code",
   "execution_count": 23,
   "id": "415fa0cf-d620-4859-867c-fd0b26c330f1",
   "metadata": {
    "scrolled": true,
    "pycharm": {
     "name": "#%%\n"
    }
   },
   "outputs": [
    {
     "name": "stdout",
     "output_type": "stream",
     "text": [
      "Bayesian Ridge Regression\n",
      "Accuracy: 0.5335607046165747\n",
      "F1-Score: 0.6812002585149883\n",
      "Runtime: 0s\n",
      "\n",
      "Decision Tree Classifier\n",
      "Accuracy: 0.6493512886326078\n",
      "F1-Score: 0.6526486463217621\n",
      "Runtime: 0s\n",
      "\n",
      "Gaussian Naïve Bayes\n",
      "Accuracy: 0.6963011145880946\n",
      "F1-Score: 0.6975608851109761\n",
      "Runtime: 0s\n",
      "\n",
      "Gradient Boosting for Classification\n",
      "Accuracy: 0.7147638971906753\n",
      "F1-Score: 0.7147388534479324\n",
      "Runtime: 5s\n",
      "\n",
      "Gradient Boosting for Regression\n",
      "Accuracy: 0.5335782848704335\n",
      "F1-Score: 0.681967069011411\n",
      "Runtime: 4s\n",
      "\n",
      "Histogram-based Gradient Boosting Classification Tree\n",
      "Accuracy: 0.8255476249077038\n",
      "F1-Score: 0.8263869030076071\n",
      "Runtime: 10s\n",
      "\n",
      "Logistic Regression\n",
      "Accuracy: 0.7390809043282586\n",
      "F1-Score: 0.742306180225426\n",
      "Runtime: 0s\n",
      "\n",
      "Random Forest Classifier\n",
      "Accuracy: 0.6996589430751381\n",
      "F1-Score: 0.697418663764274\n",
      "Runtime: 1s\n",
      "\n",
      "Stochastic Gradient Descent Classifier\n",
      "Accuracy: 0.7039485250167012\n",
      "F1-Score: 0.7316737367390287\n",
      "Runtime: 0s\n",
      "\n",
      "Epsilon-Support Vector Regression (SVR)\n",
      "Accuracy: 0.5696740620934567\n",
      "F1-Score: 0.6953627324790632\n",
      "Runtime: 0s\n",
      "\n",
      "Support Vector Machines Classifier\n",
      "Accuracy: 0.708881544249499\n",
      "F1-Score: 0.7109010606055588\n",
      "Runtime: 0s\n",
      "\n",
      "Extreme Gradient Boosting (Xgboost) Classifier\n",
      "Accuracy: 0.7130515804648219\n",
      "F1-Score: 0.7130003899874928\n",
      "Runtime: 1s\n",
      "\n"
     ]
    }
   ],
   "source": [
    "results = {}\n",
    "for model_type in models.keys():\n",
    "    start = dt.datetime.now()\n",
    "    # Remove fields with NaN values if model can't handel them\n",
    "    if not models[model_type][1]:\n",
    "        df = data.dropna(axis=1).copy()\n",
    "    else:\n",
    "        df = data.copy()\n",
    "\n",
    "    # Split training and test data\n",
    "    X = df.iloc[:,1:]\n",
    "    y = df.iloc[:,0]\n",
    "\n",
    "    # Initialize the StratifiedKFold with 5 folds\n",
    "    kfold = StratifiedKFold(n_splits=5, shuffle=True, random_state=42)\n",
    "\n",
    "    # # Standardize/Normalize the data\n",
    "    # if models[model_type][2] == 'regression':\n",
    "    #     scaler = MinMaxScaler() #normalization\n",
    "    # else:\n",
    "    #     scaler = StandardScaler() #standardization\n",
    "\n",
    "    model = models[model_type][0]\n",
    "    \n",
    "    # Perform 5-fold cross-validation\n",
    "    f1_scores = []\n",
    "    accuracies = []\n",
    "    for train_index, test_index in kfold.split(X, y):\n",
    "        X_train, X_test = X.iloc[train_index], X.iloc[test_index]\n",
    "        y_train, y_test = y.iloc[train_index], y.iloc[test_index]\n",
    "    \n",
    "        # Standardize and normalize the data using the same scaler\n",
    "        for scaler in [StandardScaler(), MinMaxScaler()]:\n",
    "            X_train = scaler.fit_transform(X_train)\n",
    "            X_test = scaler.transform(X_test)\n",
    "    \n",
    "        # Train the model on the training set\n",
    "        model.fit(X_train, y_train)\n",
    "\n",
    "        y_pred = model.predict(X_test)\n",
    "\n",
    "        if models[model_type][2] == 'regression':\n",
    "            # define vectorized sigmoid\n",
    "            sigmoid_v = np.vectorize(sigmoid)\n",
    "            y_pred_sig = sigmoid_v(np.array(y_pred))\n",
    "            y_pred = list(map(round,y_pred_sig))\n",
    "\n",
    "        f1_scores.append(f1_score(y_test, y_pred))\n",
    "        accuracies.append(accuracy_score(y_test, y_pred))\n",
    "\n",
    "    f1_score_strat = sum(f1_scores) / len(f1_scores)\n",
    "    f1_std = np.std(f1_scores)\n",
    "    accuracy_score_strat = sum(accuracies) / len(accuracies)\n",
    "    acc_std = np.std(accuracies)\n",
    "\n",
    "    runtime = (dt.datetime.now() - start).seconds\n",
    "    results[model_type] = [models[model_type][3], f1_score_strat,f1_std, accuracy_score_strat,acc_std,runtime]\n",
    "    print(f'{model_type}\\nAccuracy: {accuracy_score_strat}\\nF1-Score: {f1_score_strat}\\nRuntime: {runtime}s\\n')"
   ]
  },
  {
   "cell_type": "code",
   "execution_count": 24,
   "id": "2a1e3eda-6c92-4ffd-a051-2869563d397d",
   "metadata": {
    "pycharm": {
     "name": "#%%\n"
    }
   },
   "outputs": [],
   "source": [
    "df_results = pd.DataFrame(results).T\n",
    "df_results.columns = ['model_type','f1_score','f1_score_σ','accuracy_score','accuracy_σ','runtime']\n",
    "df_results.sort_values('f1_score', ascending=False).to_csv('../../data/model_summary_phase1.csv')"
   ]
  },
  {
   "cell_type": "code",
   "execution_count": 25,
   "id": "1bf5c641-67b4-424f-8cf7-18703c99c00f",
   "metadata": {
    "pycharm": {
     "name": "#%%\n"
    }
   },
   "outputs": [
    {
     "data": {
      "text/html": [
       "<div>\n",
       "<style scoped>\n",
       "    .dataframe tbody tr th:only-of-type {\n",
       "        vertical-align: middle;\n",
       "    }\n",
       "\n",
       "    .dataframe tbody tr th {\n",
       "        vertical-align: top;\n",
       "    }\n",
       "\n",
       "    .dataframe thead th {\n",
       "        text-align: right;\n",
       "    }\n",
       "</style>\n",
       "<table border=\"1\" class=\"dataframe\">\n",
       "  <thead>\n",
       "    <tr style=\"text-align: right;\">\n",
       "      <th></th>\n",
       "      <th>model_type</th>\n",
       "      <th>f1_score</th>\n",
       "      <th>f1_score_σ</th>\n",
       "      <th>accuracy_score</th>\n",
       "      <th>accuracy_σ</th>\n",
       "      <th>runtime</th>\n",
       "    </tr>\n",
       "  </thead>\n",
       "  <tbody>\n",
       "    <tr>\n",
       "      <th>Histogram-based Gradient Boosting Classification Tree</th>\n",
       "      <td>Tree</td>\n",
       "      <td>0.826387</td>\n",
       "      <td>0.024335</td>\n",
       "      <td>0.825548</td>\n",
       "      <td>0.024358</td>\n",
       "      <td>10</td>\n",
       "    </tr>\n",
       "    <tr>\n",
       "      <th>Logistic Regression</th>\n",
       "      <td>Linear</td>\n",
       "      <td>0.742306</td>\n",
       "      <td>0.020906</td>\n",
       "      <td>0.739081</td>\n",
       "      <td>0.021953</td>\n",
       "      <td>0</td>\n",
       "    </tr>\n",
       "    <tr>\n",
       "      <th>Stochastic Gradient Descent Classifier</th>\n",
       "      <td>Linear</td>\n",
       "      <td>0.731674</td>\n",
       "      <td>0.008788</td>\n",
       "      <td>0.703949</td>\n",
       "      <td>0.044594</td>\n",
       "      <td>0</td>\n",
       "    </tr>\n",
       "    <tr>\n",
       "      <th>Gradient Boosting for Classification</th>\n",
       "      <td>Tree</td>\n",
       "      <td>0.714739</td>\n",
       "      <td>0.024898</td>\n",
       "      <td>0.714764</td>\n",
       "      <td>0.025494</td>\n",
       "      <td>5</td>\n",
       "    </tr>\n",
       "    <tr>\n",
       "      <th>Extreme Gradient Boosting (Xgboost) Classifier</th>\n",
       "      <td>Tree</td>\n",
       "      <td>0.713</td>\n",
       "      <td>0.023575</td>\n",
       "      <td>0.713052</td>\n",
       "      <td>0.024676</td>\n",
       "      <td>1</td>\n",
       "    </tr>\n",
       "    <tr>\n",
       "      <th>Support Vector Machines Classifier</th>\n",
       "      <td>Non-Probabilistic</td>\n",
       "      <td>0.710901</td>\n",
       "      <td>0.020378</td>\n",
       "      <td>0.708882</td>\n",
       "      <td>0.019786</td>\n",
       "      <td>0</td>\n",
       "    </tr>\n",
       "    <tr>\n",
       "      <th>Gaussian Naïve Bayes</th>\n",
       "      <td>Probabilistic</td>\n",
       "      <td>0.697561</td>\n",
       "      <td>0.020735</td>\n",
       "      <td>0.696301</td>\n",
       "      <td>0.01743</td>\n",
       "      <td>0</td>\n",
       "    </tr>\n",
       "    <tr>\n",
       "      <th>Random Forest Classifier</th>\n",
       "      <td>Tree</td>\n",
       "      <td>0.697419</td>\n",
       "      <td>0.029134</td>\n",
       "      <td>0.699659</td>\n",
       "      <td>0.026698</td>\n",
       "      <td>1</td>\n",
       "    </tr>\n",
       "    <tr>\n",
       "      <th>Epsilon-Support Vector Regression (SVR)</th>\n",
       "      <td>Non-Probabilistic</td>\n",
       "      <td>0.695363</td>\n",
       "      <td>0.010771</td>\n",
       "      <td>0.569674</td>\n",
       "      <td>0.022368</td>\n",
       "      <td>0</td>\n",
       "    </tr>\n",
       "    <tr>\n",
       "      <th>Gradient Boosting for Regression</th>\n",
       "      <td>Tree</td>\n",
       "      <td>0.681967</td>\n",
       "      <td>0.005096</td>\n",
       "      <td>0.533578</td>\n",
       "      <td>0.010753</td>\n",
       "      <td>4</td>\n",
       "    </tr>\n",
       "    <tr>\n",
       "      <th>Bayesian Ridge Regression</th>\n",
       "      <td>Linear</td>\n",
       "      <td>0.6812</td>\n",
       "      <td>0.003596</td>\n",
       "      <td>0.533561</td>\n",
       "      <td>0.00639</td>\n",
       "      <td>0</td>\n",
       "    </tr>\n",
       "    <tr>\n",
       "      <th>Decision Tree Classifier</th>\n",
       "      <td>Tree</td>\n",
       "      <td>0.652649</td>\n",
       "      <td>0.018995</td>\n",
       "      <td>0.649351</td>\n",
       "      <td>0.016834</td>\n",
       "      <td>0</td>\n",
       "    </tr>\n",
       "  </tbody>\n",
       "</table>\n",
       "</div>"
      ],
      "text/plain": [
       "                                                           model_type  \\\n",
       "Histogram-based Gradient Boosting Classificatio...               Tree   \n",
       "Logistic Regression                                            Linear   \n",
       "Stochastic Gradient Descent Classifier                         Linear   \n",
       "Gradient Boosting for Classification                             Tree   \n",
       "Extreme Gradient Boosting (Xgboost) Classifier                   Tree   \n",
       "Support Vector Machines Classifier                  Non-Probabilistic   \n",
       "Gaussian Naïve Bayes                                    Probabilistic   \n",
       "Random Forest Classifier                                         Tree   \n",
       "Epsilon-Support Vector Regression (SVR)             Non-Probabilistic   \n",
       "Gradient Boosting for Regression                                 Tree   \n",
       "Bayesian Ridge Regression                                      Linear   \n",
       "Decision Tree Classifier                                         Tree   \n",
       "\n",
       "                                                    f1_score f1_score_σ  \\\n",
       "Histogram-based Gradient Boosting Classificatio...  0.826387   0.024335   \n",
       "Logistic Regression                                 0.742306   0.020906   \n",
       "Stochastic Gradient Descent Classifier              0.731674   0.008788   \n",
       "Gradient Boosting for Classification                0.714739   0.024898   \n",
       "Extreme Gradient Boosting (Xgboost) Classifier         0.713   0.023575   \n",
       "Support Vector Machines Classifier                  0.710901   0.020378   \n",
       "Gaussian Naïve Bayes                                0.697561   0.020735   \n",
       "Random Forest Classifier                            0.697419   0.029134   \n",
       "Epsilon-Support Vector Regression (SVR)             0.695363   0.010771   \n",
       "Gradient Boosting for Regression                    0.681967   0.005096   \n",
       "Bayesian Ridge Regression                             0.6812   0.003596   \n",
       "Decision Tree Classifier                            0.652649   0.018995   \n",
       "\n",
       "                                                   accuracy_score accuracy_σ  \\\n",
       "Histogram-based Gradient Boosting Classificatio...       0.825548   0.024358   \n",
       "Logistic Regression                                      0.739081   0.021953   \n",
       "Stochastic Gradient Descent Classifier                   0.703949   0.044594   \n",
       "Gradient Boosting for Classification                     0.714764   0.025494   \n",
       "Extreme Gradient Boosting (Xgboost) Classifier           0.713052   0.024676   \n",
       "Support Vector Machines Classifier                       0.708882   0.019786   \n",
       "Gaussian Naïve Bayes                                     0.696301    0.01743   \n",
       "Random Forest Classifier                                 0.699659   0.026698   \n",
       "Epsilon-Support Vector Regression (SVR)                  0.569674   0.022368   \n",
       "Gradient Boosting for Regression                         0.533578   0.010753   \n",
       "Bayesian Ridge Regression                                0.533561    0.00639   \n",
       "Decision Tree Classifier                                 0.649351   0.016834   \n",
       "\n",
       "                                                   runtime  \n",
       "Histogram-based Gradient Boosting Classificatio...      10  \n",
       "Logistic Regression                                      0  \n",
       "Stochastic Gradient Descent Classifier                   0  \n",
       "Gradient Boosting for Classification                     5  \n",
       "Extreme Gradient Boosting (Xgboost) Classifier           1  \n",
       "Support Vector Machines Classifier                       0  \n",
       "Gaussian Naïve Bayes                                     0  \n",
       "Random Forest Classifier                                 1  \n",
       "Epsilon-Support Vector Regression (SVR)                  0  \n",
       "Gradient Boosting for Regression                         4  \n",
       "Bayesian Ridge Regression                                0  \n",
       "Decision Tree Classifier                                 0  "
      ]
     },
     "execution_count": 25,
     "metadata": {},
     "output_type": "execute_result"
    }
   ],
   "source": [
    "df_results = df_results.sort_values('f1_score', ascending=False)\n",
    "df_results"
   ]
  },
  {
   "cell_type": "code",
   "execution_count": 26,
   "id": "d5e2654d-641a-424c-8200-676f5c17d81b",
   "metadata": {
    "pycharm": {
     "name": "#%%\n"
    }
   },
   "outputs": [
    {
     "data": {
      "image/png": "[encoded data removed]",
      "text/plain": [
       "<Figure size 720x432 with 1 Axes>"
      ]
     },
     "metadata": {
      "needs_background": "light"
     },
     "output_type": "display_data"
    }
   ],
   "source": [
    "plt.figure(figsize=(10,6))\n",
    "sns.barplot(data=df_results, y=df_results.index, x='f1_score', hue='model_type')\n",
    "\n",
    "# plt.title('Figure 1 - Attempted Models Ranked by F1-score')\n",
    "plt.ylabel(None)\n",
    "plt.xlabel('F1-score')\n",
    "plt.legend(title='Model Type')\n",
    "plt.savefig('../../visuals/models_ranked_by_f1_score.png', bbox_inches='tight')"
   ]
  },
  {
   "cell_type": "markdown",
   "id": "f37e4195-5027-492b-b2ef-1d3e8151fc38",
   "metadata": {
    "pycharm": {
     "name": "#%% md\n"
    }
   },
   "source": [
    "## Identify important features using Random Forest Classifier"
   ]
  },
  {
   "cell_type": "code",
   "execution_count": 27,
   "id": "b739418e-44f6-4181-b3e8-b1f2e7fcec01",
   "metadata": {
    "pycharm": {
     "name": "#%%\n"
    }
   },
   "outputs": [
    {
     "data": {
      "text/html": [
       "<style>#sk-container-id-1 {color: black;background-color: white;}#sk-container-id-1 pre{padding: 0;}#sk-container-id-1 div.sk-toggleable {background-color: white;}#sk-container-id-1 label.sk-toggleable__label {cursor: pointer;display: block;width: 100%;margin-bottom: 0;padding: 0.3em;box-sizing: border-box;text-align: center;}#sk-container-id-1 label.sk-toggleable__label-arrow:before {content: \"▸\";float: left;margin-right: 0.25em;color: #696969;}#sk-container-id-1 label.sk-toggleable__label-arrow:hover:before {color: black;}#sk-container-id-1 div.sk-estimator:hover label.sk-toggleable__label-arrow:before {color: black;}#sk-container-id-1 div.sk-toggleable__content {max-height: 0;max-width: 0;overflow: hidden;text-align: left;background-color: #f0f8ff;}#sk-container-id-1 div.sk-toggleable__content pre {margin: 0.2em;color: black;border-radius: 0.25em;background-color: #f0f8ff;}#sk-container-id-1 input.sk-toggleable__control:checked~div.sk-toggleable__content {max-height: 200px;max-width: 100%;overflow: auto;}#sk-container-id-1 input.sk-toggleable__control:checked~label.sk-toggleable__label-arrow:before {content: \"▾\";}#sk-container-id-1 div.sk-estimator input.sk-toggleable__control:checked~label.sk-toggleable__label {background-color: #d4ebff;}#sk-container-id-1 div.sk-label input.sk-toggleable__control:checked~label.sk-toggleable__label {background-color: #d4ebff;}#sk-container-id-1 input.sk-hidden--visually {border: 0;clip: rect(1px 1px 1px 1px);clip: rect(1px, 1px, 1px, 1px);height: 1px;margin: -1px;overflow: hidden;padding: 0;position: absolute;width: 1px;}#sk-container-id-1 div.sk-estimator {font-family: monospace;background-color: #f0f8ff;border: 1px dotted black;border-radius: 0.25em;box-sizing: border-box;margin-bottom: 0.5em;}#sk-container-id-1 div.sk-estimator:hover {background-color: #d4ebff;}#sk-container-id-1 div.sk-parallel-item::after {content: \"\";width: 100%;border-bottom: 1px solid gray;flex-grow: 1;}#sk-container-id-1 div.sk-label:hover label.sk-toggleable__label {background-color: #d4ebff;}#sk-container-id-1 div.sk-serial::before {content: \"\";position: absolute;border-left: 1px solid gray;box-sizing: border-box;top: 0;bottom: 0;left: 50%;z-index: 0;}#sk-container-id-1 div.sk-serial {display: flex;flex-direction: column;align-items: center;background-color: white;padding-right: 0.2em;padding-left: 0.2em;position: relative;}#sk-container-id-1 div.sk-item {position: relative;z-index: 1;}#sk-container-id-1 div.sk-parallel {display: flex;align-items: stretch;justify-content: center;background-color: white;position: relative;}#sk-container-id-1 div.sk-item::before, #sk-container-id-1 div.sk-parallel-item::before {content: \"\";position: absolute;border-left: 1px solid gray;box-sizing: border-box;top: 0;bottom: 0;left: 50%;z-index: -1;}#sk-container-id-1 div.sk-parallel-item {display: flex;flex-direction: column;z-index: 1;position: relative;background-color: white;}#sk-container-id-1 div.sk-parallel-item:first-child::after {align-self: flex-end;width: 50%;}#sk-container-id-1 div.sk-parallel-item:last-child::after {align-self: flex-start;width: 50%;}#sk-container-id-1 div.sk-parallel-item:only-child::after {width: 0;}#sk-container-id-1 div.sk-dashed-wrapped {border: 1px dashed gray;margin: 0 0.4em 0.5em 0.4em;box-sizing: border-box;padding-bottom: 0.4em;background-color: white;}#sk-container-id-1 div.sk-label label {font-family: monospace;font-weight: bold;display: inline-block;line-height: 1.2em;}#sk-container-id-1 div.sk-label-container {text-align: center;}#sk-container-id-1 div.sk-container {/* jupyter's `normalize.less` sets `[hidden] { display: none; }` but bootstrap.min.css set `[hidden] { display: none !important; }` so we also need the `!important` here to be able to override the default hidden behavior on the sphinx rendered scikit-learn.org. See: https://github.com/scikit-learn/scikit-learn/issues/21755 */display: inline-block !important;position: relative;}#sk-container-id-1 div.sk-text-repr-fallback {display: none;}</style><div id=\"sk-container-id-1\" class=\"sk-top-container\"><div class=\"sk-text-repr-fallback\"><pre>RandomForestClassifier()</pre><b>In a Jupyter environment, please rerun this cell to show the HTML representation or trust the notebook. <br />On GitHub, the HTML representation is unable to render, please try loading this page with nbviewer.org.</b></div><div class=\"sk-container\" hidden><div class=\"sk-item\"><div class=\"sk-estimator sk-toggleable\"><input class=\"sk-toggleable__control sk-hidden--visually\" id=\"sk-estimator-id-1\" type=\"checkbox\" checked><label for=\"sk-estimator-id-1\" class=\"sk-toggleable__label sk-toggleable__label-arrow\">RandomForestClassifier</label><div class=\"sk-toggleable__content\"><pre>RandomForestClassifier()</pre></div></div></div></div></div>"
      ],
      "text/plain": [
       "RandomForestClassifier()"
      ]
     },
     "execution_count": 27,
     "metadata": {},
     "output_type": "execute_result"
    }
   ],
   "source": [
    "# Split training and test data\n",
    "df = data.fillna(0)\n",
    "# df = data.copy()\n",
    "X = df.iloc[:,1:]\n",
    "y = df.iloc[:,0]\n",
    "\n",
    "rf_model = RandomForestClassifier()\n",
    "\n",
    "X_train, X_test, y_train, y_test = train_test_split(X, y, test_size=0.2, random_state=42)\n",
    "\n",
    "for scaler in [StandardScaler(), MinMaxScaler()]:\n",
    "    X_train = scaler.fit_transform(X_train)\n",
    "    X_test = scaler.transform(X_test)\n",
    "\n",
    "rf_model.fit(X_train, y_train)"
   ]
  },
  {
   "cell_type": "code",
   "execution_count": 28,
   "id": "08267d6b-7514-4fac-8f18-6c757f244855",
   "metadata": {
    "pycharm": {
     "name": "#%%\n"
    }
   },
   "outputs": [],
   "source": [
    "n = 10\n",
    "feature_importance = {key:value for key,value in sorted(zip(data.columns.tolist()[1:], rf_model.feature_importances_), key=lambda x: x[1], reverse=True)}\n",
    "top_features = list(feature_importance.keys())[:n]"
   ]
  },
  {
   "cell_type": "code",
   "execution_count": 29,
   "id": "f67f4304-08fb-49d0-add1-65e0686a947f",
   "metadata": {
    "scrolled": true,
    "pycharm": {
     "name": "#%%\n"
    }
   },
   "outputs": [
    {
     "data": {
      "text/plain": [
       "{'upset_rate': 0.08370922915090535,\n",
       " 'upset_rate_opp': 0.07622657398360023,\n",
       " 'srs': 0.03464868862922176,\n",
       " 'srs_opp': 0.03151689724806827,\n",
       " 'sos': 0.023234536124206798,\n",
       " 'sos_opp': 0.021556767835243237,\n",
       " 'fan_favorite_opp': 0.019122346985211786,\n",
       " 'fan_favorite': 0.017234900017654955,\n",
       " 'game_win_rate_opp': 0.01702266456023221,\n",
       " 'underdog': 0.016196931968765982,\n",
       " 'te': 0.015867029436348698,\n",
       " 'game_win_rate': 0.015125116053115228,\n",
       " 'conf_rank_opp': 0.013974582285009236,\n",
       " 'matchup_win_rate': 0.013917944803264042,\n",
       " '3mean_plus_minus_opp': 0.013773890285817601,\n",
       " 'underdog_opp': 0.013524984107037528,\n",
       " 'oe_opp': 0.013273114004841373,\n",
       " 'choke_rate': 0.013136880012414554,\n",
       " 'oe': 0.012887129673808903,\n",
       " '3mean_plus_minus': 0.012344299434102583,\n",
       " 'pf': 0.012335286735727284,\n",
       " 'choke_rate_opp': 0.01202959655995196,\n",
       " 'gpt_sent_score_avg_opp': 0.011806525727830346,\n",
       " 'gpt_sent_score_avg': 0.011248850770772496,\n",
       " 'te_opp': 0.011145580714745931,\n",
       " 'orb': 0.010977425134289964,\n",
       " 'stl_opp': 0.01094482869325554,\n",
       " 'fta_opp': 0.01091857379844507,\n",
       " 'conf_rank': 0.01042703242510282,\n",
       " 'tov_per_poss_opp': 0.009923709171815181,\n",
       " 'de_opp': 0.009896939126951011,\n",
       " 'drb': 0.00979730933683314,\n",
       " 'tov': 0.009731016853168453,\n",
       " 'ft': 0.009497579929878845,\n",
       " 'poss': 0.009359247735591908,\n",
       " '3p%_opp': 0.009312165686536703,\n",
       " 'ft_opp': 0.009093893810859498,\n",
       " 'blk_opp': 0.009052794320182316,\n",
       " 'ast_to_tov': 0.009049894717334979,\n",
       " 'ast_per_fg_opp': 0.009022089632844447,\n",
       " 'pf_opp': 0.009011702041554026,\n",
       " 'tov_opp': 0.009009422886725712,\n",
       " 'de': 0.00899679541853414,\n",
       " 'fg%_opp': 0.008849770658332963,\n",
       " 'ast': 0.008781636538829131,\n",
       " 'fg': 0.008780992976452608,\n",
       " 'ast_per_poss_opp': 0.00869588720664784,\n",
       " 'stl': 0.008678473896010834,\n",
       " 'ast_per_fg': 0.008559558012972148,\n",
       " 'fga': 0.008505138529830883,\n",
       " 'blk': 0.008471958789504587,\n",
       " 'physicality_score_opp': 0.008421002875045557,\n",
       " 'fg_opp': 0.008400661789253862,\n",
       " 'tov%': 0.008357544861708144,\n",
       " 'ft%': 0.008300466424832353,\n",
       " 'ast_to_tov_opp': 0.008285991691113999,\n",
       " 'fta': 0.008187027485788997,\n",
       " 'poss_opp': 0.00818032043523995,\n",
       " 'fg%': 0.008077359996033024,\n",
       " 'ast_per_poss': 0.008044616211913058,\n",
       " '3p': 0.008026548258525841,\n",
       " 'tov_per_poss': 0.00802511163586199,\n",
       " 'drb_opp': 0.007990694466122246,\n",
       " 'trb': 0.007956139780499572,\n",
       " 'ft%_opp': 0.007771115048345586,\n",
       " 'ast_opp': 0.007653247908301328,\n",
       " 'orb_opp': 0.007653103296657315,\n",
       " 'fga_opp': 0.007622126015495171,\n",
       " '3p%': 0.007614519976083871,\n",
       " 'tov%_opp': 0.00753182801356856,\n",
       " 'physicality_score': 0.007437317153588736,\n",
       " '3p_opp': 0.007176196097181053,\n",
       " 'trb_opp': 0.00681442636978625,\n",
       " '3pa': 0.006645411346896113,\n",
       " 'pace': 0.006481230130600606,\n",
       " 'win_streak': 0.006286815531605022,\n",
       " 'luck_opp': 0.005978175588518697,\n",
       " '3pa_opp': 0.005702296445929411,\n",
       " 'luck': 0.0056850855294872694,\n",
       " 'win_streak_opp': 0.004995113026367109,\n",
       " 'pace_opp': 0.004492322173266208}"
      ]
     },
     "execution_count": 29,
     "metadata": {},
     "output_type": "execute_result"
    }
   ],
   "source": [
    "feature_importance"
   ]
  },
  {
   "cell_type": "code",
   "execution_count": 30,
   "id": "e05741b7-720b-49f5-9f4d-5741c01f767d",
   "metadata": {
    "pycharm": {
     "name": "#%%\n"
    }
   },
   "outputs": [
    {
     "data": {
      "text/plain": [
       "['upset_rate',\n",
       " 'upset_rate_opp',\n",
       " 'srs',\n",
       " 'srs_opp',\n",
       " 'sos',\n",
       " 'sos_opp',\n",
       " 'fan_favorite_opp',\n",
       " 'fan_favorite',\n",
       " 'game_win_rate_opp',\n",
       " 'underdog']"
      ]
     },
     "execution_count": 30,
     "metadata": {},
     "output_type": "execute_result"
    }
   ],
   "source": [
    "top_features"
   ]
  },
  {
   "cell_type": "markdown",
   "id": "e4a9fbd1-1705-4ad9-8000-9ae8e12ab0a6",
   "metadata": {
    "pycharm": {
     "name": "#%% md\n"
    }
   },
   "source": [
    "## Run models only using top features"
   ]
  },
  {
   "cell_type": "code",
   "execution_count": 31,
   "id": "b955503d-05b4-4cbf-ac01-b9f051369f87",
   "metadata": {
    "pycharm": {
     "name": "#%%\n"
    }
   },
   "outputs": [
    {
     "name": "stdout",
     "output_type": "stream",
     "text": [
      "Bayesian Ridge Regression\n",
      "Accuracy: 0.5343975247002566\n",
      "F1-Score: 0.6816148727630671\n",
      "Runtime: 0s\n",
      "\n",
      "Decision Tree Classifier\n",
      "Accuracy: 0.639305931577652\n",
      "F1-Score: 0.6383696789547753\n",
      "Runtime: 0s\n",
      "\n",
      "Gaussian Naïve Bayes\n",
      "Accuracy: 0.6929714145072255\n",
      "F1-Score: 0.697482119565868\n",
      "Runtime: 0s\n",
      "\n",
      "Gradient Boosting for Classification\n",
      "Accuracy: 0.7147533490383602\n",
      "F1-Score: 0.7155084157907696\n",
      "Runtime: 0s\n",
      "\n",
      "Gradient Boosting for Regression\n",
      "Accuracy: 0.5344045568018002\n",
      "F1-Score: 0.6816169630001142\n",
      "Runtime: 0s\n",
      "\n",
      "Histogram-based Gradient Boosting Classification Tree\n",
      "Accuracy: 0.7952920080165957\n",
      "F1-Score: 0.7957685805621927\n",
      "Runtime: 3s\n",
      "\n",
      "Logistic Regression\n",
      "Accuracy: 0.7256777187862593\n",
      "F1-Score: 0.7302753714105379\n",
      "Runtime: 0s\n",
      "\n",
      "Random Forest Classifier\n",
      "Accuracy: 0.7030273197144966\n",
      "F1-Score: 0.7042900010454824\n",
      "Runtime: 0s\n",
      "\n",
      "Stochastic Gradient Descent Classifier\n",
      "Accuracy: 0.6660701100523891\n",
      "F1-Score: 0.6821490920334903\n",
      "Runtime: 0s\n",
      "\n",
      "Epsilon-Support Vector Regression (SVR)\n",
      "Accuracy: 0.5595829963784676\n",
      "F1-Score: 0.691958304615719\n",
      "Runtime: 0s\n",
      "\n",
      "Support Vector Machines Classifier\n",
      "Accuracy: 0.6904504061038641\n",
      "F1-Score: 0.695378780648441\n",
      "Runtime: 0s\n",
      "\n",
      "Extreme Gradient Boosting (Xgboost) Classifier\n",
      "Accuracy: 0.7088885763510426\n",
      "F1-Score: 0.7077143111513022\n",
      "Runtime: 0s\n",
      "\n"
     ]
    }
   ],
   "source": [
    "results = {}\n",
    "data1 = data[['won']+top_features]\n",
    "for model_type in models.keys():\n",
    "    start = dt.datetime.now()\n",
    "    # Remove fields with NaN values if model can't handel them\n",
    "    if not models[model_type][1]:\n",
    "        df = data1.dropna(axis=1).copy()\n",
    "    else:\n",
    "        df = data1.copy()\n",
    "\n",
    "    # Split training and test data\n",
    "    X = df.iloc[:,1:]\n",
    "    y = df.iloc[:,0]\n",
    "\n",
    "    # Initialize the StratifiedKFold with 5 folds\n",
    "    kfold = StratifiedKFold(n_splits=5, shuffle=True, random_state=42)\n",
    "\n",
    "    # # Standardize/Normalize the data\n",
    "    # if models[model_type][2] == 'regression':\n",
    "    #     scaler = MinMaxScaler() #normalization\n",
    "    # else:\n",
    "    #     scaler = StandardScaler() #standardization\n",
    "\n",
    "    model = models[model_type][0]\n",
    "    \n",
    "    # Perform 5-fold cross-validation\n",
    "    f1_scores = []\n",
    "    accuracies = []\n",
    "    for train_index, test_index in kfold.split(X, y):\n",
    "        X_train, X_test = X.iloc[train_index], X.iloc[test_index]\n",
    "        y_train, y_test = y.iloc[train_index], y.iloc[test_index]\n",
    "    \n",
    "        # Standardize and normalize the data using the same scaler\n",
    "        for scaler in [StandardScaler(), MinMaxScaler()]:\n",
    "            X_train = scaler.fit_transform(X_train)\n",
    "            X_test = scaler.transform(X_test)\n",
    "    \n",
    "        # Train the model on the training set\n",
    "        model.fit(X_train, y_train)\n",
    "\n",
    "        y_pred = model.predict(X_test)\n",
    "\n",
    "        if models[model_type][2] == 'regression':\n",
    "            # define vectorized sigmoid\n",
    "            sigmoid_v = np.vectorize(sigmoid)\n",
    "            y_pred_sig = sigmoid_v(np.array(y_pred))\n",
    "            y_pred = list(map(round,y_pred_sig))\n",
    "\n",
    "        f1_scores.append(f1_score(y_test, y_pred))\n",
    "        accuracies.append(accuracy_score(y_test, y_pred))\n",
    "\n",
    "    f1_score_strat = sum(f1_scores) / len(f1_scores)\n",
    "    f1_std = np.std(f1_scores)\n",
    "    accuracy_score_strat = sum(accuracies) / len(accuracies)\n",
    "    acc_std = np.std(accuracies)\n",
    "\n",
    "    runtime = (dt.datetime.now() - start).seconds\n",
    "    results[model_type] = [models[model_type][3], f1_score_strat,f1_std, accuracy_score_strat,acc_std,runtime]\n",
    "    print(f'{model_type}\\nAccuracy: {accuracy_score_strat}\\nF1-Score: {f1_score_strat}\\nRuntime: {runtime}s\\n')"
   ]
  },
  {
   "cell_type": "code",
   "execution_count": 32,
   "id": "161de2f5-6f82-491c-aa5d-e13993138b4e",
   "metadata": {
    "pycharm": {
     "name": "#%%\n"
    }
   },
   "outputs": [
    {
     "data": {
      "text/html": [
       "<div>\n",
       "<style scoped>\n",
       "    .dataframe tbody tr th:only-of-type {\n",
       "        vertical-align: middle;\n",
       "    }\n",
       "\n",
       "    .dataframe tbody tr th {\n",
       "        vertical-align: top;\n",
       "    }\n",
       "\n",
       "    .dataframe thead th {\n",
       "        text-align: right;\n",
       "    }\n",
       "</style>\n",
       "<table border=\"1\" class=\"dataframe\">\n",
       "  <thead>\n",
       "    <tr style=\"text-align: right;\">\n",
       "      <th></th>\n",
       "      <th>model_type</th>\n",
       "      <th>f1_score</th>\n",
       "      <th>f1_score_σ</th>\n",
       "      <th>accuracy_score</th>\n",
       "      <th>accuracy_σ</th>\n",
       "      <th>runtime</th>\n",
       "    </tr>\n",
       "  </thead>\n",
       "  <tbody>\n",
       "    <tr>\n",
       "      <th>Histogram-based Gradient Boosting Classification Tree</th>\n",
       "      <td>Tree</td>\n",
       "      <td>0.795769</td>\n",
       "      <td>0.015921</td>\n",
       "      <td>0.795292</td>\n",
       "      <td>0.01353</td>\n",
       "      <td>3</td>\n",
       "    </tr>\n",
       "    <tr>\n",
       "      <th>Logistic Regression</th>\n",
       "      <td>Linear</td>\n",
       "      <td>0.730275</td>\n",
       "      <td>0.024929</td>\n",
       "      <td>0.725678</td>\n",
       "      <td>0.024897</td>\n",
       "      <td>0</td>\n",
       "    </tr>\n",
       "    <tr>\n",
       "      <th>Gradient Boosting for Classification</th>\n",
       "      <td>Tree</td>\n",
       "      <td>0.715508</td>\n",
       "      <td>0.025383</td>\n",
       "      <td>0.714753</td>\n",
       "      <td>0.017996</td>\n",
       "      <td>0</td>\n",
       "    </tr>\n",
       "    <tr>\n",
       "      <th>Extreme Gradient Boosting (Xgboost) Classifier</th>\n",
       "      <td>Tree</td>\n",
       "      <td>0.707714</td>\n",
       "      <td>0.030635</td>\n",
       "      <td>0.708889</td>\n",
       "      <td>0.020891</td>\n",
       "      <td>0</td>\n",
       "    </tr>\n",
       "    <tr>\n",
       "      <th>Random Forest Classifier</th>\n",
       "      <td>Tree</td>\n",
       "      <td>0.70429</td>\n",
       "      <td>0.03049</td>\n",
       "      <td>0.703027</td>\n",
       "      <td>0.024861</td>\n",
       "      <td>0</td>\n",
       "    </tr>\n",
       "    <tr>\n",
       "      <th>Gaussian Naïve Bayes</th>\n",
       "      <td>Probabilistic</td>\n",
       "      <td>0.697482</td>\n",
       "      <td>0.010942</td>\n",
       "      <td>0.692971</td>\n",
       "      <td>0.012653</td>\n",
       "      <td>0</td>\n",
       "    </tr>\n",
       "    <tr>\n",
       "      <th>Support Vector Machines Classifier</th>\n",
       "      <td>Non-Probabilistic</td>\n",
       "      <td>0.695379</td>\n",
       "      <td>0.01903</td>\n",
       "      <td>0.69045</td>\n",
       "      <td>0.021597</td>\n",
       "      <td>0</td>\n",
       "    </tr>\n",
       "    <tr>\n",
       "      <th>Epsilon-Support Vector Regression (SVR)</th>\n",
       "      <td>Non-Probabilistic</td>\n",
       "      <td>0.691958</td>\n",
       "      <td>0.010194</td>\n",
       "      <td>0.559583</td>\n",
       "      <td>0.024701</td>\n",
       "      <td>0</td>\n",
       "    </tr>\n",
       "    <tr>\n",
       "      <th>Stochastic Gradient Descent Classifier</th>\n",
       "      <td>Linear</td>\n",
       "      <td>0.682149</td>\n",
       "      <td>0.126023</td>\n",
       "      <td>0.66607</td>\n",
       "      <td>0.042914</td>\n",
       "      <td>0</td>\n",
       "    </tr>\n",
       "    <tr>\n",
       "      <th>Gradient Boosting for Regression</th>\n",
       "      <td>Tree</td>\n",
       "      <td>0.681617</td>\n",
       "      <td>0.005969</td>\n",
       "      <td>0.534405</td>\n",
       "      <td>0.011181</td>\n",
       "      <td>0</td>\n",
       "    </tr>\n",
       "    <tr>\n",
       "      <th>Bayesian Ridge Regression</th>\n",
       "      <td>Linear</td>\n",
       "      <td>0.681615</td>\n",
       "      <td>0.005459</td>\n",
       "      <td>0.534398</td>\n",
       "      <td>0.010847</td>\n",
       "      <td>0</td>\n",
       "    </tr>\n",
       "    <tr>\n",
       "      <th>Decision Tree Classifier</th>\n",
       "      <td>Tree</td>\n",
       "      <td>0.63837</td>\n",
       "      <td>0.021881</td>\n",
       "      <td>0.639306</td>\n",
       "      <td>0.028109</td>\n",
       "      <td>0</td>\n",
       "    </tr>\n",
       "  </tbody>\n",
       "</table>\n",
       "</div>"
      ],
      "text/plain": [
       "                                                           model_type  \\\n",
       "Histogram-based Gradient Boosting Classificatio...               Tree   \n",
       "Logistic Regression                                            Linear   \n",
       "Gradient Boosting for Classification                             Tree   \n",
       "Extreme Gradient Boosting (Xgboost) Classifier                   Tree   \n",
       "Random Forest Classifier                                         Tree   \n",
       "Gaussian Naïve Bayes                                    Probabilistic   \n",
       "Support Vector Machines Classifier                  Non-Probabilistic   \n",
       "Epsilon-Support Vector Regression (SVR)             Non-Probabilistic   \n",
       "Stochastic Gradient Descent Classifier                         Linear   \n",
       "Gradient Boosting for Regression                                 Tree   \n",
       "Bayesian Ridge Regression                                      Linear   \n",
       "Decision Tree Classifier                                         Tree   \n",
       "\n",
       "                                                    f1_score f1_score_σ  \\\n",
       "Histogram-based Gradient Boosting Classificatio...  0.795769   0.015921   \n",
       "Logistic Regression                                 0.730275   0.024929   \n",
       "Gradient Boosting for Classification                0.715508   0.025383   \n",
       "Extreme Gradient Boosting (Xgboost) Classifier      0.707714   0.030635   \n",
       "Random Forest Classifier                             0.70429    0.03049   \n",
       "Gaussian Naïve Bayes                                0.697482   0.010942   \n",
       "Support Vector Machines Classifier                  0.695379    0.01903   \n",
       "Epsilon-Support Vector Regression (SVR)             0.691958   0.010194   \n",
       "Stochastic Gradient Descent Classifier              0.682149   0.126023   \n",
       "Gradient Boosting for Regression                    0.681617   0.005969   \n",
       "Bayesian Ridge Regression                           0.681615   0.005459   \n",
       "Decision Tree Classifier                             0.63837   0.021881   \n",
       "\n",
       "                                                   accuracy_score accuracy_σ  \\\n",
       "Histogram-based Gradient Boosting Classificatio...       0.795292    0.01353   \n",
       "Logistic Regression                                      0.725678   0.024897   \n",
       "Gradient Boosting for Classification                     0.714753   0.017996   \n",
       "Extreme Gradient Boosting (Xgboost) Classifier           0.708889   0.020891   \n",
       "Random Forest Classifier                                 0.703027   0.024861   \n",
       "Gaussian Naïve Bayes                                     0.692971   0.012653   \n",
       "Support Vector Machines Classifier                        0.69045   0.021597   \n",
       "Epsilon-Support Vector Regression (SVR)                  0.559583   0.024701   \n",
       "Stochastic Gradient Descent Classifier                    0.66607   0.042914   \n",
       "Gradient Boosting for Regression                         0.534405   0.011181   \n",
       "Bayesian Ridge Regression                                0.534398   0.010847   \n",
       "Decision Tree Classifier                                 0.639306   0.028109   \n",
       "\n",
       "                                                   runtime  \n",
       "Histogram-based Gradient Boosting Classificatio...       3  \n",
       "Logistic Regression                                      0  \n",
       "Gradient Boosting for Classification                     0  \n",
       "Extreme Gradient Boosting (Xgboost) Classifier           0  \n",
       "Random Forest Classifier                                 0  \n",
       "Gaussian Naïve Bayes                                     0  \n",
       "Support Vector Machines Classifier                       0  \n",
       "Epsilon-Support Vector Regression (SVR)                  0  \n",
       "Stochastic Gradient Descent Classifier                   0  \n",
       "Gradient Boosting for Regression                         0  \n",
       "Bayesian Ridge Regression                                0  \n",
       "Decision Tree Classifier                                 0  "
      ]
     },
     "execution_count": 32,
     "metadata": {},
     "output_type": "execute_result"
    }
   ],
   "source": [
    "df_results = pd.DataFrame(results).T\n",
    "df_results.columns = ['model_type','f1_score','f1_score_σ','accuracy_score','accuracy_σ','runtime']\n",
    "df_results.sort_values('f1_score', ascending=False).to_csv('../../data/model_summary_phase2.csv')\n",
    "df_results.sort_values('f1_score', ascending=False)"
   ]
  },
  {
   "cell_type": "code",
   "execution_count": 33,
   "id": "64330997-cfb6-4480-bf7f-96bd17019493",
   "metadata": {
    "pycharm": {
     "name": "#%%\n"
    }
   },
   "outputs": [],
   "source": [
    "df_results_total = pd.read_csv('../../data/model_summary_phase1.csv').rename(columns={'Unnamed: 0':'model'})\n",
    "df_results_top10 = pd.read_csv('../../data/model_summary_phase2.csv').rename(columns={'Unnamed: 0':'model'})"
   ]
  },
  {
   "cell_type": "code",
   "execution_count": 34,
   "id": "92706c42-75de-4937-a5c1-86b09927edc8",
   "metadata": {
    "pycharm": {
     "name": "#%%\n"
    }
   },
   "outputs": [],
   "source": [
    "df_results_top10['model'] = df_results_top10['model'].apply(lambda x:x+'_10')"
   ]
  },
  {
   "cell_type": "code",
   "execution_count": 35,
   "id": "2fa3f97a-ca8e-4df7-9e5f-955cd15da7ae",
   "metadata": {
    "pycharm": {
     "name": "#%%\n"
    }
   },
   "outputs": [
    {
     "data": {
      "text/html": [
       "<div>\n",
       "<style scoped>\n",
       "    .dataframe tbody tr th:only-of-type {\n",
       "        vertical-align: middle;\n",
       "    }\n",
       "\n",
       "    .dataframe tbody tr th {\n",
       "        vertical-align: top;\n",
       "    }\n",
       "\n",
       "    .dataframe thead th {\n",
       "        text-align: right;\n",
       "    }\n",
       "</style>\n",
       "<table border=\"1\" class=\"dataframe\">\n",
       "  <thead>\n",
       "    <tr style=\"text-align: right;\">\n",
       "      <th></th>\n",
       "      <th>model_type</th>\n",
       "      <th>f1_score</th>\n",
       "      <th>f1_score_σ</th>\n",
       "      <th>accuracy_score</th>\n",
       "      <th>accuracy_σ</th>\n",
       "      <th>runtime</th>\n",
       "    </tr>\n",
       "    <tr>\n",
       "      <th>model</th>\n",
       "      <th></th>\n",
       "      <th></th>\n",
       "      <th></th>\n",
       "      <th></th>\n",
       "      <th></th>\n",
       "      <th></th>\n",
       "    </tr>\n",
       "  </thead>\n",
       "  <tbody>\n",
       "    <tr>\n",
       "      <th>Histogram-based Gradient Boosting Classification Tree</th>\n",
       "      <td>Tree</td>\n",
       "      <td>0.826387</td>\n",
       "      <td>0.024335</td>\n",
       "      <td>0.825548</td>\n",
       "      <td>0.024358</td>\n",
       "      <td>10</td>\n",
       "    </tr>\n",
       "    <tr>\n",
       "      <th>Histogram-based Gradient Boosting Classification Tree_10</th>\n",
       "      <td>Tree</td>\n",
       "      <td>0.795769</td>\n",
       "      <td>0.015921</td>\n",
       "      <td>0.795292</td>\n",
       "      <td>0.013530</td>\n",
       "      <td>3</td>\n",
       "    </tr>\n",
       "    <tr>\n",
       "      <th>Logistic Regression</th>\n",
       "      <td>Linear</td>\n",
       "      <td>0.742306</td>\n",
       "      <td>0.020906</td>\n",
       "      <td>0.739081</td>\n",
       "      <td>0.021953</td>\n",
       "      <td>0</td>\n",
       "    </tr>\n",
       "    <tr>\n",
       "      <th>Stochastic Gradient Descent Classifier</th>\n",
       "      <td>Linear</td>\n",
       "      <td>0.731674</td>\n",
       "      <td>0.008788</td>\n",
       "      <td>0.703949</td>\n",
       "      <td>0.044594</td>\n",
       "      <td>0</td>\n",
       "    </tr>\n",
       "    <tr>\n",
       "      <th>Logistic Regression_10</th>\n",
       "      <td>Linear</td>\n",
       "      <td>0.730275</td>\n",
       "      <td>0.024929</td>\n",
       "      <td>0.725678</td>\n",
       "      <td>0.024897</td>\n",
       "      <td>0</td>\n",
       "    </tr>\n",
       "    <tr>\n",
       "      <th>Gradient Boosting for Classification_10</th>\n",
       "      <td>Tree</td>\n",
       "      <td>0.715508</td>\n",
       "      <td>0.025383</td>\n",
       "      <td>0.714753</td>\n",
       "      <td>0.017996</td>\n",
       "      <td>0</td>\n",
       "    </tr>\n",
       "    <tr>\n",
       "      <th>Gradient Boosting for Classification</th>\n",
       "      <td>Tree</td>\n",
       "      <td>0.714739</td>\n",
       "      <td>0.024898</td>\n",
       "      <td>0.714764</td>\n",
       "      <td>0.025494</td>\n",
       "      <td>5</td>\n",
       "    </tr>\n",
       "    <tr>\n",
       "      <th>Extreme Gradient Boosting (Xgboost) Classifier</th>\n",
       "      <td>Tree</td>\n",
       "      <td>0.713000</td>\n",
       "      <td>0.023575</td>\n",
       "      <td>0.713052</td>\n",
       "      <td>0.024676</td>\n",
       "      <td>1</td>\n",
       "    </tr>\n",
       "    <tr>\n",
       "      <th>Support Vector Machines Classifier</th>\n",
       "      <td>Non-Probabilistic</td>\n",
       "      <td>0.710901</td>\n",
       "      <td>0.020378</td>\n",
       "      <td>0.708882</td>\n",
       "      <td>0.019786</td>\n",
       "      <td>0</td>\n",
       "    </tr>\n",
       "    <tr>\n",
       "      <th>Extreme Gradient Boosting (Xgboost) Classifier_10</th>\n",
       "      <td>Tree</td>\n",
       "      <td>0.707714</td>\n",
       "      <td>0.030635</td>\n",
       "      <td>0.708889</td>\n",
       "      <td>0.020891</td>\n",
       "      <td>0</td>\n",
       "    </tr>\n",
       "    <tr>\n",
       "      <th>Random Forest Classifier_10</th>\n",
       "      <td>Tree</td>\n",
       "      <td>0.704290</td>\n",
       "      <td>0.030490</td>\n",
       "      <td>0.703027</td>\n",
       "      <td>0.024861</td>\n",
       "      <td>0</td>\n",
       "    </tr>\n",
       "    <tr>\n",
       "      <th>Gaussian Naïve Bayes</th>\n",
       "      <td>Probabilistic</td>\n",
       "      <td>0.697561</td>\n",
       "      <td>0.020735</td>\n",
       "      <td>0.696301</td>\n",
       "      <td>0.017430</td>\n",
       "      <td>0</td>\n",
       "    </tr>\n",
       "    <tr>\n",
       "      <th>Gaussian Naïve Bayes_10</th>\n",
       "      <td>Probabilistic</td>\n",
       "      <td>0.697482</td>\n",
       "      <td>0.010942</td>\n",
       "      <td>0.692971</td>\n",
       "      <td>0.012653</td>\n",
       "      <td>0</td>\n",
       "    </tr>\n",
       "    <tr>\n",
       "      <th>Random Forest Classifier</th>\n",
       "      <td>Tree</td>\n",
       "      <td>0.697419</td>\n",
       "      <td>0.029134</td>\n",
       "      <td>0.699659</td>\n",
       "      <td>0.026698</td>\n",
       "      <td>1</td>\n",
       "    </tr>\n",
       "    <tr>\n",
       "      <th>Support Vector Machines Classifier_10</th>\n",
       "      <td>Non-Probabilistic</td>\n",
       "      <td>0.695379</td>\n",
       "      <td>0.019030</td>\n",
       "      <td>0.690450</td>\n",
       "      <td>0.021597</td>\n",
       "      <td>0</td>\n",
       "    </tr>\n",
       "    <tr>\n",
       "      <th>Epsilon-Support Vector Regression (SVR)</th>\n",
       "      <td>Non-Probabilistic</td>\n",
       "      <td>0.695363</td>\n",
       "      <td>0.010771</td>\n",
       "      <td>0.569674</td>\n",
       "      <td>0.022368</td>\n",
       "      <td>0</td>\n",
       "    </tr>\n",
       "    <tr>\n",
       "      <th>Epsilon-Support Vector Regression (SVR)_10</th>\n",
       "      <td>Non-Probabilistic</td>\n",
       "      <td>0.691958</td>\n",
       "      <td>0.010194</td>\n",
       "      <td>0.559583</td>\n",
       "      <td>0.024701</td>\n",
       "      <td>0</td>\n",
       "    </tr>\n",
       "    <tr>\n",
       "      <th>Stochastic Gradient Descent Classifier_10</th>\n",
       "      <td>Linear</td>\n",
       "      <td>0.682149</td>\n",
       "      <td>0.126023</td>\n",
       "      <td>0.666070</td>\n",
       "      <td>0.042914</td>\n",
       "      <td>0</td>\n",
       "    </tr>\n",
       "    <tr>\n",
       "      <th>Gradient Boosting for Regression</th>\n",
       "      <td>Tree</td>\n",
       "      <td>0.681967</td>\n",
       "      <td>0.005096</td>\n",
       "      <td>0.533578</td>\n",
       "      <td>0.010753</td>\n",
       "      <td>4</td>\n",
       "    </tr>\n",
       "    <tr>\n",
       "      <th>Gradient Boosting for Regression_10</th>\n",
       "      <td>Tree</td>\n",
       "      <td>0.681617</td>\n",
       "      <td>0.005969</td>\n",
       "      <td>0.534405</td>\n",
       "      <td>0.011181</td>\n",
       "      <td>0</td>\n",
       "    </tr>\n",
       "    <tr>\n",
       "      <th>Bayesian Ridge Regression_10</th>\n",
       "      <td>Linear</td>\n",
       "      <td>0.681615</td>\n",
       "      <td>0.005459</td>\n",
       "      <td>0.534398</td>\n",
       "      <td>0.010847</td>\n",
       "      <td>0</td>\n",
       "    </tr>\n",
       "    <tr>\n",
       "      <th>Bayesian Ridge Regression</th>\n",
       "      <td>Linear</td>\n",
       "      <td>0.681200</td>\n",
       "      <td>0.003596</td>\n",
       "      <td>0.533561</td>\n",
       "      <td>0.006390</td>\n",
       "      <td>0</td>\n",
       "    </tr>\n",
       "    <tr>\n",
       "      <th>Decision Tree Classifier</th>\n",
       "      <td>Tree</td>\n",
       "      <td>0.652649</td>\n",
       "      <td>0.018995</td>\n",
       "      <td>0.649351</td>\n",
       "      <td>0.016834</td>\n",
       "      <td>0</td>\n",
       "    </tr>\n",
       "    <tr>\n",
       "      <th>Decision Tree Classifier_10</th>\n",
       "      <td>Tree</td>\n",
       "      <td>0.638370</td>\n",
       "      <td>0.021881</td>\n",
       "      <td>0.639306</td>\n",
       "      <td>0.028109</td>\n",
       "      <td>0</td>\n",
       "    </tr>\n",
       "  </tbody>\n",
       "</table>\n",
       "</div>"
      ],
      "text/plain": [
       "                                                           model_type  \\\n",
       "model                                                                   \n",
       "Histogram-based Gradient Boosting Classificatio...               Tree   \n",
       "Histogram-based Gradient Boosting Classificatio...               Tree   \n",
       "Logistic Regression                                            Linear   \n",
       "Stochastic Gradient Descent Classifier                         Linear   \n",
       "Logistic Regression_10                                         Linear   \n",
       "Gradient Boosting for Classification_10                          Tree   \n",
       "Gradient Boosting for Classification                             Tree   \n",
       "Extreme Gradient Boosting (Xgboost) Classifier                   Tree   \n",
       "Support Vector Machines Classifier                  Non-Probabilistic   \n",
       "Extreme Gradient Boosting (Xgboost) Classifier_10                Tree   \n",
       "Random Forest Classifier_10                                      Tree   \n",
       "Gaussian Naïve Bayes                                    Probabilistic   \n",
       "Gaussian Naïve Bayes_10                                 Probabilistic   \n",
       "Random Forest Classifier                                         Tree   \n",
       "Support Vector Machines Classifier_10               Non-Probabilistic   \n",
       "Epsilon-Support Vector Regression (SVR)             Non-Probabilistic   \n",
       "Epsilon-Support Vector Regression (SVR)_10          Non-Probabilistic   \n",
       "Stochastic Gradient Descent Classifier_10                      Linear   \n",
       "Gradient Boosting for Regression                                 Tree   \n",
       "Gradient Boosting for Regression_10                              Tree   \n",
       "Bayesian Ridge Regression_10                                   Linear   \n",
       "Bayesian Ridge Regression                                      Linear   \n",
       "Decision Tree Classifier                                         Tree   \n",
       "Decision Tree Classifier_10                                      Tree   \n",
       "\n",
       "                                                    f1_score  f1_score_σ  \\\n",
       "model                                                                      \n",
       "Histogram-based Gradient Boosting Classificatio...  0.826387    0.024335   \n",
       "Histogram-based Gradient Boosting Classificatio...  0.795769    0.015921   \n",
       "Logistic Regression                                 0.742306    0.020906   \n",
       "Stochastic Gradient Descent Classifier              0.731674    0.008788   \n",
       "Logistic Regression_10                              0.730275    0.024929   \n",
       "Gradient Boosting for Classification_10             0.715508    0.025383   \n",
       "Gradient Boosting for Classification                0.714739    0.024898   \n",
       "Extreme Gradient Boosting (Xgboost) Classifier      0.713000    0.023575   \n",
       "Support Vector Machines Classifier                  0.710901    0.020378   \n",
       "Extreme Gradient Boosting (Xgboost) Classifier_10   0.707714    0.030635   \n",
       "Random Forest Classifier_10                         0.704290    0.030490   \n",
       "Gaussian Naïve Bayes                                0.697561    0.020735   \n",
       "Gaussian Naïve Bayes_10                             0.697482    0.010942   \n",
       "Random Forest Classifier                            0.697419    0.029134   \n",
       "Support Vector Machines Classifier_10               0.695379    0.019030   \n",
       "Epsilon-Support Vector Regression (SVR)             0.695363    0.010771   \n",
       "Epsilon-Support Vector Regression (SVR)_10          0.691958    0.010194   \n",
       "Stochastic Gradient Descent Classifier_10           0.682149    0.126023   \n",
       "Gradient Boosting for Regression                    0.681967    0.005096   \n",
       "Gradient Boosting for Regression_10                 0.681617    0.005969   \n",
       "Bayesian Ridge Regression_10                        0.681615    0.005459   \n",
       "Bayesian Ridge Regression                           0.681200    0.003596   \n",
       "Decision Tree Classifier                            0.652649    0.018995   \n",
       "Decision Tree Classifier_10                         0.638370    0.021881   \n",
       "\n",
       "                                                    accuracy_score  \\\n",
       "model                                                                \n",
       "Histogram-based Gradient Boosting Classificatio...        0.825548   \n",
       "Histogram-based Gradient Boosting Classificatio...        0.795292   \n",
       "Logistic Regression                                       0.739081   \n",
       "Stochastic Gradient Descent Classifier                    0.703949   \n",
       "Logistic Regression_10                                    0.725678   \n",
       "Gradient Boosting for Classification_10                   0.714753   \n",
       "Gradient Boosting for Classification                      0.714764   \n",
       "Extreme Gradient Boosting (Xgboost) Classifier            0.713052   \n",
       "Support Vector Machines Classifier                        0.708882   \n",
       "Extreme Gradient Boosting (Xgboost) Classifier_10         0.708889   \n",
       "Random Forest Classifier_10                               0.703027   \n",
       "Gaussian Naïve Bayes                                      0.696301   \n",
       "Gaussian Naïve Bayes_10                                   0.692971   \n",
       "Random Forest Classifier                                  0.699659   \n",
       "Support Vector Machines Classifier_10                     0.690450   \n",
       "Epsilon-Support Vector Regression (SVR)                   0.569674   \n",
       "Epsilon-Support Vector Regression (SVR)_10                0.559583   \n",
       "Stochastic Gradient Descent Classifier_10                 0.666070   \n",
       "Gradient Boosting for Regression                          0.533578   \n",
       "Gradient Boosting for Regression_10                       0.534405   \n",
       "Bayesian Ridge Regression_10                              0.534398   \n",
       "Bayesian Ridge Regression                                 0.533561   \n",
       "Decision Tree Classifier                                  0.649351   \n",
       "Decision Tree Classifier_10                               0.639306   \n",
       "\n",
       "                                                    accuracy_σ  runtime  \n",
       "model                                                                    \n",
       "Histogram-based Gradient Boosting Classificatio...    0.024358       10  \n",
       "Histogram-based Gradient Boosting Classificatio...    0.013530        3  \n",
       "Logistic Regression                                   0.021953        0  \n",
       "Stochastic Gradient Descent Classifier                0.044594        0  \n",
       "Logistic Regression_10                                0.024897        0  \n",
       "Gradient Boosting for Classification_10               0.017996        0  \n",
       "Gradient Boosting for Classification                  0.025494        5  \n",
       "Extreme Gradient Boosting (Xgboost) Classifier        0.024676        1  \n",
       "Support Vector Machines Classifier                    0.019786        0  \n",
       "Extreme Gradient Boosting (Xgboost) Classifier_10     0.020891        0  \n",
       "Random Forest Classifier_10                           0.024861        0  \n",
       "Gaussian Naïve Bayes                                  0.017430        0  \n",
       "Gaussian Naïve Bayes_10                               0.012653        0  \n",
       "Random Forest Classifier                              0.026698        1  \n",
       "Support Vector Machines Classifier_10                 0.021597        0  \n",
       "Epsilon-Support Vector Regression (SVR)               0.022368        0  \n",
       "Epsilon-Support Vector Regression (SVR)_10            0.024701        0  \n",
       "Stochastic Gradient Descent Classifier_10             0.042914        0  \n",
       "Gradient Boosting for Regression                      0.010753        4  \n",
       "Gradient Boosting for Regression_10                   0.011181        0  \n",
       "Bayesian Ridge Regression_10                          0.010847        0  \n",
       "Bayesian Ridge Regression                             0.006390        0  \n",
       "Decision Tree Classifier                              0.016834        0  \n",
       "Decision Tree Classifier_10                           0.028109        0  "
      ]
     },
     "execution_count": 35,
     "metadata": {},
     "output_type": "execute_result"
    }
   ],
   "source": [
    "combined_results = pd.concat([df_results_total,df_results_top10]).set_index('model').sort_values('f1_score', ascending=False)\n",
    "combined_results"
   ]
  },
  {
   "cell_type": "code",
   "execution_count": 36,
   "id": "fb97250f-85b4-47ec-9291-0d37845bcf34",
   "metadata": {
    "pycharm": {
     "name": "#%%\n"
    }
   },
   "outputs": [
    {
     "data": {
      "text/plain": [
       "<matplotlib.legend.Legend at 0x167845767c0>"
      ]
     },
     "execution_count": 36,
     "metadata": {},
     "output_type": "execute_result"
    },
    {
     "data": {
      "image/png": "[encoded data removed]",
      "text/plain": [
       "<Figure size 1080x432 with 1 Axes>"
      ]
     },
     "metadata": {
      "needs_background": "light"
     },
     "output_type": "display_data"
    }
   ],
   "source": [
    "plt.figure(figsize=(15,6))\n",
    "sns.barplot(data=combined_results, y=combined_results.index, x='f1_score', hue='model_type')\n",
    "\n",
    "plt.title('Figure 1 - Attempted Models Ranked by F1-score')\n",
    "plt.ylabel('Model')\n",
    "plt.xlabel('F1-score')\n",
    "plt.legend(title='Model Type')"
   ]
  },
  {
   "cell_type": "code",
   "execution_count": 37,
   "id": "aaa8fa46-4b07-41cc-903e-d82cfba4eaa5",
   "metadata": {
    "pycharm": {
     "name": "#%%\n"
    }
   },
   "outputs": [
    {
     "data": {
      "text/plain": [
       "<AxesSubplot:xlabel='runtime', ylabel='model'>"
      ]
     },
     "execution_count": 37,
     "metadata": {},
     "output_type": "execute_result"
    },
    {
     "data": {
      "image/png": "[encoded data removed]",
      "text/plain": [
       "<Figure size 1080x432 with 1 Axes>"
      ]
     },
     "metadata": {
      "needs_background": "light"
     },
     "output_type": "display_data"
    }
   ],
   "source": [
    "plt.figure(figsize=(15,6))\n",
    "combined_results_runtime = combined_results.sort_values('runtime',ascending=False)\n",
    "sns.barplot(data=combined_results_runtime, y=combined_results_runtime.index, x='runtime', hue='model_type')"
   ]
  },
  {
   "cell_type": "code",
   "execution_count": 38,
   "id": "6e112241-d5ac-4807-a6b9-98995b0573e6",
   "metadata": {
    "pycharm": {
     "name": "#%%\n"
    }
   },
   "outputs": [
    {
     "data": {
      "text/plain": [
       "<AxesSubplot:xlabel='runtime', ylabel='f1_score'>"
      ]
     },
     "execution_count": 38,
     "metadata": {},
     "output_type": "execute_result"
    },
    {
     "data": {
      "image/png": "[encoded data removed]",
      "text/plain": [
       "<Figure size 432x288 with 1 Axes>"
      ]
     },
     "metadata": {
      "needs_background": "light"
     },
     "output_type": "display_data"
    }
   ],
   "source": [
    "sns.scatterplot(data=combined_results,x='runtime',y='f1_score',hue='model_type',)"
   ]
  },
  {
   "cell_type": "markdown",
   "id": "a8627de5-6054-4294-b7ed-df9e15c25916",
   "metadata": {
    "pycharm": {
     "name": "#%% md\n"
    }
   },
   "source": [
    "## Tune Top Three Models:\n",
    "\n",
    "- Histogram-based Gradient Boosting Classification Tree\n",
    "- Logistic Regression\n",
    "- Stochastic Gradient Descent Classifier"
   ]
  },
  {
   "cell_type": "code",
   "execution_count": 39,
   "id": "817ef501-24f2-459d-9f3a-360facbf4ff3",
   "metadata": {
    "pycharm": {
     "name": "#%%\n"
    }
   },
   "outputs": [],
   "source": [
    "models_to_tune = {\n",
    "    'Histogram-based Gradient Boosting Classification Tree':[HistGradientBoostingClassifier(), True, 'classification', 'Tree'],\n",
    "    'Logistic Regression':[LogisticRegression(), False, 'classification', 'Linear'],\n",
    "    'Stochastic Gradient Descent Classifier':[SGDClassifier(), False, 'classification', 'Linear'],\n",
    "}"
   ]
  },
  {
   "cell_type": "code",
   "execution_count": 48,
   "id": "738913b3-6d6c-4f30-bf0a-0161de1b2404",
   "metadata": {
    "pycharm": {
     "name": "#%%\n"
    }
   },
   "outputs": [],
   "source": [
    "tuned_results = {}"
   ]
  },
  {
   "cell_type": "markdown",
   "id": "dd265ad7-d83f-4f59-a90b-edbeec377752",
   "metadata": {
    "pycharm": {
     "name": "#%% md\n"
    }
   },
   "source": [
    "## Tune Histogram-based Gradient Boosting Classification Tree"
   ]
  },
  {
   "cell_type": "code",
   "execution_count": 49,
   "id": "8cb8367b-cae3-429e-91c3-a597bc355520",
   "metadata": {
    "pycharm": {
     "name": "#%%\n"
    }
   },
   "outputs": [
    {
     "name": "stdout",
     "output_type": "stream",
     "text": [
      "Best Hyperparameters: {'learning_rate': 0.05, 'max_depth': 5, 'max_iter': 100, 'min_samples_leaf': 15}\n",
      "Best Histogram-based Gradient Boosting Classification Tree\n",
      "CV Training Best F1-Score: 0.8038631686799734\n",
      "Test F1-Score: 0.8290598290598291\n",
      "Test Accuracy: 0.8326359832635983\n",
      "Tuning Runtime: 435 sec\n"
     ]
    }
   ],
   "source": [
    "model_name = 'Best Histogram-based Gradient Boosting Classification Tree'\n",
    "start = dt.datetime.now()\n",
    "df = data.copy()\n",
    "\n",
    "X = df.iloc[:,1:]\n",
    "y = df.iloc[:,0]\n",
    "X_train, X_test, y_train, y_test = train_test_split(X, y, test_size=0.2, random_state=42)\n",
    "\n",
    "for scaler in [StandardScaler(), MinMaxScaler()]:\n",
    "    X_train = scaler.fit_transform(X_train)\n",
    "    X_test = scaler.transform(X_test)\n",
    "\n",
    "\n",
    "hgb_classifier = HistGradientBoostingClassifier(random_state=42)\n",
    "\n",
    "param_grid = {\n",
    "    'learning_rate': [x/100 for x in list(range(2,9))],\n",
    "    'max_iter': [100],\n",
    "    'max_depth': [None, 5, 10],\n",
    "    'min_samples_leaf': [15, 20, 25]\n",
    "}\n",
    "\n",
    "# Use StratifiedKFold for cross-validation\n",
    "stratified_cv = StratifiedKFold(n_splits=5, shuffle=True, random_state=42)\n",
    "\n",
    "hgb_grid_search = GridSearchCV(hgb_classifier, param_grid, cv=stratified_cv, scoring='f1')\n",
    "hgb_grid_search.fit(X_train, y_train)\n",
    "\n",
    "print(\"Best Hyperparameters:\", hgb_grid_search.best_params_)\n",
    "\n",
    "# Get the best model from the grid search\n",
    "best_hgb_model = hgb_grid_search.best_estimator_\n",
    "\n",
    "# Make predictions on the test set\n",
    "y_pred = best_hgb_model.predict(X_test)\n",
    "\n",
    "# Evaluate the accuracy of the model\n",
    "f1 = f1_score(y_test, y_pred)\n",
    "accuracy = accuracy_score(y_test, y_pred)\n",
    "\n",
    "runtime = (dt.datetime.now() - start).seconds\n",
    "print(model_name)\n",
    "print('CV Training Best F1-Score:', hgb_grid_search.best_score_)\n",
    "print(\"Test F1-Score:\", f1)\n",
    "print(\"Test Accuracy:\", accuracy)\n",
    "print('Tuning Runtime:', runtime, 'sec')\n",
    "\n",
    "parameters_str = ', '.join([f'{key}: {value}' for key,value in hgb_grid_search.best_params_.items()])\n",
    "tuned_results[model_name] = [f1,accuracy,parameters_str, runtime]"
   ]
  },
  {
   "cell_type": "markdown",
   "id": "4dcc76ad",
   "metadata": {
    "pycharm": {
     "name": "#%% md\n"
    }
   },
   "source": [
    "#### Try without scaling"
   ]
  },
  {
   "cell_type": "code",
   "execution_count": 50,
   "id": "cea8fd3c",
   "metadata": {
    "pycharm": {
     "name": "#%%\n"
    }
   },
   "outputs": [
    {
     "name": "stdout",
     "output_type": "stream",
     "text": [
      "Best Hyperparameters: {'learning_rate': 0.08, 'max_depth': 10, 'max_iter': 100, 'min_samples_leaf': 15}\n",
      "Best Histogram-based Gradient Boosting Classification Tree without Scaling\n",
      "CV Training Best F1-Score: 0.8045330722729274\n",
      "Test F1-Score: 0.8311688311688312\n",
      "Test Accuracy: 0.8368200836820083\n",
      "Tuning Runtime: 447 sec\n"
     ]
    }
   ],
   "source": [
    "model_name = 'Best Histogram-based Gradient Boosting Classification Tree without Scaling'\n",
    "start = dt.datetime.now()\n",
    "df = data.copy()\n",
    "\n",
    "X = df.iloc[:,1:]\n",
    "y = df.iloc[:,0]\n",
    "X_train, X_test, y_train, y_test = train_test_split(X, y, test_size=0.2, random_state=42)\n",
    "\n",
    "\n",
    "hgb_classifier = HistGradientBoostingClassifier(random_state=42)\n",
    "\n",
    "param_grid = {\n",
    "    'learning_rate': [x/100 for x in list(range(2,9))],\n",
    "    'max_iter': [100],\n",
    "    'max_depth': [None, 5, 10],\n",
    "    'min_samples_leaf': [15, 20, 25]\n",
    "}\n",
    "\n",
    "# Use StratifiedKFold for cross-validation\n",
    "stratified_cv = StratifiedKFold(n_splits=5, shuffle=True, random_state=42)\n",
    "\n",
    "hgb_grid_search = GridSearchCV(hgb_classifier, param_grid, cv=stratified_cv, scoring='f1')\n",
    "hgb_grid_search.fit(X_train, y_train)\n",
    "\n",
    "print(\"Best Hyperparameters:\", hgb_grid_search.best_params_)\n",
    "\n",
    "# Get the best model from the grid search\n",
    "best_hgb_model = hgb_grid_search.best_estimator_\n",
    "\n",
    "# Make predictions on the test set\n",
    "y_pred = best_hgb_model.predict(X_test)\n",
    "\n",
    "# Evaluate the accuracy of the model\n",
    "f1 = f1_score(y_test, y_pred)\n",
    "accuracy = accuracy_score(y_test, y_pred)\n",
    "\n",
    "runtime = (dt.datetime.now() - start).seconds\n",
    "print(model_name)\n",
    "print('CV Training Best F1-Score:', hgb_grid_search.best_score_)\n",
    "print(\"Test F1-Score:\", f1)\n",
    "print(\"Test Accuracy:\", accuracy)\n",
    "print('Tuning Runtime:', runtime, 'sec')\n",
    "\n",
    "parameters_str = ', '.join([f'{key}: {value}' for key,value in hgb_grid_search.best_params_.items()])\n",
    "tuned_results[model_name] = [f1,accuracy,parameters_str, runtime]"
   ]
  },
  {
   "cell_type": "code",
   "execution_count": 54,
   "id": "1467aa36",
   "metadata": {
    "pycharm": {
     "name": "#%%\n"
    }
   },
   "outputs": [
    {
     "name": "stderr",
     "output_type": "stream",
     "text": [
      "C:\\Users\\nwheatle\\Anaconda3\\lib\\site-packages\\ipykernel\\ipkernel.py:287: DeprecationWarning: `should_run_async` will not call `transform_cell` automatically in the future. Please pass the result to `transformed_cell` argument and any exception that happen during thetransform in `preprocessing_exc_tuple` in IPython 7.17 and above.\n",
      "  and should_run_async(code)\n"
     ]
    },
    {
     "data": {
      "text/plain": [
       "Index(['won', 'underdog', 'underdog_opp', 'fan_favorite', 'fan_favorite_opp',\n",
       "       'de', 'oe', 'te', 'pace', 'physicality_score', 'sos', 'srs', 'fg',\n",
       "       'fga', 'fg%', '3p', '3pa', '3p%', 'ft', 'fta', 'ft%', 'orb', 'drb',\n",
       "       'trb', 'ast', 'stl', 'blk', 'pf', 'tov', 'tov%', 'poss', 'ast_per_poss',\n",
       "       'ast_per_fg', 'tov_per_poss', 'ast_to_tov', 'game_win_rate',\n",
       "       'gpt_sent_score_avg', 'de_opp', 'oe_opp', 'te_opp', 'pace_opp',\n",
       "       'physicality_score_opp', 'sos_opp', 'srs_opp', 'fg_opp', 'fga_opp',\n",
       "       'fg%_opp', '3p_opp', '3pa_opp', '3p%_opp', 'ft_opp', 'fta_opp',\n",
       "       'ft%_opp', 'orb_opp', 'drb_opp', 'trb_opp', 'ast_opp', 'stl_opp',\n",
       "       'blk_opp', 'pf_opp', 'tov_opp', 'tov%_opp', 'poss_opp',\n",
       "       'ast_per_poss_opp', 'ast_per_fg_opp', 'tov_per_poss_opp',\n",
       "       'ast_to_tov_opp', 'game_win_rate_opp', 'gpt_sent_score_avg_opp',\n",
       "       'conf_rank', 'conf_rank_opp', 'luck', 'luck_opp', 'choke_rate',\n",
       "       'choke_rate_opp', 'upset_rate', 'upset_rate_opp', '3mean_plus_minus',\n",
       "       '3mean_plus_minus_opp', 'win_streak', 'win_streak_opp',\n",
       "       'matchup_win_rate'],\n",
       "      dtype='object')"
      ]
     },
     "execution_count": 54,
     "metadata": {},
     "output_type": "execute_result"
    }
   ],
   "source": [
    "data.columns"
   ]
  },
  {
   "cell_type": "markdown",
   "id": "399a18e5",
   "metadata": {
    "pycharm": {
     "name": "#%% md\n"
    }
   },
   "source": [
    "#### Try with differenced columns:"
   ]
  },
  {
   "cell_type": "code",
   "execution_count": 55,
   "id": "d284950e",
   "metadata": {
    "pycharm": {
     "name": "#%%\n"
    }
   },
   "outputs": [
    {
     "name": "stderr",
     "output_type": "stream",
     "text": [
      "C:\\Users\\nwheatle\\Anaconda3\\lib\\site-packages\\ipykernel\\ipkernel.py:287: DeprecationWarning: `should_run_async` will not call `transform_cell` automatically in the future. Please pass the result to `transformed_cell` argument and any exception that happen during thetransform in `preprocessing_exc_tuple` in IPython 7.17 and above.\n",
      "  and should_run_async(code)\n"
     ]
    }
   ],
   "source": [
    "data1 = data.copy()\n",
    "drop_cols = []\n",
    "for col in data.columns[1:].tolist():\n",
    "    if col+'_opp' in data.columns:\n",
    "        drop_cols.append(col)\n",
    "        drop_cols.append(col+'_opp')\n",
    "        data1[col+'_diff'] = data1[col] - data1[col+'_opp']\n",
    "    \n",
    "data1.drop(drop_cols, axis=1, inplace=True)"
   ]
  },
  {
   "cell_type": "code",
   "execution_count": 56,
   "id": "91a332de",
   "metadata": {
    "scrolled": true,
    "pycharm": {
     "name": "#%%\n"
    }
   },
   "outputs": [
    {
     "name": "stderr",
     "output_type": "stream",
     "text": [
      "C:\\Users\\nwheatle\\Anaconda3\\lib\\site-packages\\ipykernel\\ipkernel.py:287: DeprecationWarning: `should_run_async` will not call `transform_cell` automatically in the future. Please pass the result to `transformed_cell` argument and any exception that happen during thetransform in `preprocessing_exc_tuple` in IPython 7.17 and above.\n",
      "  and should_run_async(code)\n"
     ]
    },
    {
     "data": {
      "text/plain": [
       "Index(['won', 'matchup_win_rate', 'underdog_diff', 'fan_favorite_diff',\n",
       "       'de_diff', 'oe_diff', 'te_diff', 'pace_diff', 'physicality_score_diff',\n",
       "       'sos_diff', 'srs_diff', 'fg_diff', 'fga_diff', 'fg%_diff', '3p_diff',\n",
       "       '3pa_diff', '3p%_diff', 'ft_diff', 'fta_diff', 'ft%_diff', 'orb_diff',\n",
       "       'drb_diff', 'trb_diff', 'ast_diff', 'stl_diff', 'blk_diff', 'pf_diff',\n",
       "       'tov_diff', 'tov%_diff', 'poss_diff', 'ast_per_poss_diff',\n",
       "       'ast_per_fg_diff', 'tov_per_poss_diff', 'ast_to_tov_diff',\n",
       "       'game_win_rate_diff', 'gpt_sent_score_avg_diff', 'conf_rank_diff',\n",
       "       'luck_diff', 'choke_rate_diff', 'upset_rate_diff',\n",
       "       '3mean_plus_minus_diff', 'win_streak_diff'],\n",
       "      dtype='object')"
      ]
     },
     "execution_count": 56,
     "metadata": {},
     "output_type": "execute_result"
    }
   ],
   "source": [
    "data1.columns"
   ]
  },
  {
   "cell_type": "code",
   "execution_count": 58,
   "id": "455ace0c",
   "metadata": {
    "pycharm": {
     "name": "#%%\n"
    }
   },
   "outputs": [
    {
     "name": "stderr",
     "output_type": "stream",
     "text": [
      "C:\\Users\\nwheatle\\Anaconda3\\lib\\site-packages\\ipykernel\\ipkernel.py:287: DeprecationWarning: `should_run_async` will not call `transform_cell` automatically in the future. Please pass the result to `transformed_cell` argument and any exception that happen during thetransform in `preprocessing_exc_tuple` in IPython 7.17 and above.\n",
      "  and should_run_async(code)\n"
     ]
    },
    {
     "name": "stdout",
     "output_type": "stream",
     "text": [
      "Best Hyperparameters: {'learning_rate': 0.03, 'max_depth': 5, 'max_iter': 100, 'min_samples_leaf': 20}\n",
      "Best Histogram-based Gradient Boosting Classification Tree - team_opp_metric_difference\n",
      "CV Training Best F1-Score: 0.8256340947108616\n",
      "Test F1-Score: 0.8326180257510729\n",
      "Test Accuracy: 0.8368200836820083\n",
      "Tuning Runtime: 284 sec\n"
     ]
    }
   ],
   "source": [
    "model_name = 'Best Histogram-based Gradient Boosting Classification Tree - team_opp_metric_difference'\n",
    "start = dt.datetime.now()\n",
    "df = data1.copy()\n",
    "\n",
    "X = df.iloc[:,1:]\n",
    "y = df.iloc[:,0]\n",
    "X_train, X_test, y_train, y_test = train_test_split(X, y, test_size=0.2, random_state=42)\n",
    "\n",
    "# for scaler in [StandardScaler(), MinMaxScaler()]:\n",
    "#     X_train = scaler.fit_transform(X_train)\n",
    "#     X_test = scaler.transform(X_test)\n",
    "\n",
    "\n",
    "hgb_classifier = HistGradientBoostingClassifier(random_state=42)\n",
    "\n",
    "param_grid = {\n",
    "    'learning_rate': [x/100 for x in list(range(2,9))],\n",
    "    'max_iter': [100],\n",
    "    'max_depth': [None, 5, 10],\n",
    "    'min_samples_leaf': [15, 20, 25]\n",
    "}\n",
    "\n",
    "# Use StratifiedKFold for cross-validation\n",
    "stratified_cv = StratifiedKFold(n_splits=5, shuffle=True, random_state=42)\n",
    "\n",
    "hgb_grid_search = GridSearchCV(hgb_classifier, param_grid, cv=stratified_cv, scoring='f1')\n",
    "hgb_grid_search.fit(X_train, y_train)\n",
    "\n",
    "print(\"Best Hyperparameters:\", hgb_grid_search.best_params_)\n",
    "\n",
    "# Get the best model from the grid search\n",
    "best_hgb_model = hgb_grid_search.best_estimator_\n",
    "\n",
    "# Make predictions on the test set\n",
    "y_pred = best_hgb_model.predict(X_test)\n",
    "\n",
    "# Evaluate the accuracy of the model\n",
    "f1 = f1_score(y_test, y_pred)\n",
    "accuracy = accuracy_score(y_test, y_pred)\n",
    "\n",
    "runtime = (dt.datetime.now() - start).seconds\n",
    "print(model_name)\n",
    "print('CV Training Best F1-Score:', hgb_grid_search.best_score_)\n",
    "print(\"Test F1-Score:\", f1)\n",
    "print(\"Test Accuracy:\", accuracy)\n",
    "print('Tuning Runtime:', runtime, 'sec')\n",
    "\n",
    "parameters_str = ', '.join([f'{key}: {value}' for key,value in hgb_grid_search.best_params_.items()])\n",
    "tuned_results[model_name] = [f1,accuracy,parameters_str, runtime]"
   ]
  },
  {
   "cell_type": "markdown",
   "id": "397849e7-e514-4827-8d84-e5b56ba4659a",
   "metadata": {
    "pycharm": {
     "name": "#%% md\n"
    }
   },
   "source": [
    "## Tune Logistic Regression"
   ]
  },
  {
   "cell_type": "code",
   "execution_count": 51,
   "id": "a71db740-3827-45a0-9c74-b7fa560f13ea",
   "metadata": {
    "pycharm": {
     "name": "#%%\n"
    }
   },
   "outputs": [
    {
     "ename": "ValueError",
     "evalue": "Solver lbfgs supports only 'l2' or 'none' penalties, got l1 penalty.",
     "output_type": "error",
     "traceback": [
      "\u001B[1;31m---------------------------------------------------------------------------\u001B[0m",
      "\u001B[1;31mValueError\u001B[0m                                Traceback (most recent call last)",
      "\u001B[1;32m<ipython-input-51-78a75ab45874>\u001B[0m in \u001B[0;36m<module>\u001B[1;34m\u001B[0m\n\u001B[0;32m     26\u001B[0m \u001B[1;33m\u001B[0m\u001B[0m\n\u001B[0;32m     27\u001B[0m \u001B[0mlg_grid_search\u001B[0m \u001B[1;33m=\u001B[0m \u001B[0mGridSearchCV\u001B[0m\u001B[1;33m(\u001B[0m\u001B[0mlg_classifier\u001B[0m\u001B[1;33m,\u001B[0m \u001B[0mparam_grid\u001B[0m\u001B[1;33m,\u001B[0m \u001B[0mcv\u001B[0m\u001B[1;33m=\u001B[0m\u001B[0mstratified_cv\u001B[0m\u001B[1;33m,\u001B[0m \u001B[0mscoring\u001B[0m\u001B[1;33m=\u001B[0m\u001B[1;34m'f1'\u001B[0m\u001B[1;33m)\u001B[0m\u001B[1;33m\u001B[0m\u001B[1;33m\u001B[0m\u001B[0m\n\u001B[1;32m---> 28\u001B[1;33m \u001B[0mlg_grid_search\u001B[0m\u001B[1;33m.\u001B[0m\u001B[0mfit\u001B[0m\u001B[1;33m(\u001B[0m\u001B[0mX_train\u001B[0m\u001B[1;33m,\u001B[0m \u001B[0my_train\u001B[0m\u001B[1;33m)\u001B[0m\u001B[1;33m\u001B[0m\u001B[1;33m\u001B[0m\u001B[0m\n\u001B[0m\u001B[0;32m     29\u001B[0m \u001B[1;33m\u001B[0m\u001B[0m\n\u001B[0;32m     30\u001B[0m \u001B[0mprint\u001B[0m\u001B[1;33m(\u001B[0m\u001B[1;34m\"Best Hyperparameters:\"\u001B[0m\u001B[1;33m,\u001B[0m \u001B[0mlg_grid_search\u001B[0m\u001B[1;33m.\u001B[0m\u001B[0mbest_params_\u001B[0m\u001B[1;33m)\u001B[0m\u001B[1;33m\u001B[0m\u001B[1;33m\u001B[0m\u001B[0m\n",
      "\u001B[1;32m~\\Anaconda3\\lib\\site-packages\\sklearn\\model_selection\\_search.py\u001B[0m in \u001B[0;36mfit\u001B[1;34m(self, X, y, groups, **fit_params)\u001B[0m\n\u001B[0;32m    908\u001B[0m             \u001B[0mrefit_start_time\u001B[0m \u001B[1;33m=\u001B[0m \u001B[0mtime\u001B[0m\u001B[1;33m.\u001B[0m\u001B[0mtime\u001B[0m\u001B[1;33m(\u001B[0m\u001B[1;33m)\u001B[0m\u001B[1;33m\u001B[0m\u001B[1;33m\u001B[0m\u001B[0m\n\u001B[0;32m    909\u001B[0m             \u001B[1;32mif\u001B[0m \u001B[0my\u001B[0m \u001B[1;32mis\u001B[0m \u001B[1;32mnot\u001B[0m \u001B[1;32mNone\u001B[0m\u001B[1;33m:\u001B[0m\u001B[1;33m\u001B[0m\u001B[1;33m\u001B[0m\u001B[0m\n\u001B[1;32m--> 910\u001B[1;33m                 \u001B[0mself\u001B[0m\u001B[1;33m.\u001B[0m\u001B[0mbest_estimator_\u001B[0m\u001B[1;33m.\u001B[0m\u001B[0mfit\u001B[0m\u001B[1;33m(\u001B[0m\u001B[0mX\u001B[0m\u001B[1;33m,\u001B[0m \u001B[0my\u001B[0m\u001B[1;33m,\u001B[0m \u001B[1;33m**\u001B[0m\u001B[0mfit_params\u001B[0m\u001B[1;33m)\u001B[0m\u001B[1;33m\u001B[0m\u001B[1;33m\u001B[0m\u001B[0m\n\u001B[0m\u001B[0;32m    911\u001B[0m             \u001B[1;32melse\u001B[0m\u001B[1;33m:\u001B[0m\u001B[1;33m\u001B[0m\u001B[1;33m\u001B[0m\u001B[0m\n\u001B[0;32m    912\u001B[0m                 \u001B[0mself\u001B[0m\u001B[1;33m.\u001B[0m\u001B[0mbest_estimator_\u001B[0m\u001B[1;33m.\u001B[0m\u001B[0mfit\u001B[0m\u001B[1;33m(\u001B[0m\u001B[0mX\u001B[0m\u001B[1;33m,\u001B[0m \u001B[1;33m**\u001B[0m\u001B[0mfit_params\u001B[0m\u001B[1;33m)\u001B[0m\u001B[1;33m\u001B[0m\u001B[1;33m\u001B[0m\u001B[0m\n",
      "\u001B[1;32m~\\Anaconda3\\lib\\site-packages\\sklearn\\linear_model\\_logistic.py\u001B[0m in \u001B[0;36mfit\u001B[1;34m(self, X, y, sample_weight)\u001B[0m\n\u001B[0;32m   1089\u001B[0m         \u001B[0mThe\u001B[0m \u001B[0mSAGA\u001B[0m \u001B[0msolver\u001B[0m \u001B[0msupports\u001B[0m \u001B[0mboth\u001B[0m \u001B[0mfloat64\u001B[0m \u001B[1;32mand\u001B[0m \u001B[0mfloat32\u001B[0m \u001B[0mbit\u001B[0m \u001B[0marrays\u001B[0m\u001B[1;33m.\u001B[0m\u001B[1;33m\u001B[0m\u001B[1;33m\u001B[0m\u001B[0m\n\u001B[0;32m   1090\u001B[0m         \"\"\"\n\u001B[1;32m-> 1091\u001B[1;33m         \u001B[0msolver\u001B[0m \u001B[1;33m=\u001B[0m \u001B[0m_check_solver\u001B[0m\u001B[1;33m(\u001B[0m\u001B[0mself\u001B[0m\u001B[1;33m.\u001B[0m\u001B[0msolver\u001B[0m\u001B[1;33m,\u001B[0m \u001B[0mself\u001B[0m\u001B[1;33m.\u001B[0m\u001B[0mpenalty\u001B[0m\u001B[1;33m,\u001B[0m \u001B[0mself\u001B[0m\u001B[1;33m.\u001B[0m\u001B[0mdual\u001B[0m\u001B[1;33m)\u001B[0m\u001B[1;33m\u001B[0m\u001B[1;33m\u001B[0m\u001B[0m\n\u001B[0m\u001B[0;32m   1092\u001B[0m \u001B[1;33m\u001B[0m\u001B[0m\n\u001B[0;32m   1093\u001B[0m         \u001B[1;32mif\u001B[0m \u001B[1;32mnot\u001B[0m \u001B[0misinstance\u001B[0m\u001B[1;33m(\u001B[0m\u001B[0mself\u001B[0m\u001B[1;33m.\u001B[0m\u001B[0mC\u001B[0m\u001B[1;33m,\u001B[0m \u001B[0mnumbers\u001B[0m\u001B[1;33m.\u001B[0m\u001B[0mNumber\u001B[0m\u001B[1;33m)\u001B[0m \u001B[1;32mor\u001B[0m \u001B[0mself\u001B[0m\u001B[1;33m.\u001B[0m\u001B[0mC\u001B[0m \u001B[1;33m<\u001B[0m \u001B[1;36m0\u001B[0m\u001B[1;33m:\u001B[0m\u001B[1;33m\u001B[0m\u001B[1;33m\u001B[0m\u001B[0m\n",
      "\u001B[1;32m~\\Anaconda3\\lib\\site-packages\\sklearn\\linear_model\\_logistic.py\u001B[0m in \u001B[0;36m_check_solver\u001B[1;34m(solver, penalty, dual)\u001B[0m\n\u001B[0;32m     59\u001B[0m \u001B[1;33m\u001B[0m\u001B[0m\n\u001B[0;32m     60\u001B[0m     \u001B[1;32mif\u001B[0m \u001B[0msolver\u001B[0m \u001B[1;32mnot\u001B[0m \u001B[1;32min\u001B[0m \u001B[1;33m[\u001B[0m\u001B[1;34m\"liblinear\"\u001B[0m\u001B[1;33m,\u001B[0m \u001B[1;34m\"saga\"\u001B[0m\u001B[1;33m]\u001B[0m \u001B[1;32mand\u001B[0m \u001B[0mpenalty\u001B[0m \u001B[1;32mnot\u001B[0m \u001B[1;32min\u001B[0m \u001B[1;33m(\u001B[0m\u001B[1;34m\"l2\"\u001B[0m\u001B[1;33m,\u001B[0m \u001B[1;34m\"none\"\u001B[0m\u001B[1;33m)\u001B[0m\u001B[1;33m:\u001B[0m\u001B[1;33m\u001B[0m\u001B[1;33m\u001B[0m\u001B[0m\n\u001B[1;32m---> 61\u001B[1;33m         raise ValueError(\n\u001B[0m\u001B[0;32m     62\u001B[0m             \u001B[1;34m\"Solver %s supports only 'l2' or 'none' penalties, got %s penalty.\"\u001B[0m\u001B[1;33m\u001B[0m\u001B[1;33m\u001B[0m\u001B[0m\n\u001B[0;32m     63\u001B[0m             \u001B[1;33m%\u001B[0m \u001B[1;33m(\u001B[0m\u001B[0msolver\u001B[0m\u001B[1;33m,\u001B[0m \u001B[0mpenalty\u001B[0m\u001B[1;33m)\u001B[0m\u001B[1;33m\u001B[0m\u001B[1;33m\u001B[0m\u001B[0m\n",
      "\u001B[1;31mValueError\u001B[0m: Solver lbfgs supports only 'l2' or 'none' penalties, got l1 penalty."
     ]
    }
   ],
   "source": [
    "warnings.filterwarnings(\"ignore\")\n",
    "model_name = 'Best Logistic Regression'\n",
    "start = dt.datetime.now()\n",
    "df = data.dropna(axis=1).copy()\n",
    "\n",
    "X = df.iloc[:,1:]\n",
    "y = df.iloc[:,0]\n",
    "X_train, X_test, y_train, y_test = train_test_split(X, y, test_size=0.2, random_state=42)\n",
    "\n",
    "for scaler in [StandardScaler(), MinMaxScaler()]:\n",
    "    X_train = scaler.fit_transform(X_train)\n",
    "    X_test = scaler.transform(X_test)\n",
    "\n",
    "\n",
    "lg_classifier = LogisticRegression(random_state=42)\n",
    "\n",
    "param_grid = {\n",
    "    'C': [0.1, 1, 10],\n",
    "    'penalty': ['l1', 'l2'],\n",
    "    'solver': ['lbfgs','liblinear', 'saga'],\n",
    "    'max_iter':[50,100,1000]\n",
    "}\n",
    "\n",
    "# Use StratifiedKFold for cross-validation\n",
    "stratified_cv = StratifiedKFold(n_splits=5, shuffle=True, random_state=42)\n",
    "\n",
    "lg_grid_search = GridSearchCV(lg_classifier, param_grid, cv=stratified_cv, scoring='f1')\n",
    "lg_grid_search.fit(X_train, y_train)\n",
    "\n",
    "print(\"Best Hyperparameters:\", lg_grid_search.best_params_)\n",
    "\n",
    "# Get the best model from the grid search\n",
    "best_lg_model = lg_grid_search.best_estimator_\n",
    "\n",
    "# Make predictions on the test set\n",
    "y_pred = best_lg_model.predict(X_test)\n",
    "\n",
    "# Evaluate the accuracy of the model\n",
    "f1 = f1_score(y_test, y_pred)\n",
    "accuracy = accuracy_score(y_test, y_pred)\n",
    "\n",
    "runtime = (dt.datetime.now() - start).seconds\n",
    "print(model_name)\n",
    "print('CV Training Best F1-Score:', lg_grid_search.best_score_)\n",
    "print(\"Test F1-Score:\", f1)\n",
    "print(\"Test Accuracy:\", accuracy)\n",
    "print('Tuning Runtime:', runtime, 'sec')\n",
    "\n",
    "parameters_str = ', '.join([f'{key}: {value}' for key,value in lg_grid_search.best_params_.items()])\n",
    "tuned_results[model_name] = [f1,accuracy,parameters_str, runtime]"
   ]
  },
  {
   "cell_type": "markdown",
   "id": "e383fb9f-d7c1-4b98-88d7-10e215f7dd5e",
   "metadata": {
    "pycharm": {
     "name": "#%% md\n"
    }
   },
   "source": [
    "## Tune Stochastic Gradient Descent"
   ]
  },
  {
   "cell_type": "code",
   "execution_count": 52,
   "id": "5a1d4b51-15cd-4d80-bdbb-8f6191d7263a",
   "metadata": {
    "pycharm": {
     "name": "#%%\n"
    }
   },
   "outputs": [
    {
     "name": "stderr",
     "output_type": "stream",
     "text": [
      "C:\\Users\\nwheatle\\Anaconda3\\lib\\site-packages\\sklearn\\linear_model\\_stochastic_gradient.py:173: FutureWarning: The loss 'log' was deprecated in v1.1 and will be removed in version 1.3. Use `loss='log_loss'` which is equivalent.\n",
      "  warnings.warn(\n",
      "C:\\Users\\nwheatle\\Anaconda3\\lib\\site-packages\\sklearn\\linear_model\\_stochastic_gradient.py:173: FutureWarning: The loss 'log' was deprecated in v1.1 and will be removed in version 1.3. Use `loss='log_loss'` which is equivalent.\n",
      "  warnings.warn(\n",
      "C:\\Users\\nwheatle\\Anaconda3\\lib\\site-packages\\sklearn\\linear_model\\_stochastic_gradient.py:173: FutureWarning: The loss 'log' was deprecated in v1.1 and will be removed in version 1.3. Use `loss='log_loss'` which is equivalent.\n",
      "  warnings.warn(\n",
      "C:\\Users\\nwheatle\\Anaconda3\\lib\\site-packages\\sklearn\\linear_model\\_stochastic_gradient.py:173: FutureWarning: The loss 'log' was deprecated in v1.1 and will be removed in version 1.3. Use `loss='log_loss'` which is equivalent.\n",
      "  warnings.warn(\n",
      "C:\\Users\\nwheatle\\Anaconda3\\lib\\site-packages\\sklearn\\linear_model\\_stochastic_gradient.py:173: FutureWarning: The loss 'log' was deprecated in v1.1 and will be removed in version 1.3. Use `loss='log_loss'` which is equivalent.\n",
      "  warnings.warn(\n",
      "C:\\Users\\nwheatle\\Anaconda3\\lib\\site-packages\\sklearn\\linear_model\\_stochastic_gradient.py:173: FutureWarning: The loss 'log' was deprecated in v1.1 and will be removed in version 1.3. Use `loss='log_loss'` which is equivalent.\n",
      "  warnings.warn(\n",
      "C:\\Users\\nwheatle\\Anaconda3\\lib\\site-packages\\sklearn\\linear_model\\_stochastic_gradient.py:173: FutureWarning: The loss 'log' was deprecated in v1.1 and will be removed in version 1.3. Use `loss='log_loss'` which is equivalent.\n",
      "  warnings.warn(\n",
      "C:\\Users\\nwheatle\\Anaconda3\\lib\\site-packages\\sklearn\\linear_model\\_stochastic_gradient.py:173: FutureWarning: The loss 'log' was deprecated in v1.1 and will be removed in version 1.3. Use `loss='log_loss'` which is equivalent.\n",
      "  warnings.warn(\n",
      "C:\\Users\\nwheatle\\Anaconda3\\lib\\site-packages\\sklearn\\linear_model\\_stochastic_gradient.py:173: FutureWarning: The loss 'log' was deprecated in v1.1 and will be removed in version 1.3. Use `loss='log_loss'` which is equivalent.\n",
      "  warnings.warn(\n",
      "C:\\Users\\nwheatle\\Anaconda3\\lib\\site-packages\\sklearn\\linear_model\\_stochastic_gradient.py:173: FutureWarning: The loss 'log' was deprecated in v1.1 and will be removed in version 1.3. Use `loss='log_loss'` which is equivalent.\n",
      "  warnings.warn(\n",
      "C:\\Users\\nwheatle\\Anaconda3\\lib\\site-packages\\sklearn\\linear_model\\_stochastic_gradient.py:173: FutureWarning: The loss 'log' was deprecated in v1.1 and will be removed in version 1.3. Use `loss='log_loss'` which is equivalent.\n",
      "  warnings.warn(\n",
      "C:\\Users\\nwheatle\\Anaconda3\\lib\\site-packages\\sklearn\\linear_model\\_stochastic_gradient.py:173: FutureWarning: The loss 'log' was deprecated in v1.1 and will be removed in version 1.3. Use `loss='log_loss'` which is equivalent.\n",
      "  warnings.warn(\n",
      "C:\\Users\\nwheatle\\Anaconda3\\lib\\site-packages\\sklearn\\linear_model\\_stochastic_gradient.py:173: FutureWarning: The loss 'log' was deprecated in v1.1 and will be removed in version 1.3. Use `loss='log_loss'` which is equivalent.\n",
      "  warnings.warn(\n",
      "C:\\Users\\nwheatle\\Anaconda3\\lib\\site-packages\\sklearn\\linear_model\\_stochastic_gradient.py:173: FutureWarning: The loss 'log' was deprecated in v1.1 and will be removed in version 1.3. Use `loss='log_loss'` which is equivalent.\n",
      "  warnings.warn(\n",
      "C:\\Users\\nwheatle\\Anaconda3\\lib\\site-packages\\sklearn\\linear_model\\_stochastic_gradient.py:173: FutureWarning: The loss 'log' was deprecated in v1.1 and will be removed in version 1.3. Use `loss='log_loss'` which is equivalent.\n",
      "  warnings.warn(\n",
      "C:\\Users\\nwheatle\\Anaconda3\\lib\\site-packages\\sklearn\\linear_model\\_stochastic_gradient.py:173: FutureWarning: The loss 'log' was deprecated in v1.1 and will be removed in version 1.3. Use `loss='log_loss'` which is equivalent.\n",
      "  warnings.warn(\n",
      "C:\\Users\\nwheatle\\Anaconda3\\lib\\site-packages\\sklearn\\linear_model\\_stochastic_gradient.py:173: FutureWarning: The loss 'log' was deprecated in v1.1 and will be removed in version 1.3. Use `loss='log_loss'` which is equivalent.\n",
      "  warnings.warn(\n",
      "C:\\Users\\nwheatle\\Anaconda3\\lib\\site-packages\\sklearn\\linear_model\\_stochastic_gradient.py:173: FutureWarning: The loss 'log' was deprecated in v1.1 and will be removed in version 1.3. Use `loss='log_loss'` which is equivalent.\n",
      "  warnings.warn(\n",
      "C:\\Users\\nwheatle\\Anaconda3\\lib\\site-packages\\sklearn\\linear_model\\_stochastic_gradient.py:173: FutureWarning: The loss 'log' was deprecated in v1.1 and will be removed in version 1.3. Use `loss='log_loss'` which is equivalent.\n",
      "  warnings.warn(\n",
      "C:\\Users\\nwheatle\\Anaconda3\\lib\\site-packages\\sklearn\\linear_model\\_stochastic_gradient.py:173: FutureWarning: The loss 'log' was deprecated in v1.1 and will be removed in version 1.3. Use `loss='log_loss'` which is equivalent.\n",
      "  warnings.warn(\n",
      "C:\\Users\\nwheatle\\Anaconda3\\lib\\site-packages\\sklearn\\linear_model\\_stochastic_gradient.py:173: FutureWarning: The loss 'log' was deprecated in v1.1 and will be removed in version 1.3. Use `loss='log_loss'` which is equivalent.\n",
      "  warnings.warn(\n",
      "C:\\Users\\nwheatle\\Anaconda3\\lib\\site-packages\\sklearn\\linear_model\\_stochastic_gradient.py:173: FutureWarning: The loss 'log' was deprecated in v1.1 and will be removed in version 1.3. Use `loss='log_loss'` which is equivalent.\n",
      "  warnings.warn(\n",
      "C:\\Users\\nwheatle\\Anaconda3\\lib\\site-packages\\sklearn\\linear_model\\_stochastic_gradient.py:173: FutureWarning: The loss 'log' was deprecated in v1.1 and will be removed in version 1.3. Use `loss='log_loss'` which is equivalent.\n",
      "  warnings.warn(\n",
      "C:\\Users\\nwheatle\\Anaconda3\\lib\\site-packages\\sklearn\\linear_model\\_stochastic_gradient.py:173: FutureWarning: The loss 'log' was deprecated in v1.1 and will be removed in version 1.3. Use `loss='log_loss'` which is equivalent.\n",
      "  warnings.warn(\n",
      "C:\\Users\\nwheatle\\Anaconda3\\lib\\site-packages\\sklearn\\linear_model\\_stochastic_gradient.py:173: FutureWarning: The loss 'log' was deprecated in v1.1 and will be removed in version 1.3. Use `loss='log_loss'` which is equivalent.\n",
      "  warnings.warn(\n",
      "C:\\Users\\nwheatle\\Anaconda3\\lib\\site-packages\\sklearn\\linear_model\\_stochastic_gradient.py:173: FutureWarning: The loss 'log' was deprecated in v1.1 and will be removed in version 1.3. Use `loss='log_loss'` which is equivalent.\n",
      "  warnings.warn(\n",
      "C:\\Users\\nwheatle\\Anaconda3\\lib\\site-packages\\sklearn\\linear_model\\_stochastic_gradient.py:173: FutureWarning: The loss 'log' was deprecated in v1.1 and will be removed in version 1.3. Use `loss='log_loss'` which is equivalent.\n",
      "  warnings.warn(\n",
      "C:\\Users\\nwheatle\\Anaconda3\\lib\\site-packages\\sklearn\\linear_model\\_stochastic_gradient.py:173: FutureWarning: The loss 'log' was deprecated in v1.1 and will be removed in version 1.3. Use `loss='log_loss'` which is equivalent.\n",
      "  warnings.warn(\n",
      "C:\\Users\\nwheatle\\Anaconda3\\lib\\site-packages\\sklearn\\linear_model\\_stochastic_gradient.py:173: FutureWarning: The loss 'log' was deprecated in v1.1 and will be removed in version 1.3. Use `loss='log_loss'` which is equivalent.\n",
      "  warnings.warn(\n",
      "C:\\Users\\nwheatle\\Anaconda3\\lib\\site-packages\\sklearn\\linear_model\\_stochastic_gradient.py:173: FutureWarning: The loss 'log' was deprecated in v1.1 and will be removed in version 1.3. Use `loss='log_loss'` which is equivalent.\n",
      "  warnings.warn(\n",
      "C:\\Users\\nwheatle\\Anaconda3\\lib\\site-packages\\sklearn\\linear_model\\_stochastic_gradient.py:173: FutureWarning: The loss 'log' was deprecated in v1.1 and will be removed in version 1.3. Use `loss='log_loss'` which is equivalent.\n",
      "  warnings.warn(\n",
      "C:\\Users\\nwheatle\\Anaconda3\\lib\\site-packages\\sklearn\\linear_model\\_stochastic_gradient.py:173: FutureWarning: The loss 'log' was deprecated in v1.1 and will be removed in version 1.3. Use `loss='log_loss'` which is equivalent.\n",
      "  warnings.warn(\n",
      "C:\\Users\\nwheatle\\Anaconda3\\lib\\site-packages\\sklearn\\linear_model\\_stochastic_gradient.py:173: FutureWarning: The loss 'log' was deprecated in v1.1 and will be removed in version 1.3. Use `loss='log_loss'` which is equivalent.\n",
      "  warnings.warn(\n",
      "C:\\Users\\nwheatle\\Anaconda3\\lib\\site-packages\\sklearn\\linear_model\\_stochastic_gradient.py:173: FutureWarning: The loss 'log' was deprecated in v1.1 and will be removed in version 1.3. Use `loss='log_loss'` which is equivalent.\n",
      "  warnings.warn(\n",
      "C:\\Users\\nwheatle\\Anaconda3\\lib\\site-packages\\sklearn\\linear_model\\_stochastic_gradient.py:173: FutureWarning: The loss 'log' was deprecated in v1.1 and will be removed in version 1.3. Use `loss='log_loss'` which is equivalent.\n",
      "  warnings.warn(\n",
      "C:\\Users\\nwheatle\\Anaconda3\\lib\\site-packages\\sklearn\\linear_model\\_stochastic_gradient.py:173: FutureWarning: The loss 'log' was deprecated in v1.1 and will be removed in version 1.3. Use `loss='log_loss'` which is equivalent.\n",
      "  warnings.warn(\n",
      "C:\\Users\\nwheatle\\Anaconda3\\lib\\site-packages\\sklearn\\linear_model\\_stochastic_gradient.py:173: FutureWarning: The loss 'log' was deprecated in v1.1 and will be removed in version 1.3. Use `loss='log_loss'` which is equivalent.\n",
      "  warnings.warn(\n",
      "C:\\Users\\nwheatle\\Anaconda3\\lib\\site-packages\\sklearn\\linear_model\\_stochastic_gradient.py:173: FutureWarning: The loss 'log' was deprecated in v1.1 and will be removed in version 1.3. Use `loss='log_loss'` which is equivalent.\n",
      "  warnings.warn(\n",
      "C:\\Users\\nwheatle\\Anaconda3\\lib\\site-packages\\sklearn\\linear_model\\_stochastic_gradient.py:173: FutureWarning: The loss 'log' was deprecated in v1.1 and will be removed in version 1.3. Use `loss='log_loss'` which is equivalent.\n",
      "  warnings.warn(\n",
      "C:\\Users\\nwheatle\\Anaconda3\\lib\\site-packages\\sklearn\\linear_model\\_stochastic_gradient.py:173: FutureWarning: The loss 'log' was deprecated in v1.1 and will be removed in version 1.3. Use `loss='log_loss'` which is equivalent.\n",
      "  warnings.warn(\n",
      "C:\\Users\\nwheatle\\Anaconda3\\lib\\site-packages\\sklearn\\linear_model\\_stochastic_gradient.py:173: FutureWarning: The loss 'log' was deprecated in v1.1 and will be removed in version 1.3. Use `loss='log_loss'` which is equivalent.\n",
      "  warnings.warn(\n",
      "C:\\Users\\nwheatle\\Anaconda3\\lib\\site-packages\\sklearn\\linear_model\\_stochastic_gradient.py:173: FutureWarning: The loss 'log' was deprecated in v1.1 and will be removed in version 1.3. Use `loss='log_loss'` which is equivalent.\n",
      "  warnings.warn(\n"
     ]
    },
    {
     "name": "stderr",
     "output_type": "stream",
     "text": [
      "C:\\Users\\nwheatle\\Anaconda3\\lib\\site-packages\\sklearn\\linear_model\\_stochastic_gradient.py:173: FutureWarning: The loss 'log' was deprecated in v1.1 and will be removed in version 1.3. Use `loss='log_loss'` which is equivalent.\n",
      "  warnings.warn(\n",
      "C:\\Users\\nwheatle\\Anaconda3\\lib\\site-packages\\sklearn\\linear_model\\_stochastic_gradient.py:173: FutureWarning: The loss 'log' was deprecated in v1.1 and will be removed in version 1.3. Use `loss='log_loss'` which is equivalent.\n",
      "  warnings.warn(\n",
      "C:\\Users\\nwheatle\\Anaconda3\\lib\\site-packages\\sklearn\\linear_model\\_stochastic_gradient.py:173: FutureWarning: The loss 'log' was deprecated in v1.1 and will be removed in version 1.3. Use `loss='log_loss'` which is equivalent.\n",
      "  warnings.warn(\n",
      "C:\\Users\\nwheatle\\Anaconda3\\lib\\site-packages\\sklearn\\linear_model\\_stochastic_gradient.py:173: FutureWarning: The loss 'log' was deprecated in v1.1 and will be removed in version 1.3. Use `loss='log_loss'` which is equivalent.\n",
      "  warnings.warn(\n",
      "C:\\Users\\nwheatle\\Anaconda3\\lib\\site-packages\\sklearn\\linear_model\\_stochastic_gradient.py:173: FutureWarning: The loss 'log' was deprecated in v1.1 and will be removed in version 1.3. Use `loss='log_loss'` which is equivalent.\n",
      "  warnings.warn(\n",
      "C:\\Users\\nwheatle\\Anaconda3\\lib\\site-packages\\sklearn\\linear_model\\_stochastic_gradient.py:173: FutureWarning: The loss 'log' was deprecated in v1.1 and will be removed in version 1.3. Use `loss='log_loss'` which is equivalent.\n",
      "  warnings.warn(\n",
      "C:\\Users\\nwheatle\\Anaconda3\\lib\\site-packages\\sklearn\\linear_model\\_stochastic_gradient.py:173: FutureWarning: The loss 'log' was deprecated in v1.1 and will be removed in version 1.3. Use `loss='log_loss'` which is equivalent.\n",
      "  warnings.warn(\n",
      "C:\\Users\\nwheatle\\Anaconda3\\lib\\site-packages\\sklearn\\linear_model\\_stochastic_gradient.py:173: FutureWarning: The loss 'log' was deprecated in v1.1 and will be removed in version 1.3. Use `loss='log_loss'` which is equivalent.\n",
      "  warnings.warn(\n",
      "C:\\Users\\nwheatle\\Anaconda3\\lib\\site-packages\\sklearn\\linear_model\\_stochastic_gradient.py:173: FutureWarning: The loss 'log' was deprecated in v1.1 and will be removed in version 1.3. Use `loss='log_loss'` which is equivalent.\n",
      "  warnings.warn(\n",
      "C:\\Users\\nwheatle\\Anaconda3\\lib\\site-packages\\sklearn\\linear_model\\_stochastic_gradient.py:173: FutureWarning: The loss 'log' was deprecated in v1.1 and will be removed in version 1.3. Use `loss='log_loss'` which is equivalent.\n",
      "  warnings.warn(\n",
      "C:\\Users\\nwheatle\\Anaconda3\\lib\\site-packages\\sklearn\\linear_model\\_stochastic_gradient.py:173: FutureWarning: The loss 'log' was deprecated in v1.1 and will be removed in version 1.3. Use `loss='log_loss'` which is equivalent.\n",
      "  warnings.warn(\n",
      "C:\\Users\\nwheatle\\Anaconda3\\lib\\site-packages\\sklearn\\linear_model\\_stochastic_gradient.py:173: FutureWarning: The loss 'log' was deprecated in v1.1 and will be removed in version 1.3. Use `loss='log_loss'` which is equivalent.\n",
      "  warnings.warn(\n",
      "C:\\Users\\nwheatle\\Anaconda3\\lib\\site-packages\\sklearn\\linear_model\\_stochastic_gradient.py:173: FutureWarning: The loss 'log' was deprecated in v1.1 and will be removed in version 1.3. Use `loss='log_loss'` which is equivalent.\n",
      "  warnings.warn(\n",
      "C:\\Users\\nwheatle\\Anaconda3\\lib\\site-packages\\sklearn\\linear_model\\_stochastic_gradient.py:173: FutureWarning: The loss 'log' was deprecated in v1.1 and will be removed in version 1.3. Use `loss='log_loss'` which is equivalent.\n",
      "  warnings.warn(\n",
      "C:\\Users\\nwheatle\\Anaconda3\\lib\\site-packages\\sklearn\\linear_model\\_stochastic_gradient.py:173: FutureWarning: The loss 'log' was deprecated in v1.1 and will be removed in version 1.3. Use `loss='log_loss'` which is equivalent.\n",
      "  warnings.warn(\n",
      "C:\\Users\\nwheatle\\Anaconda3\\lib\\site-packages\\sklearn\\linear_model\\_stochastic_gradient.py:173: FutureWarning: The loss 'log' was deprecated in v1.1 and will be removed in version 1.3. Use `loss='log_loss'` which is equivalent.\n",
      "  warnings.warn(\n",
      "C:\\Users\\nwheatle\\Anaconda3\\lib\\site-packages\\sklearn\\linear_model\\_stochastic_gradient.py:173: FutureWarning: The loss 'log' was deprecated in v1.1 and will be removed in version 1.3. Use `loss='log_loss'` which is equivalent.\n",
      "  warnings.warn(\n",
      "C:\\Users\\nwheatle\\Anaconda3\\lib\\site-packages\\sklearn\\linear_model\\_stochastic_gradient.py:173: FutureWarning: The loss 'log' was deprecated in v1.1 and will be removed in version 1.3. Use `loss='log_loss'` which is equivalent.\n",
      "  warnings.warn(\n",
      "C:\\Users\\nwheatle\\Anaconda3\\lib\\site-packages\\sklearn\\linear_model\\_stochastic_gradient.py:173: FutureWarning: The loss 'log' was deprecated in v1.1 and will be removed in version 1.3. Use `loss='log_loss'` which is equivalent.\n",
      "  warnings.warn(\n",
      "C:\\Users\\nwheatle\\Anaconda3\\lib\\site-packages\\sklearn\\linear_model\\_stochastic_gradient.py:173: FutureWarning: The loss 'log' was deprecated in v1.1 and will be removed in version 1.3. Use `loss='log_loss'` which is equivalent.\n",
      "  warnings.warn(\n",
      "C:\\Users\\nwheatle\\Anaconda3\\lib\\site-packages\\sklearn\\linear_model\\_stochastic_gradient.py:173: FutureWarning: The loss 'log' was deprecated in v1.1 and will be removed in version 1.3. Use `loss='log_loss'` which is equivalent.\n",
      "  warnings.warn(\n",
      "C:\\Users\\nwheatle\\Anaconda3\\lib\\site-packages\\sklearn\\linear_model\\_stochastic_gradient.py:173: FutureWarning: The loss 'log' was deprecated in v1.1 and will be removed in version 1.3. Use `loss='log_loss'` which is equivalent.\n",
      "  warnings.warn(\n",
      "C:\\Users\\nwheatle\\Anaconda3\\lib\\site-packages\\sklearn\\linear_model\\_stochastic_gradient.py:173: FutureWarning: The loss 'log' was deprecated in v1.1 and will be removed in version 1.3. Use `loss='log_loss'` which is equivalent.\n",
      "  warnings.warn(\n",
      "C:\\Users\\nwheatle\\Anaconda3\\lib\\site-packages\\sklearn\\linear_model\\_stochastic_gradient.py:173: FutureWarning: The loss 'log' was deprecated in v1.1 and will be removed in version 1.3. Use `loss='log_loss'` which is equivalent.\n",
      "  warnings.warn(\n",
      "C:\\Users\\nwheatle\\Anaconda3\\lib\\site-packages\\sklearn\\linear_model\\_stochastic_gradient.py:173: FutureWarning: The loss 'log' was deprecated in v1.1 and will be removed in version 1.3. Use `loss='log_loss'` which is equivalent.\n",
      "  warnings.warn(\n",
      "C:\\Users\\nwheatle\\Anaconda3\\lib\\site-packages\\sklearn\\linear_model\\_stochastic_gradient.py:173: FutureWarning: The loss 'log' was deprecated in v1.1 and will be removed in version 1.3. Use `loss='log_loss'` which is equivalent.\n",
      "  warnings.warn(\n",
      "C:\\Users\\nwheatle\\Anaconda3\\lib\\site-packages\\sklearn\\linear_model\\_stochastic_gradient.py:173: FutureWarning: The loss 'log' was deprecated in v1.1 and will be removed in version 1.3. Use `loss='log_loss'` which is equivalent.\n",
      "  warnings.warn(\n",
      "C:\\Users\\nwheatle\\Anaconda3\\lib\\site-packages\\sklearn\\linear_model\\_stochastic_gradient.py:173: FutureWarning: The loss 'log' was deprecated in v1.1 and will be removed in version 1.3. Use `loss='log_loss'` which is equivalent.\n",
      "  warnings.warn(\n",
      "C:\\Users\\nwheatle\\Anaconda3\\lib\\site-packages\\sklearn\\linear_model\\_stochastic_gradient.py:173: FutureWarning: The loss 'log' was deprecated in v1.1 and will be removed in version 1.3. Use `loss='log_loss'` which is equivalent.\n",
      "  warnings.warn(\n",
      "C:\\Users\\nwheatle\\Anaconda3\\lib\\site-packages\\sklearn\\linear_model\\_stochastic_gradient.py:173: FutureWarning: The loss 'log' was deprecated in v1.1 and will be removed in version 1.3. Use `loss='log_loss'` which is equivalent.\n",
      "  warnings.warn(\n",
      "C:\\Users\\nwheatle\\Anaconda3\\lib\\site-packages\\sklearn\\linear_model\\_stochastic_gradient.py:173: FutureWarning: The loss 'log' was deprecated in v1.1 and will be removed in version 1.3. Use `loss='log_loss'` which is equivalent.\n",
      "  warnings.warn(\n",
      "C:\\Users\\nwheatle\\Anaconda3\\lib\\site-packages\\sklearn\\linear_model\\_stochastic_gradient.py:173: FutureWarning: The loss 'log' was deprecated in v1.1 and will be removed in version 1.3. Use `loss='log_loss'` which is equivalent.\n",
      "  warnings.warn(\n",
      "C:\\Users\\nwheatle\\Anaconda3\\lib\\site-packages\\sklearn\\linear_model\\_stochastic_gradient.py:173: FutureWarning: The loss 'log' was deprecated in v1.1 and will be removed in version 1.3. Use `loss='log_loss'` which is equivalent.\n",
      "  warnings.warn(\n",
      "C:\\Users\\nwheatle\\Anaconda3\\lib\\site-packages\\sklearn\\linear_model\\_stochastic_gradient.py:173: FutureWarning: The loss 'log' was deprecated in v1.1 and will be removed in version 1.3. Use `loss='log_loss'` which is equivalent.\n",
      "  warnings.warn(\n",
      "C:\\Users\\nwheatle\\Anaconda3\\lib\\site-packages\\sklearn\\linear_model\\_stochastic_gradient.py:173: FutureWarning: The loss 'log' was deprecated in v1.1 and will be removed in version 1.3. Use `loss='log_loss'` which is equivalent.\n",
      "  warnings.warn(\n",
      "C:\\Users\\nwheatle\\Anaconda3\\lib\\site-packages\\sklearn\\linear_model\\_stochastic_gradient.py:173: FutureWarning: The loss 'log' was deprecated in v1.1 and will be removed in version 1.3. Use `loss='log_loss'` which is equivalent.\n",
      "  warnings.warn(\n",
      "C:\\Users\\nwheatle\\Anaconda3\\lib\\site-packages\\sklearn\\linear_model\\_stochastic_gradient.py:173: FutureWarning: The loss 'log' was deprecated in v1.1 and will be removed in version 1.3. Use `loss='log_loss'` which is equivalent.\n",
      "  warnings.warn(\n",
      "C:\\Users\\nwheatle\\Anaconda3\\lib\\site-packages\\sklearn\\linear_model\\_stochastic_gradient.py:173: FutureWarning: The loss 'log' was deprecated in v1.1 and will be removed in version 1.3. Use `loss='log_loss'` which is equivalent.\n",
      "  warnings.warn(\n",
      "C:\\Users\\nwheatle\\Anaconda3\\lib\\site-packages\\sklearn\\linear_model\\_stochastic_gradient.py:173: FutureWarning: The loss 'log' was deprecated in v1.1 and will be removed in version 1.3. Use `loss='log_loss'` which is equivalent.\n",
      "  warnings.warn(\n"
     ]
    },
    {
     "name": "stderr",
     "output_type": "stream",
     "text": [
      "C:\\Users\\nwheatle\\Anaconda3\\lib\\site-packages\\sklearn\\linear_model\\_stochastic_gradient.py:173: FutureWarning: The loss 'log' was deprecated in v1.1 and will be removed in version 1.3. Use `loss='log_loss'` which is equivalent.\n",
      "  warnings.warn(\n",
      "C:\\Users\\nwheatle\\Anaconda3\\lib\\site-packages\\sklearn\\linear_model\\_stochastic_gradient.py:173: FutureWarning: The loss 'log' was deprecated in v1.1 and will be removed in version 1.3. Use `loss='log_loss'` which is equivalent.\n",
      "  warnings.warn(\n",
      "C:\\Users\\nwheatle\\Anaconda3\\lib\\site-packages\\sklearn\\linear_model\\_stochastic_gradient.py:173: FutureWarning: The loss 'log' was deprecated in v1.1 and will be removed in version 1.3. Use `loss='log_loss'` which is equivalent.\n",
      "  warnings.warn(\n",
      "C:\\Users\\nwheatle\\Anaconda3\\lib\\site-packages\\sklearn\\linear_model\\_stochastic_gradient.py:173: FutureWarning: The loss 'log' was deprecated in v1.1 and will be removed in version 1.3. Use `loss='log_loss'` which is equivalent.\n",
      "  warnings.warn(\n",
      "C:\\Users\\nwheatle\\Anaconda3\\lib\\site-packages\\sklearn\\linear_model\\_stochastic_gradient.py:173: FutureWarning: The loss 'log' was deprecated in v1.1 and will be removed in version 1.3. Use `loss='log_loss'` which is equivalent.\n",
      "  warnings.warn(\n",
      "C:\\Users\\nwheatle\\Anaconda3\\lib\\site-packages\\sklearn\\linear_model\\_stochastic_gradient.py:173: FutureWarning: The loss 'log' was deprecated in v1.1 and will be removed in version 1.3. Use `loss='log_loss'` which is equivalent.\n",
      "  warnings.warn(\n",
      "C:\\Users\\nwheatle\\Anaconda3\\lib\\site-packages\\sklearn\\linear_model\\_stochastic_gradient.py:173: FutureWarning: The loss 'log' was deprecated in v1.1 and will be removed in version 1.3. Use `loss='log_loss'` which is equivalent.\n",
      "  warnings.warn(\n",
      "C:\\Users\\nwheatle\\Anaconda3\\lib\\site-packages\\sklearn\\linear_model\\_stochastic_gradient.py:173: FutureWarning: The loss 'log' was deprecated in v1.1 and will be removed in version 1.3. Use `loss='log_loss'` which is equivalent.\n",
      "  warnings.warn(\n",
      "C:\\Users\\nwheatle\\Anaconda3\\lib\\site-packages\\sklearn\\linear_model\\_stochastic_gradient.py:173: FutureWarning: The loss 'log' was deprecated in v1.1 and will be removed in version 1.3. Use `loss='log_loss'` which is equivalent.\n",
      "  warnings.warn(\n"
     ]
    },
    {
     "name": "stdout",
     "output_type": "stream",
     "text": [
      "Best Hyperparameters: {'alpha': 0.001, 'loss': 'hinge', 'max_iter': 500, 'penalty': 'l1'}\n",
      "Best Stochastic Gradient Descent\n",
      "CV Training Best F1-Score: 0.7499518000325113\n",
      "Test F1-Score: 0.7719298245614036\n",
      "Test Accuracy: 0.7824267782426778\n",
      "Tuning Runtime: 4 sec\n"
     ]
    }
   ],
   "source": [
    "warnings.filterwarnings(\"always\")\n",
    "model_name = 'Best Stochastic Gradient Descent'\n",
    "start = dt.datetime.now()\n",
    "df = data.dropna(axis=1).copy()\n",
    "\n",
    "X = df.iloc[:,1:]\n",
    "y = df.iloc[:,0]\n",
    "X_train, X_test, y_train, y_test = train_test_split(X, y, test_size=0.2, random_state=42)\n",
    "\n",
    "for scaler in [StandardScaler(), MinMaxScaler()]:\n",
    "    X_train = scaler.fit_transform(X_train)\n",
    "    X_test = scaler.transform(X_test)\n",
    "\n",
    "\n",
    "sgd_classifier = SGDClassifier(random_state=42)\n",
    "\n",
    "param_grid = {\n",
    "    'alpha': [0.00005, 0.0001, 0.001],\n",
    "    'penalty': ['l1', 'l2'],\n",
    "    'loss': ['hinge', 'log', 'modified_huber'],\n",
    "    'max_iter':[500,1000,1500]\n",
    "}\n",
    "\n",
    "# Use StratifiedKFold for cross-validation\n",
    "stratified_cv = StratifiedKFold(n_splits=5, shuffle=True, random_state=42)\n",
    "\n",
    "sgd_grid_search = GridSearchCV(sgd_classifier, param_grid, cv=stratified_cv, scoring='f1')\n",
    "sgd_grid_search.fit(X_train, y_train)\n",
    "\n",
    "print(\"Best Hyperparameters:\", sgd_grid_search.best_params_)\n",
    "\n",
    "# Get the best model from the grid search\n",
    "best_sgd_model = sgd_grid_search.best_estimator_\n",
    "\n",
    "# Make predictions on the test set\n",
    "y_pred = best_sgd_model.predict(X_test)\n",
    "\n",
    "# Evaluate the accuracy of the model\n",
    "f1 = f1_score(y_test, y_pred)\n",
    "accuracy = accuracy_score(y_test, y_pred)\n",
    "\n",
    "runtime = (dt.datetime.now() - start).seconds\n",
    "print(model_name)\n",
    "print('CV Training Best F1-Score:', sgd_grid_search.best_score_)\n",
    "print(\"Test F1-Score:\", f1)\n",
    "print(\"Test Accuracy:\", accuracy)\n",
    "print('Tuning Runtime:', runtime, 'sec')\n",
    "\n",
    "parameters_str = ', '.join([f'{key}: {value}' for key,value in sgd_grid_search.best_params_.items()])\n",
    "tuned_results[model_name] = [f1,accuracy,parameters_str, runtime]"
   ]
  },
  {
   "cell_type": "code",
   "execution_count": 53,
   "id": "4e4802cc-f835-40ab-a317-1703a6077f0f",
   "metadata": {
    "pycharm": {
     "name": "#%%\n"
    }
   },
   "outputs": [
    {
     "name": "stderr",
     "output_type": "stream",
     "text": [
      "C:\\Users\\nwheatle\\Anaconda3\\lib\\site-packages\\ipykernel\\ipkernel.py:287: DeprecationWarning: `should_run_async` will not call `transform_cell` automatically in the future. Please pass the result to `transformed_cell` argument and any exception that happen during thetransform in `preprocessing_exc_tuple` in IPython 7.17 and above.\n",
      "  and should_run_async(code)\n"
     ]
    },
    {
     "data": {
      "text/html": [
       "<div>\n",
       "<style scoped>\n",
       "    .dataframe tbody tr th:only-of-type {\n",
       "        vertical-align: middle;\n",
       "    }\n",
       "\n",
       "    .dataframe tbody tr th {\n",
       "        vertical-align: top;\n",
       "    }\n",
       "\n",
       "    .dataframe thead th {\n",
       "        text-align: right;\n",
       "    }\n",
       "</style>\n",
       "<table border=\"1\" class=\"dataframe\">\n",
       "  <thead>\n",
       "    <tr style=\"text-align: right;\">\n",
       "      <th></th>\n",
       "      <th>f1_score</th>\n",
       "      <th>accuracy_score</th>\n",
       "      <th>parameters</th>\n",
       "      <th>cv_runtime(sec)</th>\n",
       "    </tr>\n",
       "  </thead>\n",
       "  <tbody>\n",
       "    <tr>\n",
       "      <th>Best Histogram-based Gradient Boosting Classification Tree</th>\n",
       "      <td>0.82906</td>\n",
       "      <td>0.832636</td>\n",
       "      <td>learning_rate: 0.05, max_depth: 5, max_iter: 1...</td>\n",
       "      <td>435</td>\n",
       "    </tr>\n",
       "    <tr>\n",
       "      <th>Best Histogram-based Gradient Boosting Classification Tree without Scaling</th>\n",
       "      <td>0.831169</td>\n",
       "      <td>0.83682</td>\n",
       "      <td>learning_rate: 0.08, max_depth: 10, max_iter: ...</td>\n",
       "      <td>447</td>\n",
       "    </tr>\n",
       "    <tr>\n",
       "      <th>Best Stochastic Gradient Descent</th>\n",
       "      <td>0.77193</td>\n",
       "      <td>0.782427</td>\n",
       "      <td>alpha: 0.001, loss: hinge, max_iter: 500, pena...</td>\n",
       "      <td>4</td>\n",
       "    </tr>\n",
       "  </tbody>\n",
       "</table>\n",
       "</div>"
      ],
      "text/plain": [
       "                                                    f1_score accuracy_score  \\\n",
       "Best Histogram-based Gradient Boosting Classifi...   0.82906       0.832636   \n",
       "Best Histogram-based Gradient Boosting Classifi...  0.831169        0.83682   \n",
       "Best Stochastic Gradient Descent                     0.77193       0.782427   \n",
       "\n",
       "                                                                                           parameters  \\\n",
       "Best Histogram-based Gradient Boosting Classifi...  learning_rate: 0.05, max_depth: 5, max_iter: 1...   \n",
       "Best Histogram-based Gradient Boosting Classifi...  learning_rate: 0.08, max_depth: 10, max_iter: ...   \n",
       "Best Stochastic Gradient Descent                    alpha: 0.001, loss: hinge, max_iter: 500, pena...   \n",
       "\n",
       "                                                   cv_runtime(sec)  \n",
       "Best Histogram-based Gradient Boosting Classifi...             435  \n",
       "Best Histogram-based Gradient Boosting Classifi...             447  \n",
       "Best Stochastic Gradient Descent                                 4  "
      ]
     },
     "execution_count": 53,
     "metadata": {},
     "output_type": "execute_result"
    }
   ],
   "source": [
    "best_models = pd.DataFrame(tuned_results).T\n",
    "best_models.columns = ['f1_score','accuracy_score','parameters','cv_runtime(sec)']\n",
    "best_models.to_csv('../../data/best_models.csv')\n",
    "best_models"
   ]
  }
 ],
 "metadata": {
  "kernelspec": {
   "display_name": "Python 3",
   "language": "python",
   "name": "python3"
  },
  "language_info": {
   "codemirror_mode": {
    "name": "ipython",
    "version": 3
   },
   "file_extension": ".py",
   "mimetype": "text/x-python",
   "name": "python",
   "nbconvert_exporter": "python",
   "pygments_lexer": "ipython3",
   "version": "3.8.8"
  }
 },
 "nbformat": 4,
 "nbformat_minor": 5
}