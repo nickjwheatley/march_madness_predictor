{
 "cells": [
  {
   "cell_type": "markdown",
   "id": "0395b7a5-72b6-429f-837e-fc5114440fe2",
   "metadata": {},
   "source": [
    "# Feature Importance and Ablation Analysis\n",
    "\n",
    "This analysis will seek to discover what features are most important to our Histogram-based Gradient Boosting Classification Model in two ways:\n",
    "- Feature Importance Analysis (identify model weightings)\n",
    "- Ablation Analysis (Understanding the contribution of certain features via their removal)"
   ]
  },
  {
   "cell_type": "code",
   "execution_count": 65,
   "id": "5a142273-0878-4c43-a829-a4a3a1ef9a9d",
   "metadata": {},
   "outputs": [],
   "source": [
    "import pandas as pd\n",
    "import numpy as np\n",
    "\n",
    "from sklearn.ensemble import GradientBoostingClassifier, HistGradientBoostingClassifier, RandomForestClassifier\n",
    "from sklearn.model_selection import train_test_split\n",
    "from sklearn.preprocessing import StandardScaler, MinMaxScaler\n",
    "from sklearn.metrics import f1_score\n",
    "\n",
    "import seaborn as sns\n",
    "import matplotlib.pyplot as plt"
   ]
  },
  {
   "cell_type": "code",
   "execution_count": 14,
   "id": "830a199e-7cd8-4148-9e82-1d2b540a367d",
   "metadata": {},
   "outputs": [],
   "source": [
    "sns.set_palette('rocket_r')"
   ]
  },
  {
   "cell_type": "code",
   "execution_count": 7,
   "id": "e23c809e-34a7-4fab-933e-19754f53b6df",
   "metadata": {},
   "outputs": [
    {
     "data": {
      "text/plain": [
       "(39518, 84)"
      ]
     },
     "execution_count": 7,
     "metadata": {},
     "output_type": "execute_result"
    }
   ],
   "source": [
    "data.shape"
   ]
  },
  {
   "cell_type": "code",
   "execution_count": 8,
   "id": "39352328-0d66-438f-9d7f-6dbdc9135418",
   "metadata": {},
   "outputs": [
    {
     "data": {
      "text/html": [
       "<div>\n",
       "<style scoped>\n",
       "    .dataframe tbody tr th:only-of-type {\n",
       "        vertical-align: middle;\n",
       "    }\n",
       "\n",
       "    .dataframe tbody tr th {\n",
       "        vertical-align: top;\n",
       "    }\n",
       "\n",
       "    .dataframe thead th {\n",
       "        text-align: right;\n",
       "    }\n",
       "</style>\n",
       "<table border=\"1\" class=\"dataframe\">\n",
       "  <thead>\n",
       "    <tr style=\"text-align: right;\">\n",
       "      <th></th>\n",
       "      <th>won</th>\n",
       "      <th>underdog</th>\n",
       "      <th>underdog_opp</th>\n",
       "      <th>fan_favorite</th>\n",
       "      <th>fan_favorite_opp</th>\n",
       "      <th>de</th>\n",
       "      <th>oe</th>\n",
       "      <th>te</th>\n",
       "      <th>pace</th>\n",
       "      <th>physicality_score</th>\n",
       "      <th>...</th>\n",
       "      <th>luck_opp</th>\n",
       "      <th>choke_rate</th>\n",
       "      <th>choke_rate_opp</th>\n",
       "      <th>upset_rate</th>\n",
       "      <th>upset_rate_opp</th>\n",
       "      <th>3mean_plus_minus</th>\n",
       "      <th>3mean_plus_minus_opp</th>\n",
       "      <th>win_streak</th>\n",
       "      <th>win_streak_opp</th>\n",
       "      <th>matchup_win_rate</th>\n",
       "    </tr>\n",
       "  </thead>\n",
       "  <tbody>\n",
       "    <tr>\n",
       "      <th>0</th>\n",
       "      <td>1</td>\n",
       "      <td>0</td>\n",
       "      <td>0</td>\n",
       "      <td>1</td>\n",
       "      <td>0</td>\n",
       "      <td>83.955939</td>\n",
       "      <td>105.172414</td>\n",
       "      <td>1.25271</td>\n",
       "      <td>72.0</td>\n",
       "      <td>9.405172</td>\n",
       "      <td>...</td>\n",
       "      <td>0.000000</td>\n",
       "      <td>0.0</td>\n",
       "      <td>NaN</td>\n",
       "      <td>0.0</td>\n",
       "      <td>NaN</td>\n",
       "      <td>14.333333</td>\n",
       "      <td>-3.333333</td>\n",
       "      <td>0</td>\n",
       "      <td>0</td>\n",
       "      <td>NaN</td>\n",
       "    </tr>\n",
       "    <tr>\n",
       "      <th>1</th>\n",
       "      <td>1</td>\n",
       "      <td>0</td>\n",
       "      <td>0</td>\n",
       "      <td>0</td>\n",
       "      <td>1</td>\n",
       "      <td>83.955939</td>\n",
       "      <td>105.172414</td>\n",
       "      <td>1.25271</td>\n",
       "      <td>72.0</td>\n",
       "      <td>9.405172</td>\n",
       "      <td>...</td>\n",
       "      <td>0.571429</td>\n",
       "      <td>0.0</td>\n",
       "      <td>NaN</td>\n",
       "      <td>0.0</td>\n",
       "      <td>NaN</td>\n",
       "      <td>14.333333</td>\n",
       "      <td>-0.333333</td>\n",
       "      <td>1</td>\n",
       "      <td>2</td>\n",
       "      <td>NaN</td>\n",
       "    </tr>\n",
       "    <tr>\n",
       "      <th>2</th>\n",
       "      <td>1</td>\n",
       "      <td>0</td>\n",
       "      <td>0</td>\n",
       "      <td>1</td>\n",
       "      <td>0</td>\n",
       "      <td>83.955939</td>\n",
       "      <td>105.172414</td>\n",
       "      <td>1.25271</td>\n",
       "      <td>72.0</td>\n",
       "      <td>9.405172</td>\n",
       "      <td>...</td>\n",
       "      <td>0.444444</td>\n",
       "      <td>0.0</td>\n",
       "      <td>NaN</td>\n",
       "      <td>0.0</td>\n",
       "      <td>0.000000</td>\n",
       "      <td>14.333333</td>\n",
       "      <td>-5.666667</td>\n",
       "      <td>2</td>\n",
       "      <td>1</td>\n",
       "      <td>NaN</td>\n",
       "    </tr>\n",
       "    <tr>\n",
       "      <th>3</th>\n",
       "      <td>1</td>\n",
       "      <td>0</td>\n",
       "      <td>0</td>\n",
       "      <td>1</td>\n",
       "      <td>0</td>\n",
       "      <td>83.955939</td>\n",
       "      <td>105.172414</td>\n",
       "      <td>1.25271</td>\n",
       "      <td>72.0</td>\n",
       "      <td>9.405172</td>\n",
       "      <td>...</td>\n",
       "      <td>0.000000</td>\n",
       "      <td>0.0</td>\n",
       "      <td>NaN</td>\n",
       "      <td>0.0</td>\n",
       "      <td>NaN</td>\n",
       "      <td>14.333333</td>\n",
       "      <td>-10.333333</td>\n",
       "      <td>3</td>\n",
       "      <td>0</td>\n",
       "      <td>0.5</td>\n",
       "    </tr>\n",
       "    <tr>\n",
       "      <th>4</th>\n",
       "      <td>0</td>\n",
       "      <td>1</td>\n",
       "      <td>0</td>\n",
       "      <td>0</td>\n",
       "      <td>1</td>\n",
       "      <td>83.955939</td>\n",
       "      <td>105.172414</td>\n",
       "      <td>1.25271</td>\n",
       "      <td>72.0</td>\n",
       "      <td>9.405172</td>\n",
       "      <td>...</td>\n",
       "      <td>0.333333</td>\n",
       "      <td>0.0</td>\n",
       "      <td>0.3</td>\n",
       "      <td>0.0</td>\n",
       "      <td>0.444444</td>\n",
       "      <td>13.666667</td>\n",
       "      <td>21.333333</td>\n",
       "      <td>4</td>\n",
       "      <td>2</td>\n",
       "      <td>NaN</td>\n",
       "    </tr>\n",
       "  </tbody>\n",
       "</table>\n",
       "<p>5 rows × 84 columns</p>\n",
       "</div>"
      ],
      "text/plain": [
       "   won  underdog  underdog_opp  fan_favorite  fan_favorite_opp         de  \\\n",
       "0    1         0             0             1                 0  83.955939   \n",
       "1    1         0             0             0                 1  83.955939   \n",
       "2    1         0             0             1                 0  83.955939   \n",
       "3    1         0             0             1                 0  83.955939   \n",
       "4    0         1             0             0                 1  83.955939   \n",
       "\n",
       "           oe       te  pace  physicality_score  ...  luck_opp  choke_rate  \\\n",
       "0  105.172414  1.25271  72.0           9.405172  ...  0.000000         0.0   \n",
       "1  105.172414  1.25271  72.0           9.405172  ...  0.571429         0.0   \n",
       "2  105.172414  1.25271  72.0           9.405172  ...  0.444444         0.0   \n",
       "3  105.172414  1.25271  72.0           9.405172  ...  0.000000         0.0   \n",
       "4  105.172414  1.25271  72.0           9.405172  ...  0.333333         0.0   \n",
       "\n",
       "   choke_rate_opp  upset_rate  upset_rate_opp  3mean_plus_minus  \\\n",
       "0             NaN         0.0             NaN         14.333333   \n",
       "1             NaN         0.0             NaN         14.333333   \n",
       "2             NaN         0.0        0.000000         14.333333   \n",
       "3             NaN         0.0             NaN         14.333333   \n",
       "4             0.3         0.0        0.444444         13.666667   \n",
       "\n",
       "   3mean_plus_minus_opp  win_streak  win_streak_opp  matchup_win_rate  \n",
       "0             -3.333333           0               0               NaN  \n",
       "1             -0.333333           1               2               NaN  \n",
       "2             -5.666667           2               1               NaN  \n",
       "3            -10.333333           3               0               0.5  \n",
       "4             21.333333           4               2               NaN  \n",
       "\n",
       "[5 rows x 84 columns]"
      ]
     },
     "execution_count": 8,
     "metadata": {},
     "output_type": "execute_result"
    }
   ],
   "source": [
    "data = pd.read_csv('../../data/model_features.csv')\n",
    "data.head()"
   ]
  },
  {
   "cell_type": "code",
   "execution_count": 40,
   "id": "f65b0749-5093-4b40-afef-965c9ecc99bc",
   "metadata": {},
   "outputs": [],
   "source": [
    "def get_odds_ratios(model):\n",
    "    # Build a dataframe with odds ratios and their confidence intervals.\n",
    "    params = model.params\n",
    "    odds_ratios = pd.DataFrame(\n",
    "        {\n",
    "            \"OR\": params\n",
    "        }\n",
    "    )\n",
    "    # Exponentiate the data frame\n",
    "    odds_ratios = np.exp(odds_ratios)\n",
    "\n",
    "    print('\\nOdds Ratios:')\n",
    "    print(odds_ratios.sort_values('OR',ascending=False))\n",
    "    \n",
    "    # Print prediction table\n",
    "    if type(model) not in [type(LogisticRegression()), type(XGBClassifier())]:\n",
    "        print('\\nPrediction table:')\n",
    "        print(model.pred_table())\n",
    "    \n",
    "    return None"
   ]
  },
  {
   "cell_type": "markdown",
   "id": "e51f6b3b-3111-4bd6-b34d-e097efed8e5d",
   "metadata": {},
   "source": [
    "### Feature Importance of Gradient Boosting Classifier\n",
    "\n",
    "The feature_importance attribute is not supported for Histogram-based Gradient Boosting, but it is for a standard Gradient Boosting model. We will extract our top 20 most important features using Gradient Boosting, to be used in the Ablation Analysis"
   ]
  },
  {
   "cell_type": "code",
   "execution_count": 58,
   "id": "98a1c629-d05c-464b-8a82-d3707cf95467",
   "metadata": {},
   "outputs": [
    {
     "data": {
      "text/html": [
       "<style>#sk-container-id-6 {color: black;}#sk-container-id-6 pre{padding: 0;}#sk-container-id-6 div.sk-toggleable {background-color: white;}#sk-container-id-6 label.sk-toggleable__label {cursor: pointer;display: block;width: 100%;margin-bottom: 0;padding: 0.3em;box-sizing: border-box;text-align: center;}#sk-container-id-6 label.sk-toggleable__label-arrow:before {content: \"▸\";float: left;margin-right: 0.25em;color: #696969;}#sk-container-id-6 label.sk-toggleable__label-arrow:hover:before {color: black;}#sk-container-id-6 div.sk-estimator:hover label.sk-toggleable__label-arrow:before {color: black;}#sk-container-id-6 div.sk-toggleable__content {max-height: 0;max-width: 0;overflow: hidden;text-align: left;background-color: #f0f8ff;}#sk-container-id-6 div.sk-toggleable__content pre {margin: 0.2em;color: black;border-radius: 0.25em;background-color: #f0f8ff;}#sk-container-id-6 input.sk-toggleable__control:checked~div.sk-toggleable__content {max-height: 200px;max-width: 100%;overflow: auto;}#sk-container-id-6 input.sk-toggleable__control:checked~label.sk-toggleable__label-arrow:before {content: \"▾\";}#sk-container-id-6 div.sk-estimator input.sk-toggleable__control:checked~label.sk-toggleable__label {background-color: #d4ebff;}#sk-container-id-6 div.sk-label input.sk-toggleable__control:checked~label.sk-toggleable__label {background-color: #d4ebff;}#sk-container-id-6 input.sk-hidden--visually {border: 0;clip: rect(1px 1px 1px 1px);clip: rect(1px, 1px, 1px, 1px);height: 1px;margin: -1px;overflow: hidden;padding: 0;position: absolute;width: 1px;}#sk-container-id-6 div.sk-estimator {font-family: monospace;background-color: #f0f8ff;border: 1px dotted black;border-radius: 0.25em;box-sizing: border-box;margin-bottom: 0.5em;}#sk-container-id-6 div.sk-estimator:hover {background-color: #d4ebff;}#sk-container-id-6 div.sk-parallel-item::after {content: \"\";width: 100%;border-bottom: 1px solid gray;flex-grow: 1;}#sk-container-id-6 div.sk-label:hover label.sk-toggleable__label {background-color: #d4ebff;}#sk-container-id-6 div.sk-serial::before {content: \"\";position: absolute;border-left: 1px solid gray;box-sizing: border-box;top: 0;bottom: 0;left: 50%;z-index: 0;}#sk-container-id-6 div.sk-serial {display: flex;flex-direction: column;align-items: center;background-color: white;padding-right: 0.2em;padding-left: 0.2em;position: relative;}#sk-container-id-6 div.sk-item {position: relative;z-index: 1;}#sk-container-id-6 div.sk-parallel {display: flex;align-items: stretch;justify-content: center;background-color: white;position: relative;}#sk-container-id-6 div.sk-item::before, #sk-container-id-6 div.sk-parallel-item::before {content: \"\";position: absolute;border-left: 1px solid gray;box-sizing: border-box;top: 0;bottom: 0;left: 50%;z-index: -1;}#sk-container-id-6 div.sk-parallel-item {display: flex;flex-direction: column;z-index: 1;position: relative;background-color: white;}#sk-container-id-6 div.sk-parallel-item:first-child::after {align-self: flex-end;width: 50%;}#sk-container-id-6 div.sk-parallel-item:last-child::after {align-self: flex-start;width: 50%;}#sk-container-id-6 div.sk-parallel-item:only-child::after {width: 0;}#sk-container-id-6 div.sk-dashed-wrapped {border: 1px dashed gray;margin: 0 0.4em 0.5em 0.4em;box-sizing: border-box;padding-bottom: 0.4em;background-color: white;}#sk-container-id-6 div.sk-label label {font-family: monospace;font-weight: bold;display: inline-block;line-height: 1.2em;}#sk-container-id-6 div.sk-label-container {text-align: center;}#sk-container-id-6 div.sk-container {/* jupyter's `normalize.less` sets `[hidden] { display: none; }` but bootstrap.min.css set `[hidden] { display: none !important; }` so we also need the `!important` here to be able to override the default hidden behavior on the sphinx rendered scikit-learn.org. See: https://github.com/scikit-learn/scikit-learn/issues/21755 */display: inline-block !important;position: relative;}#sk-container-id-6 div.sk-text-repr-fallback {display: none;}</style><div id=\"sk-container-id-6\" class=\"sk-top-container\"><div class=\"sk-text-repr-fallback\"><pre>GradientBoostingClassifier()</pre><b>In a Jupyter environment, please rerun this cell to show the HTML representation or trust the notebook. <br />On GitHub, the HTML representation is unable to render, please try loading this page with nbviewer.org.</b></div><div class=\"sk-container\" hidden><div class=\"sk-item\"><div class=\"sk-estimator sk-toggleable\"><input class=\"sk-toggleable__control sk-hidden--visually\" id=\"sk-estimator-id-6\" type=\"checkbox\" checked><label for=\"sk-estimator-id-6\" class=\"sk-toggleable__label sk-toggleable__label-arrow\">GradientBoostingClassifier</label><div class=\"sk-toggleable__content\"><pre>GradientBoostingClassifier()</pre></div></div></div></div></div>"
      ],
      "text/plain": [
       "GradientBoostingClassifier()"
      ]
     },
     "execution_count": 58,
     "metadata": {},
     "output_type": "execute_result"
    }
   ],
   "source": [
    "# Split training and test data\n",
    "df = data.fillna(0)\n",
    "\n",
    "X = df.iloc[:,1:]\n",
    "y = df.iloc[:,0]\n",
    "\n",
    "GB_model = GradientBoostingClassifier()\n",
    "\n",
    "X_train, X_test, y_train, y_test = train_test_split(X, y, test_size=0.2, random_state=42)\n",
    "\n",
    "for scaler in [StandardScaler(), MinMaxScaler()]:\n",
    "    X_train = scaler.fit_transform(X_train)\n",
    "    X_test = scaler.transform(X_test)\n",
    "\n",
    "GB_model.fit(X_train, y_train)"
   ]
  },
  {
   "cell_type": "code",
   "execution_count": 60,
   "id": "573ac4f1-7a44-4aa6-ba60-57fb97347206",
   "metadata": {},
   "outputs": [],
   "source": [
    "feature_importance = {\n",
    "    key:[value] for key,value in sorted(zip(data.columns.tolist()[1:], GB_model.feature_importances_), key=lambda x: x[1], reverse=True)}\n",
    "\n",
    "df_gb_importance = pd.DataFrame(feature_importance,index=['feature_importance']).T\n",
    "df_gb_importance.index.name = 'feature'"
   ]
  },
  {
   "cell_type": "code",
   "execution_count": 88,
   "id": "eb8fdf43-0ce3-4782-a201-3b9a40ba5048",
   "metadata": {},
   "outputs": [
    {
     "data": {
      "text/plain": [
       "Text(0.5, 0, 'Feature Importance')"
      ]
     },
     "execution_count": 88,
     "metadata": {},
     "output_type": "execute_result"
    },
    {
     "data": {
      "image/png": "[encoded data removed]",
      "text/plain": [
       "<Figure size 640x480 with 1 Axes>"
      ]
     },
     "metadata": {},
     "output_type": "display_data"
    }
   ],
   "source": [
    "top_n = 20\n",
    "top_df = df_gb_importance.iloc[:top_n]\n",
    "sns.barplot(top_df, y=top_df.index, x='feature_importance')\n",
    "\n",
    "plt.title(f'Figure 2 - Gradient Boosting Classifier Feature Importance (Top {top_n})')\n",
    "plt.ylabel('Feature')\n",
    "plt.xlabel('Feature Importance')"
   ]
  },
  {
   "cell_type": "markdown",
   "id": "578d3b68-c984-4042-8a24-04a726127f72",
   "metadata": {},
   "source": [
    "## Ablation Analysis using Histogram-based Gradient Boosting Classification Model"
   ]
  },
  {
   "cell_type": "code",
   "execution_count": 68,
   "id": "b9baf1a9-3500-47ad-8e0d-c7a4146a9cd9",
   "metadata": {},
   "outputs": [
    {
     "name": "stdout",
     "output_type": "stream",
     "text": [
      "Baseline F1-score: 0.791757327531038\n"
     ]
    }
   ],
   "source": [
    "# Set baseline f1-score\n",
    "\n",
    "df = data.copy()\n",
    "\n",
    "# Split training and test data\n",
    "X = df.iloc[:,1:]\n",
    "y = df.iloc[:,0]\n",
    "\n",
    "X_train, X_test, y_train, y_test = train_test_split(X, y, test_size=0.2, random_state=42)\n",
    "\n",
    "for scaler in [StandardScaler(), MinMaxScaler()]:\n",
    "    X_train = scaler.fit_transform(X_train)\n",
    "    X_test = scaler.transform(X_test)\n",
    "\n",
    "model = HistGradientBoostingClassifier(\n",
    "    learning_rate = 0.05,\n",
    "    min_samples_leaf = 25,\n",
    "    random_state=42)\n",
    "\n",
    "# Train the model on the training set\n",
    "model.fit(X_train, y_train)\n",
    "\n",
    "y_pred = model.predict(X_test)\n",
    "\n",
    "baseline_f1 = f1_score(y_test, y_pred)\n",
    "print(f'Baseline F1-score: {baseline_f1}')"
   ]
  },
  {
   "cell_type": "code",
   "execution_count": 77,
   "id": "be394efa-61a9-4d64-bca8-14dd71f5f2c1",
   "metadata": {},
   "outputs": [],
   "source": [
    "top_features = list(feature_importance.keys())[:top_n]\n",
    "\n",
    "f1_score_impacts = {}\n",
    "for feature in data.columns[1:]:\n",
    "    df = data.drop(feature, axis=1)\n",
    "\n",
    "    # Split training and test data\n",
    "    X = df.iloc[:,1:]\n",
    "    y = df.iloc[:,0]\n",
    "    \n",
    "    X_train, X_test, y_train, y_test = train_test_split(X, y, test_size=0.2, random_state=42)\n",
    "\n",
    "    for scaler in [StandardScaler(), MinMaxScaler()]:\n",
    "        X_train = scaler.fit_transform(X_train)\n",
    "        X_test = scaler.transform(X_test)\n",
    "\n",
    "    model = HistGradientBoostingClassifier(\n",
    "        learning_rate = 0.05,\n",
    "        min_samples_leaf = 25,\n",
    "        random_state=42)\n",
    "    \n",
    "    # Train the model on the training set\n",
    "    model.fit(X_train, y_train)\n",
    "    \n",
    "    y_pred = model.predict(X_test)\n",
    "\n",
    "    f1 = f1_score(y_test, y_pred)\n",
    "    f1_score_impacts[feature] = [f1, baseline_f1, f1 - baseline_f1]"
   ]
  },
  {
   "cell_type": "code",
   "execution_count": 89,
   "id": "6c5a4163-c153-4b32-b4e8-a9018af1b0de",
   "metadata": {},
   "outputs": [
    {
     "data": {
      "text/html": [
       "<div>\n",
       "<style scoped>\n",
       "    .dataframe tbody tr th:only-of-type {\n",
       "        vertical-align: middle;\n",
       "    }\n",
       "\n",
       "    .dataframe tbody tr th {\n",
       "        vertical-align: top;\n",
       "    }\n",
       "\n",
       "    .dataframe thead th {\n",
       "        text-align: right;\n",
       "    }\n",
       "</style>\n",
       "<table border=\"1\" class=\"dataframe\">\n",
       "  <thead>\n",
       "    <tr style=\"text-align: right;\">\n",
       "      <th></th>\n",
       "      <th>F1-score</th>\n",
       "      <th>Baseline F1-score</th>\n",
       "      <th>Feature Impact</th>\n",
       "    </tr>\n",
       "  </thead>\n",
       "  <tbody>\n",
       "    <tr>\n",
       "      <th>matchup_win_rate</th>\n",
       "      <td>0.764415</td>\n",
       "      <td>0.791757</td>\n",
       "      <td>-0.027342</td>\n",
       "    </tr>\n",
       "    <tr>\n",
       "      <th>game_win_rate</th>\n",
       "      <td>0.786852</td>\n",
       "      <td>0.791757</td>\n",
       "      <td>-0.004906</td>\n",
       "    </tr>\n",
       "    <tr>\n",
       "      <th>game_win_rate_opp</th>\n",
       "      <td>0.789040</td>\n",
       "      <td>0.791757</td>\n",
       "      <td>-0.002717</td>\n",
       "    </tr>\n",
       "    <tr>\n",
       "      <th>ast_per_poss_opp</th>\n",
       "      <td>0.789724</td>\n",
       "      <td>0.791757</td>\n",
       "      <td>-0.002033</td>\n",
       "    </tr>\n",
       "    <tr>\n",
       "      <th>underdog_opp</th>\n",
       "      <td>0.789864</td>\n",
       "      <td>0.791757</td>\n",
       "      <td>-0.001893</td>\n",
       "    </tr>\n",
       "    <tr>\n",
       "      <th>tov_per_poss_opp</th>\n",
       "      <td>0.790221</td>\n",
       "      <td>0.791757</td>\n",
       "      <td>-0.001536</td>\n",
       "    </tr>\n",
       "    <tr>\n",
       "      <th>ast_per_poss</th>\n",
       "      <td>0.790275</td>\n",
       "      <td>0.791757</td>\n",
       "      <td>-0.001482</td>\n",
       "    </tr>\n",
       "    <tr>\n",
       "      <th>pf_opp</th>\n",
       "      <td>0.790288</td>\n",
       "      <td>0.791757</td>\n",
       "      <td>-0.001470</td>\n",
       "    </tr>\n",
       "    <tr>\n",
       "      <th>oe_opp</th>\n",
       "      <td>0.790294</td>\n",
       "      <td>0.791757</td>\n",
       "      <td>-0.001464</td>\n",
       "    </tr>\n",
       "    <tr>\n",
       "      <th>upset_rate</th>\n",
       "      <td>0.790382</td>\n",
       "      <td>0.791757</td>\n",
       "      <td>-0.001375</td>\n",
       "    </tr>\n",
       "    <tr>\n",
       "      <th>fta_opp</th>\n",
       "      <td>0.790424</td>\n",
       "      <td>0.791757</td>\n",
       "      <td>-0.001334</td>\n",
       "    </tr>\n",
       "    <tr>\n",
       "      <th>ft%</th>\n",
       "      <td>0.790483</td>\n",
       "      <td>0.791757</td>\n",
       "      <td>-0.001274</td>\n",
       "    </tr>\n",
       "    <tr>\n",
       "      <th>poss</th>\n",
       "      <td>0.790573</td>\n",
       "      <td>0.791757</td>\n",
       "      <td>-0.001185</td>\n",
       "    </tr>\n",
       "    <tr>\n",
       "      <th>gpt_sent_score_avg</th>\n",
       "      <td>0.790585</td>\n",
       "      <td>0.791757</td>\n",
       "      <td>-0.001173</td>\n",
       "    </tr>\n",
       "    <tr>\n",
       "      <th>srs</th>\n",
       "      <td>0.790621</td>\n",
       "      <td>0.791757</td>\n",
       "      <td>-0.001137</td>\n",
       "    </tr>\n",
       "    <tr>\n",
       "      <th>ft%_opp</th>\n",
       "      <td>0.790638</td>\n",
       "      <td>0.791757</td>\n",
       "      <td>-0.001119</td>\n",
       "    </tr>\n",
       "    <tr>\n",
       "      <th>orb</th>\n",
       "      <td>0.790662</td>\n",
       "      <td>0.791757</td>\n",
       "      <td>-0.001095</td>\n",
       "    </tr>\n",
       "    <tr>\n",
       "      <th>conf_rank_opp</th>\n",
       "      <td>0.790686</td>\n",
       "      <td>0.791757</td>\n",
       "      <td>-0.001072</td>\n",
       "    </tr>\n",
       "    <tr>\n",
       "      <th>fg</th>\n",
       "      <td>0.790733</td>\n",
       "      <td>0.791757</td>\n",
       "      <td>-0.001024</td>\n",
       "    </tr>\n",
       "    <tr>\n",
       "      <th>tov_per_poss</th>\n",
       "      <td>0.790781</td>\n",
       "      <td>0.791757</td>\n",
       "      <td>-0.000976</td>\n",
       "    </tr>\n",
       "  </tbody>\n",
       "</table>\n",
       "</div>"
      ],
      "text/plain": [
       "                    F1-score  Baseline F1-score  Feature Impact\n",
       "matchup_win_rate    0.764415           0.791757       -0.027342\n",
       "game_win_rate       0.786852           0.791757       -0.004906\n",
       "game_win_rate_opp   0.789040           0.791757       -0.002717\n",
       "ast_per_poss_opp    0.789724           0.791757       -0.002033\n",
       "underdog_opp        0.789864           0.791757       -0.001893\n",
       "tov_per_poss_opp    0.790221           0.791757       -0.001536\n",
       "ast_per_poss        0.790275           0.791757       -0.001482\n",
       "pf_opp              0.790288           0.791757       -0.001470\n",
       "oe_opp              0.790294           0.791757       -0.001464\n",
       "upset_rate          0.790382           0.791757       -0.001375\n",
       "fta_opp             0.790424           0.791757       -0.001334\n",
       "ft%                 0.790483           0.791757       -0.001274\n",
       "poss                0.790573           0.791757       -0.001185\n",
       "gpt_sent_score_avg  0.790585           0.791757       -0.001173\n",
       "srs                 0.790621           0.791757       -0.001137\n",
       "ft%_opp             0.790638           0.791757       -0.001119\n",
       "orb                 0.790662           0.791757       -0.001095\n",
       "conf_rank_opp       0.790686           0.791757       -0.001072\n",
       "fg                  0.790733           0.791757       -0.001024\n",
       "tov_per_poss        0.790781           0.791757       -0.000976"
      ]
     },
     "execution_count": 89,
     "metadata": {},
     "output_type": "execute_result"
    }
   ],
   "source": [
    "feature_f1_impacts = pd.DataFrame(f1_score_impacts, index=['F1-score','Baseline F1-score','Feature Impact']).T\n",
    "feature_f1_impacts.to_csv('../../data/feature_impacts.csv')\n",
    "top_impacters = feature_f1_impacts.sort_values('Feature Impact').head(top_n)\n",
    "top_impacters"
   ]
  },
  {
   "cell_type": "code",
   "execution_count": 93,
   "id": "5aed272e-be02-4264-89ba-8b65bee569ed",
   "metadata": {},
   "outputs": [
    {
     "data": {
      "text/plain": [
       "Text(0.5, 0, \"Feature's Impact on F1-score upon removal\")"
      ]
     },
     "execution_count": 93,
     "metadata": {},
     "output_type": "execute_result"
    },
    {
     "data": {
      "image/png": "[encoded data removed]",
      "text/plain": [
       "<Figure size 640x480 with 1 Axes>"
      ]
     },
     "metadata": {},
     "output_type": "display_data"
    }
   ],
   "source": [
    "sns.barplot(top_impacters, y=top_impacters.index, x='Feature Impact')\n",
    "\n",
    "plt.title(f'Figure 3 - Ablation Analysis - Features that most impacted f1-score (Top {top_n})')\n",
    "plt.ylabel('Feature')\n",
    "plt.xlabel('Feature\\'s Impact on F1-score upon removal')"
   ]
  },
  {
   "cell_type": "markdown",
   "id": "9be35bfd-5135-40e9-ab14-d8decea0e1c0",
   "metadata": {},
   "source": [
    "### See the percentage of features that intersect between the GBClassifier feature_importance and Ablation analysis"
   ]
  },
  {
   "cell_type": "code",
   "execution_count": 94,
   "id": "541d4783-0b23-4e43-b4cb-3f8ee85bc380",
   "metadata": {},
   "outputs": [
    {
     "name": "stdout",
     "output_type": "stream",
     "text": [
      "0.3\n"
     ]
    }
   ],
   "source": [
    "\n",
    "intersections = 0\n",
    "for feature in top_impacters.index:\n",
    "    if feature in top_df.index:\n",
    "        intersections += 1\n",
    "\n",
    "print(intersections / top_n)"
   ]
  },
  {
   "cell_type": "markdown",
   "id": "828311e0-92f1-4ccc-b44c-ddeedc7b3556",
   "metadata": {},
   "source": [
    "### Try model while dropping all features with a negative impact"
   ]
  },
  {
   "cell_type": "code",
   "execution_count": 85,
   "id": "64a90a43-33cf-4eb7-8174-3cc0c58e719a",
   "metadata": {
    "scrolled": true
   },
   "outputs": [
    {
     "data": {
      "text/plain": [
       "['fan_favorite',\n",
       " 'fan_favorite_opp',\n",
       " 'oe',\n",
       " 'pace',\n",
       " 'physicality_score',\n",
       " 'sos',\n",
       " 'fg%',\n",
       " '3p',\n",
       " '3pa',\n",
       " '3p%',\n",
       " 'ft',\n",
       " 'drb',\n",
       " 'trb',\n",
       " 'ast',\n",
       " 'stl',\n",
       " 'blk',\n",
       " 'pf',\n",
       " 'tov%',\n",
       " 'ast_per_fg',\n",
       " 'de_opp',\n",
       " 'te_opp',\n",
       " 'physicality_score_opp',\n",
       " 'sos_opp',\n",
       " 'fg_opp',\n",
       " 'fga_opp',\n",
       " '3pa_opp',\n",
       " 'ft_opp',\n",
       " 'drb_opp',\n",
       " 'trb_opp',\n",
       " 'stl_opp',\n",
       " 'blk_opp',\n",
       " 'tov%_opp',\n",
       " 'poss_opp',\n",
       " 'gpt_sent_score_avg_opp',\n",
       " 'luck',\n",
       " 'luck_opp',\n",
       " 'choke_rate',\n",
       " 'choke_rate_opp',\n",
       " '3mean_plus_minus',\n",
       " '3mean_plus_minus_opp',\n",
       " 'win_streak_opp']"
      ]
     },
     "execution_count": 85,
     "metadata": {},
     "output_type": "execute_result"
    }
   ],
   "source": [
    "hindering_features = feature_f1_impacts.loc[feature_f1_impacts['Feature Impact'] > 0].index.tolist()\n",
    "hindering_features"
   ]
  },
  {
   "cell_type": "code",
   "execution_count": 86,
   "id": "aed7408c-eebe-417c-8761-4f1b92bd1e9c",
   "metadata": {},
   "outputs": [
    {
     "name": "stdout",
     "output_type": "stream",
     "text": [
      "Revised Features F1-score: 0.7782201104404777\n"
     ]
    }
   ],
   "source": [
    "df = data.drop(hindering_features, axis=1)\n",
    "\n",
    "# Split training and test data\n",
    "X = df.iloc[:,1:]\n",
    "y = df.iloc[:,0]\n",
    "\n",
    "X_train, X_test, y_train, y_test = train_test_split(X, y, test_size=0.2, random_state=42)\n",
    "\n",
    "for scaler in [StandardScaler(), MinMaxScaler()]:\n",
    "    X_train = scaler.fit_transform(X_train)\n",
    "    X_test = scaler.transform(X_test)\n",
    "\n",
    "model = HistGradientBoostingClassifier(\n",
    "    learning_rate = 0.05,\n",
    "    min_samples_leaf = 25,\n",
    "    random_state=42)\n",
    "\n",
    "# Train the model on the training set\n",
    "model.fit(X_train, y_train)\n",
    "\n",
    "y_pred = model.predict(X_test)\n",
    "\n",
    "f1 = f1_score(y_test, y_pred)\n",
    "print(f'Revised Features F1-score: {f1}')"
   ]
  }
 ],
 "metadata": {
  "kernelspec": {
   "display_name": "Python 3 (ipykernel)",
   "language": "python",
   "name": "python3"
  },
  "language_info": {
   "codemirror_mode": {
    "name": "ipython",
    "version": 3
   },
   "file_extension": ".py",
   "mimetype": "text/x-python",
   "name": "python",
   "nbconvert_exporter": "python",
   "pygments_lexer": "ipython3",
   "version": "3.8.8"
  }
 },
 "nbformat": 4,
 "nbformat_minor": 5
}
