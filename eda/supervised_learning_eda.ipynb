{
 "cells": [
  {
   "cell_type": "code",
   "execution_count": 28,
   "metadata": {
    "pycharm": {
     "name": "#%%\n"
    }
   },
   "outputs": [],
   "source": [
    "import pandas as pd\n",
    "import datetime as dt\n",
    "import numpy as np\n",
    "import os\n",
    "\n",
    "import statsmodels.formula.api as sm\n",
    "from sklearn.model_selection import train_test_split\n",
    "from sklearn.metrics import confusion_matrix, accuracy_score, f1_score, classification_report, roc_curve, roc_auc_score\n",
    "from sklearn.model_selection import RandomizedSearchCV, GridSearchCV, StratifiedKFold\n",
    "import seaborn as sns\n",
    "import matplotlib.pyplot as plt\n",
    "import xgboost as xgb\n",
    "from xgboost import XGBClassifier\n",
    "from sklearn.linear_model import LogisticRegression\n",
    "from sklearn.ensemble import GradientBoostingClassifier\n",
    "from sklearn.experimental import enable_hist_gradient_boosting  # noqa\n",
    "from sklearn.ensemble import HistGradientBoostingClassifier\n",
    "from sklearn.mixture import GaussianMixture\n",
    "from sklearn.naive_bayes import GaussianNB\n",
    "from sklearn.preprocessing import StandardScaler\n",
    "from datetime import datetime"
   ]
  },
  {
   "cell_type": "code",
   "execution_count": 29,
   "metadata": {
    "pycharm": {
     "name": "#%%\n"
    }
   },
   "outputs": [
    {
     "data": {
      "text/html": [
       "<div>\n",
       "<style scoped>\n",
       "    .dataframe tbody tr th:only-of-type {\n",
       "        vertical-align: middle;\n",
       "    }\n",
       "\n",
       "    .dataframe tbody tr th {\n",
       "        vertical-align: top;\n",
       "    }\n",
       "\n",
       "    .dataframe thead th {\n",
       "        text-align: right;\n",
       "    }\n",
       "</style>\n",
       "<table border=\"1\" class=\"dataframe\">\n",
       "  <thead>\n",
       "    <tr style=\"text-align: right;\">\n",
       "      <th></th>\n",
       "      <th>won</th>\n",
       "      <th>underdog</th>\n",
       "      <th>underdog_opp</th>\n",
       "      <th>fan_favorite</th>\n",
       "      <th>fan_favorite_opp</th>\n",
       "      <th>de</th>\n",
       "      <th>oe</th>\n",
       "      <th>te</th>\n",
       "      <th>pace</th>\n",
       "      <th>physicality_score</th>\n",
       "      <th>sos</th>\n",
       "      <th>srs</th>\n",
       "      <th>fg</th>\n",
       "      <th>fga</th>\n",
       "      <th>fg_perc</th>\n",
       "      <th>three_p</th>\n",
       "      <th>three_pa</th>\n",
       "      <th>three_p_perc</th>\n",
       "      <th>ft</th>\n",
       "      <th>fta</th>\n",
       "      <th>ft_perc</th>\n",
       "      <th>orb</th>\n",
       "      <th>drb</th>\n",
       "      <th>trb</th>\n",
       "      <th>ast</th>\n",
       "      <th>stl</th>\n",
       "      <th>blk</th>\n",
       "      <th>pf</th>\n",
       "      <th>tov</th>\n",
       "      <th>tov_perc</th>\n",
       "      <th>poss</th>\n",
       "      <th>ast_per_poss</th>\n",
       "      <th>ast_per_fg</th>\n",
       "      <th>tov_per_poss</th>\n",
       "      <th>ast_to_tov</th>\n",
       "      <th>poss_per_game</th>\n",
       "      <th>game_win_rate</th>\n",
       "      <th>gpt_sent_score_avg</th>\n",
       "      <th>de_opp</th>\n",
       "      <th>oe_opp</th>\n",
       "      <th>te_opp</th>\n",
       "      <th>pace_opp</th>\n",
       "      <th>physicality_score_opp</th>\n",
       "      <th>sos_opp</th>\n",
       "      <th>srs_opp</th>\n",
       "      <th>fg_opp</th>\n",
       "      <th>fga_opp</th>\n",
       "      <th>fg_perc_opp</th>\n",
       "      <th>three_p_opp</th>\n",
       "      <th>three_pa_opp</th>\n",
       "      <th>three_p_perc_opp</th>\n",
       "      <th>ft_opp</th>\n",
       "      <th>fta_opp</th>\n",
       "      <th>ft_perc_opp</th>\n",
       "      <th>orb_opp</th>\n",
       "      <th>drb_opp</th>\n",
       "      <th>trb_opp</th>\n",
       "      <th>ast_opp</th>\n",
       "      <th>stl_opp</th>\n",
       "      <th>blk_opp</th>\n",
       "      <th>pf_opp</th>\n",
       "      <th>tov_opp</th>\n",
       "      <th>tov_perc_opp</th>\n",
       "      <th>poss_opp</th>\n",
       "      <th>ast_per_poss_opp</th>\n",
       "      <th>ast_per_fg_opp</th>\n",
       "      <th>tov_per_poss_opp</th>\n",
       "      <th>ast_to_tov_opp</th>\n",
       "      <th>poss_per_game_opp</th>\n",
       "      <th>game_win_rate_opp</th>\n",
       "      <th>gpt_sent_score_avg_opp</th>\n",
       "      <th>conf_rank</th>\n",
       "      <th>conf_rank_opp</th>\n",
       "      <th>luck</th>\n",
       "      <th>luck_opp</th>\n",
       "      <th>choke_rate</th>\n",
       "      <th>choke_rate_opp</th>\n",
       "      <th>upset_rate</th>\n",
       "      <th>upset_rate_opp</th>\n",
       "      <th>three_mean_plus_minus</th>\n",
       "      <th>three_mean_plus_minus_opp</th>\n",
       "      <th>win_streak</th>\n",
       "      <th>win_streak_opp</th>\n",
       "      <th>matchup_win_rate</th>\n",
       "    </tr>\n",
       "  </thead>\n",
       "  <tbody>\n",
       "    <tr>\n",
       "      <th>0</th>\n",
       "      <td>1</td>\n",
       "      <td>0</td>\n",
       "      <td>0</td>\n",
       "      <td>1</td>\n",
       "      <td>0</td>\n",
       "      <td>83.955939</td>\n",
       "      <td>105.172414</td>\n",
       "      <td>1.25271</td>\n",
       "      <td>72.0</td>\n",
       "      <td>9.405172</td>\n",
       "      <td>-6.37</td>\n",
       "      <td>6.27</td>\n",
       "      <td>27.103448</td>\n",
       "      <td>60.413793</td>\n",
       "      <td>0.449</td>\n",
       "      <td>7.62069</td>\n",
       "      <td>22.172414</td>\n",
       "      <td>0.344</td>\n",
       "      <td>13.896552</td>\n",
       "      <td>20.482759</td>\n",
       "      <td>0.678</td>\n",
       "      <td>11.344828</td>\n",
       "      <td>24.758621</td>\n",
       "      <td>36.103448</td>\n",
       "      <td>17.689655</td>\n",
       "      <td>9.724138</td>\n",
       "      <td>2.965517</td>\n",
       "      <td>19.103448</td>\n",
       "      <td>13.586207</td>\n",
       "      <td>16.2</td>\n",
       "      <td>39.074138</td>\n",
       "      <td>0.45272</td>\n",
       "      <td>0.652672</td>\n",
       "      <td>0.347703</td>\n",
       "      <td>1.30203</td>\n",
       "      <td>1.347384</td>\n",
       "      <td>0.827586</td>\n",
       "      <td>48.666667</td>\n",
       "      <td>98.254994</td>\n",
       "      <td>103.126160</td>\n",
       "      <td>1.049577</td>\n",
       "      <td>67.0</td>\n",
       "      <td>8.390000</td>\n",
       "      <td>0.30</td>\n",
       "      <td>1.65</td>\n",
       "      <td>24.800000</td>\n",
       "      <td>56.640000</td>\n",
       "      <td>0.438</td>\n",
       "      <td>8.040000</td>\n",
       "      <td>23.000000</td>\n",
       "      <td>0.350</td>\n",
       "      <td>11.800000</td>\n",
       "      <td>16.920000</td>\n",
       "      <td>0.697</td>\n",
       "      <td>10.120000</td>\n",
       "      <td>25.760000</td>\n",
       "      <td>35.880000</td>\n",
       "      <td>11.800000</td>\n",
       "      <td>7.360000</td>\n",
       "      <td>2.52</td>\n",
       "      <td>17.240000</td>\n",
       "      <td>13.560000</td>\n",
       "      <td>17.3</td>\n",
       "      <td>36.277000</td>\n",
       "      <td>0.325275</td>\n",
       "      <td>0.475806</td>\n",
       "      <td>0.373791</td>\n",
       "      <td>0.870206</td>\n",
       "      <td>1.451080</td>\n",
       "      <td>0.520000</td>\n",
       "      <td>73.333333</td>\n",
       "      <td>15.0</td>\n",
       "      <td>15.0</td>\n",
       "      <td>0.666667</td>\n",
       "      <td>0.000000</td>\n",
       "      <td>0.0</td>\n",
       "      <td>NaN</td>\n",
       "      <td>0.0</td>\n",
       "      <td>NaN</td>\n",
       "      <td>14.333333</td>\n",
       "      <td>-3.333333</td>\n",
       "      <td>0</td>\n",
       "      <td>0</td>\n",
       "      <td>NaN</td>\n",
       "    </tr>\n",
       "    <tr>\n",
       "      <th>1</th>\n",
       "      <td>1</td>\n",
       "      <td>0</td>\n",
       "      <td>0</td>\n",
       "      <td>0</td>\n",
       "      <td>1</td>\n",
       "      <td>83.955939</td>\n",
       "      <td>105.172414</td>\n",
       "      <td>1.25271</td>\n",
       "      <td>72.0</td>\n",
       "      <td>9.405172</td>\n",
       "      <td>-6.37</td>\n",
       "      <td>6.27</td>\n",
       "      <td>27.103448</td>\n",
       "      <td>60.413793</td>\n",
       "      <td>0.449</td>\n",
       "      <td>7.62069</td>\n",
       "      <td>22.172414</td>\n",
       "      <td>0.344</td>\n",
       "      <td>13.896552</td>\n",
       "      <td>20.482759</td>\n",
       "      <td>0.678</td>\n",
       "      <td>11.344828</td>\n",
       "      <td>24.758621</td>\n",
       "      <td>36.103448</td>\n",
       "      <td>17.689655</td>\n",
       "      <td>9.724138</td>\n",
       "      <td>2.965517</td>\n",
       "      <td>19.103448</td>\n",
       "      <td>13.586207</td>\n",
       "      <td>16.2</td>\n",
       "      <td>39.074138</td>\n",
       "      <td>0.45272</td>\n",
       "      <td>0.652672</td>\n",
       "      <td>0.347703</td>\n",
       "      <td>1.30203</td>\n",
       "      <td>1.347384</td>\n",
       "      <td>0.827586</td>\n",
       "      <td>48.666667</td>\n",
       "      <td>100.518548</td>\n",
       "      <td>106.741125</td>\n",
       "      <td>1.061905</td>\n",
       "      <td>69.0</td>\n",
       "      <td>9.027778</td>\n",
       "      <td>-8.22</td>\n",
       "      <td>-6.66</td>\n",
       "      <td>27.148148</td>\n",
       "      <td>59.888889</td>\n",
       "      <td>0.453</td>\n",
       "      <td>7.185185</td>\n",
       "      <td>21.222222</td>\n",
       "      <td>0.339</td>\n",
       "      <td>12.851852</td>\n",
       "      <td>17.111111</td>\n",
       "      <td>0.751</td>\n",
       "      <td>12.629630</td>\n",
       "      <td>21.851852</td>\n",
       "      <td>34.481481</td>\n",
       "      <td>13.222222</td>\n",
       "      <td>6.777778</td>\n",
       "      <td>2.00</td>\n",
       "      <td>17.481481</td>\n",
       "      <td>14.703704</td>\n",
       "      <td>17.8</td>\n",
       "      <td>37.350000</td>\n",
       "      <td>0.354009</td>\n",
       "      <td>0.487040</td>\n",
       "      <td>0.393673</td>\n",
       "      <td>0.899244</td>\n",
       "      <td>1.383333</td>\n",
       "      <td>0.518519</td>\n",
       "      <td>63.000000</td>\n",
       "      <td>15.0</td>\n",
       "      <td>22.0</td>\n",
       "      <td>0.666667</td>\n",
       "      <td>0.571429</td>\n",
       "      <td>0.0</td>\n",
       "      <td>NaN</td>\n",
       "      <td>0.0</td>\n",
       "      <td>NaN</td>\n",
       "      <td>14.333333</td>\n",
       "      <td>-0.333333</td>\n",
       "      <td>1</td>\n",
       "      <td>2</td>\n",
       "      <td>NaN</td>\n",
       "    </tr>\n",
       "    <tr>\n",
       "      <th>2</th>\n",
       "      <td>1</td>\n",
       "      <td>0</td>\n",
       "      <td>0</td>\n",
       "      <td>1</td>\n",
       "      <td>0</td>\n",
       "      <td>83.955939</td>\n",
       "      <td>105.172414</td>\n",
       "      <td>1.25271</td>\n",
       "      <td>72.0</td>\n",
       "      <td>9.405172</td>\n",
       "      <td>-6.37</td>\n",
       "      <td>6.27</td>\n",
       "      <td>27.103448</td>\n",
       "      <td>60.413793</td>\n",
       "      <td>0.449</td>\n",
       "      <td>7.62069</td>\n",
       "      <td>22.172414</td>\n",
       "      <td>0.344</td>\n",
       "      <td>13.896552</td>\n",
       "      <td>20.482759</td>\n",
       "      <td>0.678</td>\n",
       "      <td>11.344828</td>\n",
       "      <td>24.758621</td>\n",
       "      <td>36.103448</td>\n",
       "      <td>17.689655</td>\n",
       "      <td>9.724138</td>\n",
       "      <td>2.965517</td>\n",
       "      <td>19.103448</td>\n",
       "      <td>13.586207</td>\n",
       "      <td>16.2</td>\n",
       "      <td>39.074138</td>\n",
       "      <td>0.45272</td>\n",
       "      <td>0.652672</td>\n",
       "      <td>0.347703</td>\n",
       "      <td>1.30203</td>\n",
       "      <td>1.347384</td>\n",
       "      <td>0.827586</td>\n",
       "      <td>48.666667</td>\n",
       "      <td>108.277778</td>\n",
       "      <td>93.500000</td>\n",
       "      <td>0.863520</td>\n",
       "      <td>72.0</td>\n",
       "      <td>7.550000</td>\n",
       "      <td>-2.09</td>\n",
       "      <td>-12.73</td>\n",
       "      <td>25.000000</td>\n",
       "      <td>59.760000</td>\n",
       "      <td>0.418</td>\n",
       "      <td>5.320000</td>\n",
       "      <td>15.880000</td>\n",
       "      <td>0.335</td>\n",
       "      <td>12.000000</td>\n",
       "      <td>17.440000</td>\n",
       "      <td>0.688</td>\n",
       "      <td>8.480000</td>\n",
       "      <td>25.640000</td>\n",
       "      <td>34.120000</td>\n",
       "      <td>9.440000</td>\n",
       "      <td>5.640000</td>\n",
       "      <td>3.00</td>\n",
       "      <td>18.840000</td>\n",
       "      <td>13.080000</td>\n",
       "      <td>16.1</td>\n",
       "      <td>37.884000</td>\n",
       "      <td>0.249182</td>\n",
       "      <td>0.377600</td>\n",
       "      <td>0.345264</td>\n",
       "      <td>0.721713</td>\n",
       "      <td>1.515360</td>\n",
       "      <td>0.200000</td>\n",
       "      <td>59.333333</td>\n",
       "      <td>15.0</td>\n",
       "      <td>12.0</td>\n",
       "      <td>0.666667</td>\n",
       "      <td>0.444444</td>\n",
       "      <td>0.0</td>\n",
       "      <td>NaN</td>\n",
       "      <td>0.0</td>\n",
       "      <td>0.000000</td>\n",
       "      <td>14.333333</td>\n",
       "      <td>-5.666667</td>\n",
       "      <td>2</td>\n",
       "      <td>1</td>\n",
       "      <td>NaN</td>\n",
       "    </tr>\n",
       "    <tr>\n",
       "      <th>3</th>\n",
       "      <td>1</td>\n",
       "      <td>0</td>\n",
       "      <td>0</td>\n",
       "      <td>1</td>\n",
       "      <td>0</td>\n",
       "      <td>83.955939</td>\n",
       "      <td>105.172414</td>\n",
       "      <td>1.25271</td>\n",
       "      <td>72.0</td>\n",
       "      <td>9.405172</td>\n",
       "      <td>-6.37</td>\n",
       "      <td>6.27</td>\n",
       "      <td>27.103448</td>\n",
       "      <td>60.413793</td>\n",
       "      <td>0.449</td>\n",
       "      <td>7.62069</td>\n",
       "      <td>22.172414</td>\n",
       "      <td>0.344</td>\n",
       "      <td>13.896552</td>\n",
       "      <td>20.482759</td>\n",
       "      <td>0.678</td>\n",
       "      <td>11.344828</td>\n",
       "      <td>24.758621</td>\n",
       "      <td>36.103448</td>\n",
       "      <td>17.689655</td>\n",
       "      <td>9.724138</td>\n",
       "      <td>2.965517</td>\n",
       "      <td>19.103448</td>\n",
       "      <td>13.586207</td>\n",
       "      <td>16.2</td>\n",
       "      <td>39.074138</td>\n",
       "      <td>0.45272</td>\n",
       "      <td>0.652672</td>\n",
       "      <td>0.347703</td>\n",
       "      <td>1.30203</td>\n",
       "      <td>1.347384</td>\n",
       "      <td>0.827586</td>\n",
       "      <td>48.666667</td>\n",
       "      <td>90.289855</td>\n",
       "      <td>106.304348</td>\n",
       "      <td>1.177368</td>\n",
       "      <td>69.0</td>\n",
       "      <td>8.287500</td>\n",
       "      <td>-3.02</td>\n",
       "      <td>-7.28</td>\n",
       "      <td>26.500000</td>\n",
       "      <td>56.450000</td>\n",
       "      <td>0.469</td>\n",
       "      <td>5.500000</td>\n",
       "      <td>14.550000</td>\n",
       "      <td>0.378</td>\n",
       "      <td>14.850000</td>\n",
       "      <td>20.600000</td>\n",
       "      <td>0.721</td>\n",
       "      <td>8.500000</td>\n",
       "      <td>23.450000</td>\n",
       "      <td>31.950000</td>\n",
       "      <td>14.700000</td>\n",
       "      <td>10.450000</td>\n",
       "      <td>2.65</td>\n",
       "      <td>19.550000</td>\n",
       "      <td>11.550000</td>\n",
       "      <td>14.8</td>\n",
       "      <td>39.335000</td>\n",
       "      <td>0.373713</td>\n",
       "      <td>0.554717</td>\n",
       "      <td>0.293632</td>\n",
       "      <td>1.272727</td>\n",
       "      <td>1.966750</td>\n",
       "      <td>0.500000</td>\n",
       "      <td>68.666667</td>\n",
       "      <td>15.0</td>\n",
       "      <td>15.0</td>\n",
       "      <td>0.666667</td>\n",
       "      <td>0.000000</td>\n",
       "      <td>0.0</td>\n",
       "      <td>NaN</td>\n",
       "      <td>0.0</td>\n",
       "      <td>NaN</td>\n",
       "      <td>14.333333</td>\n",
       "      <td>-10.333333</td>\n",
       "      <td>3</td>\n",
       "      <td>0</td>\n",
       "      <td>0.5</td>\n",
       "    </tr>\n",
       "    <tr>\n",
       "      <th>4</th>\n",
       "      <td>0</td>\n",
       "      <td>1</td>\n",
       "      <td>0</td>\n",
       "      <td>0</td>\n",
       "      <td>1</td>\n",
       "      <td>83.955939</td>\n",
       "      <td>105.172414</td>\n",
       "      <td>1.25271</td>\n",
       "      <td>72.0</td>\n",
       "      <td>9.405172</td>\n",
       "      <td>-6.37</td>\n",
       "      <td>6.27</td>\n",
       "      <td>27.103448</td>\n",
       "      <td>60.413793</td>\n",
       "      <td>0.449</td>\n",
       "      <td>7.62069</td>\n",
       "      <td>22.172414</td>\n",
       "      <td>0.344</td>\n",
       "      <td>13.896552</td>\n",
       "      <td>20.482759</td>\n",
       "      <td>0.678</td>\n",
       "      <td>11.344828</td>\n",
       "      <td>24.758621</td>\n",
       "      <td>36.103448</td>\n",
       "      <td>17.689655</td>\n",
       "      <td>9.724138</td>\n",
       "      <td>2.965517</td>\n",
       "      <td>19.103448</td>\n",
       "      <td>13.586207</td>\n",
       "      <td>16.2</td>\n",
       "      <td>39.074138</td>\n",
       "      <td>0.45272</td>\n",
       "      <td>0.652672</td>\n",
       "      <td>0.347703</td>\n",
       "      <td>1.30203</td>\n",
       "      <td>1.347384</td>\n",
       "      <td>0.827586</td>\n",
       "      <td>48.666667</td>\n",
       "      <td>93.532338</td>\n",
       "      <td>107.309606</td>\n",
       "      <td>1.147300</td>\n",
       "      <td>67.0</td>\n",
       "      <td>8.353448</td>\n",
       "      <td>7.28</td>\n",
       "      <td>16.59</td>\n",
       "      <td>25.310345</td>\n",
       "      <td>57.655172</td>\n",
       "      <td>0.439</td>\n",
       "      <td>6.379310</td>\n",
       "      <td>18.034483</td>\n",
       "      <td>0.354</td>\n",
       "      <td>15.517241</td>\n",
       "      <td>21.862069</td>\n",
       "      <td>0.710</td>\n",
       "      <td>11.482759</td>\n",
       "      <td>23.482759</td>\n",
       "      <td>34.965517</td>\n",
       "      <td>13.000000</td>\n",
       "      <td>7.137931</td>\n",
       "      <td>4.00</td>\n",
       "      <td>17.310345</td>\n",
       "      <td>10.793103</td>\n",
       "      <td>13.7</td>\n",
       "      <td>35.005172</td>\n",
       "      <td>0.371374</td>\n",
       "      <td>0.513624</td>\n",
       "      <td>0.308329</td>\n",
       "      <td>1.204473</td>\n",
       "      <td>1.207075</td>\n",
       "      <td>0.620690</td>\n",
       "      <td>74.333333</td>\n",
       "      <td>15.0</td>\n",
       "      <td>1.0</td>\n",
       "      <td>0.666667</td>\n",
       "      <td>0.333333</td>\n",
       "      <td>0.0</td>\n",
       "      <td>0.3</td>\n",
       "      <td>0.0</td>\n",
       "      <td>0.444444</td>\n",
       "      <td>13.666667</td>\n",
       "      <td>21.333333</td>\n",
       "      <td>4</td>\n",
       "      <td>2</td>\n",
       "      <td>NaN</td>\n",
       "    </tr>\n",
       "  </tbody>\n",
       "</table>\n",
       "</div>"
      ],
      "text/plain": [
       "   won  underdog  underdog_opp  fan_favorite  fan_favorite_opp         de  \\\n",
       "0    1         0             0             1                 0  83.955939   \n",
       "1    1         0             0             0                 1  83.955939   \n",
       "2    1         0             0             1                 0  83.955939   \n",
       "3    1         0             0             1                 0  83.955939   \n",
       "4    0         1             0             0                 1  83.955939   \n",
       "\n",
       "           oe       te  pace  physicality_score   sos   srs         fg  \\\n",
       "0  105.172414  1.25271  72.0           9.405172 -6.37  6.27  27.103448   \n",
       "1  105.172414  1.25271  72.0           9.405172 -6.37  6.27  27.103448   \n",
       "2  105.172414  1.25271  72.0           9.405172 -6.37  6.27  27.103448   \n",
       "3  105.172414  1.25271  72.0           9.405172 -6.37  6.27  27.103448   \n",
       "4  105.172414  1.25271  72.0           9.405172 -6.37  6.27  27.103448   \n",
       "\n",
       "         fga  fg_perc  three_p   three_pa  three_p_perc         ft        fta  \\\n",
       "0  60.413793    0.449  7.62069  22.172414         0.344  13.896552  20.482759   \n",
       "1  60.413793    0.449  7.62069  22.172414         0.344  13.896552  20.482759   \n",
       "2  60.413793    0.449  7.62069  22.172414         0.344  13.896552  20.482759   \n",
       "3  60.413793    0.449  7.62069  22.172414         0.344  13.896552  20.482759   \n",
       "4  60.413793    0.449  7.62069  22.172414         0.344  13.896552  20.482759   \n",
       "\n",
       "   ft_perc        orb        drb        trb        ast       stl       blk  \\\n",
       "0    0.678  11.344828  24.758621  36.103448  17.689655  9.724138  2.965517   \n",
       "1    0.678  11.344828  24.758621  36.103448  17.689655  9.724138  2.965517   \n",
       "2    0.678  11.344828  24.758621  36.103448  17.689655  9.724138  2.965517   \n",
       "3    0.678  11.344828  24.758621  36.103448  17.689655  9.724138  2.965517   \n",
       "4    0.678  11.344828  24.758621  36.103448  17.689655  9.724138  2.965517   \n",
       "\n",
       "          pf        tov  tov_perc       poss  ast_per_poss  ast_per_fg  \\\n",
       "0  19.103448  13.586207      16.2  39.074138       0.45272    0.652672   \n",
       "1  19.103448  13.586207      16.2  39.074138       0.45272    0.652672   \n",
       "2  19.103448  13.586207      16.2  39.074138       0.45272    0.652672   \n",
       "3  19.103448  13.586207      16.2  39.074138       0.45272    0.652672   \n",
       "4  19.103448  13.586207      16.2  39.074138       0.45272    0.652672   \n",
       "\n",
       "   tov_per_poss  ast_to_tov  poss_per_game  game_win_rate  gpt_sent_score_avg  \\\n",
       "0      0.347703     1.30203       1.347384       0.827586           48.666667   \n",
       "1      0.347703     1.30203       1.347384       0.827586           48.666667   \n",
       "2      0.347703     1.30203       1.347384       0.827586           48.666667   \n",
       "3      0.347703     1.30203       1.347384       0.827586           48.666667   \n",
       "4      0.347703     1.30203       1.347384       0.827586           48.666667   \n",
       "\n",
       "       de_opp      oe_opp    te_opp  pace_opp  physicality_score_opp  sos_opp  \\\n",
       "0   98.254994  103.126160  1.049577      67.0               8.390000     0.30   \n",
       "1  100.518548  106.741125  1.061905      69.0               9.027778    -8.22   \n",
       "2  108.277778   93.500000  0.863520      72.0               7.550000    -2.09   \n",
       "3   90.289855  106.304348  1.177368      69.0               8.287500    -3.02   \n",
       "4   93.532338  107.309606  1.147300      67.0               8.353448     7.28   \n",
       "\n",
       "   srs_opp     fg_opp    fga_opp  fg_perc_opp  three_p_opp  three_pa_opp  \\\n",
       "0     1.65  24.800000  56.640000        0.438     8.040000     23.000000   \n",
       "1    -6.66  27.148148  59.888889        0.453     7.185185     21.222222   \n",
       "2   -12.73  25.000000  59.760000        0.418     5.320000     15.880000   \n",
       "3    -7.28  26.500000  56.450000        0.469     5.500000     14.550000   \n",
       "4    16.59  25.310345  57.655172        0.439     6.379310     18.034483   \n",
       "\n",
       "   three_p_perc_opp     ft_opp    fta_opp  ft_perc_opp    orb_opp    drb_opp  \\\n",
       "0             0.350  11.800000  16.920000        0.697  10.120000  25.760000   \n",
       "1             0.339  12.851852  17.111111        0.751  12.629630  21.851852   \n",
       "2             0.335  12.000000  17.440000        0.688   8.480000  25.640000   \n",
       "3             0.378  14.850000  20.600000        0.721   8.500000  23.450000   \n",
       "4             0.354  15.517241  21.862069        0.710  11.482759  23.482759   \n",
       "\n",
       "     trb_opp    ast_opp    stl_opp  blk_opp     pf_opp    tov_opp  \\\n",
       "0  35.880000  11.800000   7.360000     2.52  17.240000  13.560000   \n",
       "1  34.481481  13.222222   6.777778     2.00  17.481481  14.703704   \n",
       "2  34.120000   9.440000   5.640000     3.00  18.840000  13.080000   \n",
       "3  31.950000  14.700000  10.450000     2.65  19.550000  11.550000   \n",
       "4  34.965517  13.000000   7.137931     4.00  17.310345  10.793103   \n",
       "\n",
       "   tov_perc_opp   poss_opp  ast_per_poss_opp  ast_per_fg_opp  \\\n",
       "0          17.3  36.277000          0.325275        0.475806   \n",
       "1          17.8  37.350000          0.354009        0.487040   \n",
       "2          16.1  37.884000          0.249182        0.377600   \n",
       "3          14.8  39.335000          0.373713        0.554717   \n",
       "4          13.7  35.005172          0.371374        0.513624   \n",
       "\n",
       "   tov_per_poss_opp  ast_to_tov_opp  poss_per_game_opp  game_win_rate_opp  \\\n",
       "0          0.373791        0.870206           1.451080           0.520000   \n",
       "1          0.393673        0.899244           1.383333           0.518519   \n",
       "2          0.345264        0.721713           1.515360           0.200000   \n",
       "3          0.293632        1.272727           1.966750           0.500000   \n",
       "4          0.308329        1.204473           1.207075           0.620690   \n",
       "\n",
       "   gpt_sent_score_avg_opp  conf_rank  conf_rank_opp      luck  luck_opp  \\\n",
       "0               73.333333       15.0           15.0  0.666667  0.000000   \n",
       "1               63.000000       15.0           22.0  0.666667  0.571429   \n",
       "2               59.333333       15.0           12.0  0.666667  0.444444   \n",
       "3               68.666667       15.0           15.0  0.666667  0.000000   \n",
       "4               74.333333       15.0            1.0  0.666667  0.333333   \n",
       "\n",
       "   choke_rate  choke_rate_opp  upset_rate  upset_rate_opp  \\\n",
       "0         0.0             NaN         0.0             NaN   \n",
       "1         0.0             NaN         0.0             NaN   \n",
       "2         0.0             NaN         0.0        0.000000   \n",
       "3         0.0             NaN         0.0             NaN   \n",
       "4         0.0             0.3         0.0        0.444444   \n",
       "\n",
       "   three_mean_plus_minus  three_mean_plus_minus_opp  win_streak  \\\n",
       "0              14.333333                  -3.333333           0   \n",
       "1              14.333333                  -0.333333           1   \n",
       "2              14.333333                  -5.666667           2   \n",
       "3              14.333333                 -10.333333           3   \n",
       "4              13.666667                  21.333333           4   \n",
       "\n",
       "   win_streak_opp  matchup_win_rate  \n",
       "0               0               NaN  \n",
       "1               2               NaN  \n",
       "2               1               NaN  \n",
       "3               0               0.5  \n",
       "4               2               NaN  "
      ]
     },
     "execution_count": 29,
     "metadata": {},
     "output_type": "execute_result"
    }
   ],
   "source": [
    "# Read data\n",
    "data = pd.read_csv('../data/model_features.csv')\n",
    "# data = pd.read_csv('../data/transformed_data_men_21_to_24.csv')\n",
    "# data.drop('Unnamed: 0',axis=1,inplace=True)\n",
    "data.columns = [col.replace('%','_perc') for col in data.columns]\n",
    "data.columns = [col.replace('3','three_') for col in data.columns]\n",
    "data.head()"
   ]
  },
  {
   "cell_type": "code",
   "execution_count": 30,
   "metadata": {
    "pycharm": {
     "name": "#%%\n"
    }
   },
   "outputs": [
    {
     "name": "stdout",
     "output_type": "stream",
     "text": [
      "0 duplicates\n"
     ]
    }
   ],
   "source": [
    "# Check for duplicates\n",
    "num_duplicates = data.loc[data.duplicated()].shape[0]\n",
    "print(f'{num_duplicates} duplicates')\n",
    "if num_duplicates > 0:\n",
    "#     print(data.loc[data.duplicated()].head())\n",
    "    data = data.drop_duplicates()\n",
    "    print('duplicates removed')"
   ]
  },
  {
   "cell_type": "markdown",
   "metadata": {
    "pycharm": {
     "name": "#%% md\n"
    }
   },
   "source": [
    "## Create helper functions"
   ]
  },
  {
   "cell_type": "code",
   "execution_count": 31,
   "metadata": {
    "pycharm": {
     "name": "#%%\n"
    }
   },
   "outputs": [],
   "source": [
    "def get_odds_ratios(model, save_name=None):\n",
    "    # Build a dataframe with odds ratios and their confidence intervals.\n",
    "    if type(model) in [type(LogisticRegression()), type(XGBClassifier())]:\n",
    "#         params = np.concatenate((model.intercept_, model.coef_[0]),axis=0)\n",
    "        params = pd.Series(model.coef_[0],index=model.feature_names_in_)\n",
    "    else:\n",
    "        params = model.params\n",
    "    odds_ratios = pd.DataFrame(\n",
    "        {\n",
    "            \"OR\": params\n",
    "#             \"Lower CI\": model.conf_int()[0],\n",
    "#             \"Upper CI\": model.conf_int()[1],\n",
    "        }\n",
    "    )\n",
    "    # Exponentiate the data frame\n",
    "    odds_ratios = np.exp(odds_ratios)\n",
    "\n",
    "    # Print the odds ratios\n",
    "#     or_string = \n",
    "    print('\\nOdds Ratios:')\n",
    "    print(odds_ratios.sort_values('OR',ascending=False))\n",
    "    odds_ratios.sort_values('OR',ascending=False).to_csv(f'../eda/{save_name}_odds_ratios.csv')\n",
    "    \n",
    "    # Print prediction table\n",
    "    if type(model) not in [type(LogisticRegression()), type(XGBClassifier())]:\n",
    "        print('\\nPrediction table:')\n",
    "        print(model.pred_table())\n",
    "    if save_name is not None:\n",
    "        np.savetxt(f'../eda/{save_name}_prediction_table.out',model.pred_table(),\n",
    "                   header=f'{save_name} prediction table')\n",
    "    \n",
    "    return None"
   ]
  },
  {
   "cell_type": "code",
   "execution_count": 32,
   "metadata": {
    "pycharm": {
     "name": "#%%\n"
    }
   },
   "outputs": [],
   "source": [
    "def get_confusion_matrix(model, validation, response_var):\n",
    "    y_pred = model.predict(validation)\n",
    "    prediction = list(map(round, y_pred))\n",
    "\n",
    "    # Create a sklearn confusion matrix\n",
    "    cm = confusion_matrix(validation[response_var], prediction)\n",
    "    print (\"\\nConfusion Matrix : \\n\", cm)\n",
    "\n",
    "    # We also can use sklearn to calculate the overall accuracy of the model.  A flawed, but helpful metric.\n",
    "    print('\\nTest accuracy = ', accuracy_score(validation[response_var], prediction))\n",
    "    \n",
    "    # Print classfication report\n",
    "    print('\\nClassification Report: \\n' , classification_report(validation[response_var],prediction))\n",
    "    \n",
    "    return None"
   ]
  },
  {
   "cell_type": "markdown",
   "metadata": {
    "pycharm": {
     "name": "#%% md\n"
    }
   },
   "source": [
    "## 1 - Statsmodels Logistic Regression - fillna"
   ]
  },
  {
   "cell_type": "code",
   "execution_count": 34,
   "metadata": {
    "pycharm": {
     "name": "#%%\n"
    }
   },
   "outputs": [
    {
     "name": "stdout",
     "output_type": "stream",
     "text": [
      "Warning: Maximum number of iterations has been exceeded.\n",
      "         Current function value: 0.451882\n",
      "         Iterations: 35\n",
      "         Function evaluations: 40\n",
      "         Gradient evaluations: 40\n"
     ]
    },
    {
     "name": "stderr",
     "output_type": "stream",
     "text": [
      "C:\\Users\\nwheatle\\Anaconda3\\lib\\site-packages\\statsmodels\\base\\model.py:592: HessianInversionWarning: Inverting hessian failed, no bse or cov_params available\n",
      "  warnings.warn('Inverting hessian failed, no bse or cov_params '\n",
      "C:\\Users\\nwheatle\\Anaconda3\\lib\\site-packages\\statsmodels\\base\\model.py:604: ConvergenceWarning: Maximum Likelihood optimization failed to converge. Check mle_retvals\n",
      "  warnings.warn(\"Maximum Likelihood optimization failed to \"\n"
     ]
    },
    {
     "name": "stdout",
     "output_type": "stream",
     "text": [
      "Accuracy: 0.7844129554655871\n",
      "F1-Score: 0.787\n",
      "ROC/AUC Score for Logistic Regression:  0.784368123199482\n"
     ]
    },
    {
     "data": {
      "image/png": "[encoded data removed]",
      "text/plain": [
       "<Figure size 432x288 with 1 Axes>"
      ]
     },
     "metadata": {
      "needs_background": "light"
     },
     "output_type": "display_data"
    }
   ],
   "source": [
    "resp_var = data.columns[0]\n",
    "pred_vars = data.columns[1:].tolist()\n",
    "\n",
    "train, test = train_test_split(data.fillna(0),test_size=0.1)\n",
    "logit_phrase = resp_var + ' ~ ' + ' + '.join(pred_vars)\n",
    "log_reg = sm.logit(logit_phrase, data=train).fit(method='bfgs')\n",
    "y_pred = log_reg.predict(test)\n",
    "prediction = list(map(round, y_pred))\n",
    "\n",
    "false_positive_rate, true_positive_rate, threshold1 = roc_curve(test[resp_var], prediction)\n",
    "print(f'Accuracy: {accuracy_score(test[resp_var], prediction)}')\n",
    "print(f'F1-Score: {f1_score(test[resp_var], prediction)}')\n",
    "print('ROC/AUC Score for Logistic Regression: ', roc_auc_score(test[resp_var], prediction))\n",
    "\n",
    "plt.title('Receiver Operating Characteristic - Logistic Regression')\n",
    "plt.plot(false_positive_rate, true_positive_rate)\n",
    "plt.plot([0, 1], ls=\"--\")\n",
    "plt.ylabel('True Positive Rate')\n",
    "plt.xlabel('False Positive Rate')\n",
    "plt.show()"
   ]
  },
  {
   "cell_type": "code",
   "execution_count": 8,
   "metadata": {
    "pycharm": {
     "name": "#%%\n"
    }
   },
   "outputs": [
    {
     "name": "stdout",
     "output_type": "stream",
     "text": [
      "\n",
      "Odds Ratios:\n",
      "                         OR\n",
      "matchup_win_rate   8.639409\n",
      "luck               2.413231\n",
      "game_win_rate      1.587318\n",
      "fan_favorite       1.568422\n",
      "upset_rate         1.247696\n",
      "...                     ...\n",
      "poss_per_game      0.849206\n",
      "upset_rate_opp     0.825374\n",
      "game_win_rate_opp  0.628960\n",
      "fan_favorite_opp   0.624202\n",
      "luck_opp           0.425216\n",
      "\n",
      "[84 rows x 1 columns]\n",
      "\n",
      "Prediction table:\n",
      "[[13935.  3823.]\n",
      " [ 3963. 13845.]]\n"
     ]
    }
   ],
   "source": [
    "get_odds_ratios(log_reg)"
   ]
  },
  {
   "cell_type": "markdown",
   "metadata": {
    "pycharm": {
     "name": "#%% md\n"
    }
   },
   "source": [
    "#### 1-A Remove possibly confounding features"
   ]
  },
  {
   "cell_type": "code",
   "execution_count": 9,
   "metadata": {
    "pycharm": {
     "name": "#%%\n"
    }
   },
   "outputs": [
    {
     "name": "stdout",
     "output_type": "stream",
     "text": [
      "Warning: Maximum number of iterations has been exceeded.\n",
      "         Current function value: 0.482979\n",
      "         Iterations: 35\n",
      "         Function evaluations: 41\n",
      "         Gradient evaluations: 41\n",
      "Accuracy: 0.7522773279352226\n",
      "F1-Score: 0.7520891364902507\n",
      "ROC/AUC Score for Logistic Regression:  0.7522927532401275\n"
     ]
    },
    {
     "name": "stderr",
     "output_type": "stream",
     "text": [
      "C:\\Users\\nwheatle\\Anaconda3\\lib\\site-packages\\statsmodels\\base\\model.py:592: HessianInversionWarning: Inverting hessian failed, no bse or cov_params available\n",
      "  warnings.warn('Inverting hessian failed, no bse or cov_params '\n",
      "C:\\Users\\nwheatle\\Anaconda3\\lib\\site-packages\\statsmodels\\base\\model.py:604: ConvergenceWarning: Maximum Likelihood optimization failed to converge. Check mle_retvals\n",
      "  warnings.warn(\"Maximum Likelihood optimization failed to \"\n"
     ]
    }
   ],
   "source": [
    "data.columns\n",
    "exclude_columns = ['matchup_win_rate','choke_rate','choke_rate_opp','luck','luck_opp',\n",
    "                   'upset_rate','upset_rate_opp']\n",
    "data2 = data.drop(exclude_columns, axis=1)\n",
    "resp_var = data2.columns[0]\n",
    "pred_vars = data2.columns[1:].tolist()\n",
    "\n",
    "train, test = train_test_split(data2,test_size=0.1)\n",
    "logit_phrase = resp_var + ' ~ ' + ' + '.join(pred_vars)\n",
    "log_reg = sm.logit(logit_phrase, data=train).fit(method='bfgs')\n",
    "y_pred = log_reg.predict(test)\n",
    "prediction = list(map(round, y_pred))\n",
    "\n",
    "false_positive_rate, true_positive_rate, threshold1 = roc_curve(test[resp_var], prediction)\n",
    "print(f'Accuracy: {accuracy_score(test[resp_var], prediction)}')\n",
    "print(f'F1-Score: {f1_score(test[resp_var], prediction)}')\n",
    "print('ROC/AUC Score for Logistic Regression: ', roc_auc_score(test[resp_var], prediction))"
   ]
  },
  {
   "cell_type": "code",
   "execution_count": 10,
   "metadata": {
    "pycharm": {
     "name": "#%%\n"
    }
   },
   "outputs": [
    {
     "data": {
      "image/png": "[encoded data removed]",
      "text/plain": [
       "<Figure size 432x288 with 1 Axes>"
      ]
     },
     "metadata": {
      "needs_background": "light"
     },
     "output_type": "display_data"
    }
   ],
   "source": [
    "plt.title('Receiver Operating Characteristic - Logistic Regression')\n",
    "plt.plot(false_positive_rate, true_positive_rate)\n",
    "plt.plot([0, 1], ls=\"--\")\n",
    "plt.ylabel('True Positive Rate')\n",
    "plt.xlabel('False Positive Rate')\n",
    "plt.show()"
   ]
  },
  {
   "cell_type": "code",
   "execution_count": 11,
   "metadata": {
    "pycharm": {
     "name": "#%%\n"
    }
   },
   "outputs": [
    {
     "name": "stdout",
     "output_type": "stream",
     "text": [
      "\n",
      "Odds Ratios:\n",
      "                         OR\n",
      "game_win_rate      9.633022\n",
      "underdog           2.029789\n",
      "fan_favorite       1.533933\n",
      "poss_per_game_opp  1.505761\n",
      "fga_opp            1.163901\n",
      "...                     ...\n",
      "srs_opp            0.858930\n",
      "poss_per_game      0.730106\n",
      "fan_favorite_opp   0.650130\n",
      "underdog_opp       0.522543\n",
      "game_win_rate_opp  0.104239\n",
      "\n",
      "[77 rows x 1 columns]\n",
      "\n",
      "Prediction table:\n",
      "[[13507.  4261.]\n",
      " [ 4209. 13589.]]\n"
     ]
    }
   ],
   "source": [
    "get_odds_ratios(log_reg)"
   ]
  },
  {
   "cell_type": "markdown",
   "metadata": {},
   "source": [
    "## 1.C Statsmodels LogReg Run with a select set of features"
   ]
  },
  {
   "cell_type": "code",
   "execution_count": 12,
   "metadata": {},
   "outputs": [
    {
     "name": "stdout",
     "output_type": "stream",
     "text": [
      "Warning: Maximum number of iterations has been exceeded.\n",
      "         Current function value: 0.526200\n",
      "         Iterations: 35\n",
      "         Function evaluations: 40\n",
      "         Gradient evaluations: 40\n",
      "Accuracy: 0.7257085020242915\n",
      "F1-Score: 0.7265388496468212\n",
      "ROC/AUC Score for Logistic Regression:  0.7258025224861528\n",
      "\n",
      "Odds Ratios:\n",
      "                                   OR\n",
      "game_win_rate              496.297849\n",
      "win_streak_opp               1.074286\n",
      "three_mean_plus_minus        1.027679\n",
      "te_opp                       1.025248\n",
      "de                           1.022746\n",
      "oe_opp                       1.011720\n",
      "Intercept                    1.009448\n",
      "physicality_score            1.004340\n",
      "te                           1.000921\n",
      "physicality_score_opp        0.991252\n",
      "oe                           0.987354\n",
      "de_opp                       0.978146\n",
      "three_mean_plus_minus_opp    0.971831\n",
      "win_streak                   0.934087\n",
      "game_win_rate_opp            0.002273\n",
      "\n",
      "Prediction table:\n",
      "[[13042.  4763.]\n",
      " [ 4771. 12990.]]\n"
     ]
    },
    {
     "name": "stderr",
     "output_type": "stream",
     "text": [
      "C:\\Users\\nwheatle\\Anaconda3\\lib\\site-packages\\statsmodels\\base\\model.py:604: ConvergenceWarning: Maximum Likelihood optimization failed to converge. Check mle_retvals\n",
      "  warnings.warn(\"Maximum Likelihood optimization failed to \"\n"
     ]
    }
   ],
   "source": [
    "include_columns = ['won','de','oe','te','de_opp','oe_opp','te_opp','three_mean_plus_minus', 'three_mean_plus_minus_opp',\n",
    "                  'game_win_rate','game_win_rate_opp','physicality_score','physicality_score_opp','win_streak','win_streak_opp']\n",
    "# include_columns = ['won','de','oe','te','de_opp','oe_opp','te_opp','three_mean_plus_minus', 'three_mean_plus_minus_opp',\n",
    "#                   'physicality_score','physicality_score_opp']\n",
    "data2 = data[include_columns]\n",
    "resp_var = data2.columns[0]\n",
    "pred_vars = data2.columns[1:].tolist()\n",
    "\n",
    "train, test = train_test_split(data2,test_size=0.1)\n",
    "logit_phrase = resp_var + ' ~ ' + ' + '.join(pred_vars)\n",
    "log_reg = sm.logit(logit_phrase, data=train).fit(method='bfgs')\n",
    "y_pred = log_reg.predict(test)\n",
    "prediction = list(map(round, y_pred))\n",
    "\n",
    "false_positive_rate, true_positive_rate, threshold1 = roc_curve(test[resp_var], prediction)\n",
    "print(f'Accuracy: {accuracy_score(test[resp_var], prediction)}')\n",
    "print(f'F1-Score: {f1_score(test[resp_var], prediction)}')\n",
    "print('ROC/AUC Score for Logistic Regression: ', roc_auc_score(test[resp_var], prediction))\n",
    "get_odds_ratios(log_reg)"
   ]
  },
  {
   "cell_type": "markdown",
   "metadata": {
    "pycharm": {
     "name": "#%% md\n"
    }
   },
   "source": [
    "## 2 - Sklearn Logistic Regression"
   ]
  },
  {
   "cell_type": "code",
   "execution_count": 13,
   "metadata": {
    "pycharm": {
     "name": "#%%\n"
    }
   },
   "outputs": [
    {
     "name": "stdout",
     "output_type": "stream",
     "text": [
      "Accuracy: 0.7679655870445344\n",
      "F1-Score: 0.7676716493539397\n",
      "ROC/AUC Score for Logistic Regression:  0.7679788529882114\n",
      "\n",
      "Odds Ratios:\n",
      "                           OR\n",
      "game_win_rate      171.079820\n",
      "poss_per_game_opp    1.786135\n",
      "fan_favorite         1.509506\n",
      "underdog             1.282407\n",
      "tov_perc_opp         1.160143\n",
      "...                       ...\n",
      "tov_perc             0.892733\n",
      "underdog_opp         0.825932\n",
      "fan_favorite_opp     0.630188\n",
      "poss_per_game        0.548147\n",
      "game_win_rate_opp    0.006198\n",
      "\n",
      "[76 rows x 1 columns]\n"
     ]
    },
    {
     "name": "stderr",
     "output_type": "stream",
     "text": [
      "C:\\Users\\nwheatle\\Anaconda3\\lib\\site-packages\\sklearn\\linear_model\\_logistic.py:444: ConvergenceWarning: lbfgs failed to converge (status=1):\n",
      "STOP: TOTAL NO. of ITERATIONS REACHED LIMIT.\n",
      "\n",
      "Increase the number of iterations (max_iter) or scale the data as shown in:\n",
      "    https://scikit-learn.org/stable/modules/preprocessing.html\n",
      "Please also refer to the documentation for alternative solver options:\n",
      "    https://scikit-learn.org/stable/modules/linear_model.html#logistic-regression\n",
      "  n_iter_i = _check_optimize_result(\n"
     ]
    }
   ],
   "source": [
    "y = data.iloc[:, 0] #selects the first column (wins)\n",
    "X = data.iloc[:, 1:] #selects all columns except the win column\n",
    "X.dropna(inplace=True,axis=1)\n",
    "\n",
    "X_train, X_test, y_train, y_test = train_test_split(X, y, test_size=0.1)\n",
    "\n",
    "model = LogisticRegression(max_iter=1000)  # Increase max_iter if the model doesn't converge\n",
    "model.fit(X_train, y_train)\n",
    "\n",
    "prediction = model.predict(X_test)\n",
    "\n",
    "false_positive_rate, true_positive_rate, threshold1 = roc_curve(\n",
    "    y_test, model.predict_proba(X_test)[:,1])\n",
    "print(f'Accuracy: {accuracy_score(y_test, prediction)}')\n",
    "print(f'F1-Score: {f1_score(y_test, prediction)}')\n",
    "print('ROC/AUC Score for Logistic Regression: ', roc_auc_score(y_test, prediction))\n",
    "\n",
    "get_odds_ratios(model)"
   ]
  },
  {
   "cell_type": "code",
   "execution_count": 14,
   "metadata": {
    "pycharm": {
     "name": "#%%\n"
    }
   },
   "outputs": [
    {
     "data": {
      "image/png": "[encoded data removed]",
      "text/plain": [
       "<Figure size 432x288 with 1 Axes>"
      ]
     },
     "metadata": {
      "needs_background": "light"
     },
     "output_type": "display_data"
    }
   ],
   "source": [
    "plt.title('Receiver Operating Characteristic - Sklearn Logistic Regression')\n",
    "plt.plot(false_positive_rate, true_positive_rate)\n",
    "plt.plot([0, 1], ls=\"--\")\n",
    "plt.ylabel('True Positive Rate')\n",
    "plt.xlabel('False Positive Rate')\n",
    "plt.show()"
   ]
  },
  {
   "cell_type": "markdown",
   "metadata": {
    "pycharm": {
     "name": "#%% md\n"
    }
   },
   "source": [
    "## 3 - Xgboost"
   ]
  },
  {
   "cell_type": "code",
   "execution_count": 15,
   "metadata": {
    "pycharm": {
     "name": "#%%\n"
    }
   },
   "outputs": [],
   "source": [
    "pd.options.display.max_columns = 100"
   ]
  },
  {
   "cell_type": "code",
   "execution_count": 16,
   "metadata": {
    "pycharm": {
     "name": "#%%\n"
    }
   },
   "outputs": [
    {
     "name": "stdout",
     "output_type": "stream",
     "text": [
      "Accuracy: 0.7621457489878543\n",
      "F1-Score: 0.7634625062908907\n",
      "ROC/AUC Score for Xgboost:  0.7621934415783321\n"
     ]
    }
   ],
   "source": [
    "model = XGBClassifier(\n",
    "    objective='binary:logistic', \n",
    "    n_estimators=100, \n",
    "    learning_rate = 0.02,\n",
    "    max_depth = 5,\n",
    "    gamma = 5,\n",
    "    min_child_weight = 10,\n",
    "    subsample = .8\n",
    ")\n",
    "model.fit(X_train, y_train)\n",
    "\n",
    "prediction = model.predict(X_test)\n",
    "\n",
    "false_positive_rate, true_positive_rate, threshold1 = roc_curve(\n",
    "    y_test, model.predict_proba(X_test)[:,1])\n",
    "print(f'Accuracy: {accuracy_score(y_test, prediction)}')\n",
    "print(f'F1-Score: {f1_score(y_test, prediction)}')\n",
    "print('ROC/AUC Score for Xgboost: ', roc_auc_score(y_test, prediction))\n",
    "\n",
    "# get_odds_ratios(model)"
   ]
  },
  {
   "cell_type": "code",
   "execution_count": 17,
   "metadata": {
    "pycharm": {
     "name": "#%%\n"
    }
   },
   "outputs": [
    {
     "data": {
      "image/png": "[encoded data removed]",
      "text/plain": [
       "<Figure size 432x288 with 1 Axes>"
      ]
     },
     "metadata": {
      "needs_background": "light"
     },
     "output_type": "display_data"
    }
   ],
   "source": [
    "plt.title('Receiver Operating Characteristic - Xgboost')\n",
    "plt.plot(false_positive_rate, true_positive_rate)\n",
    "plt.plot([0, 1], ls=\"--\")\n",
    "plt.ylabel('True Positive Rate')\n",
    "plt.xlabel('False Positive Rate')\n",
    "plt.show()"
   ]
  },
  {
   "cell_type": "markdown",
   "metadata": {
    "pycharm": {
     "name": "#%% md\n"
    }
   },
   "source": [
    "### Grid Search for Xgboost"
   ]
  },
  {
   "cell_type": "code",
   "execution_count": 18,
   "metadata": {
    "pycharm": {
     "name": "#%%\n"
    }
   },
   "outputs": [],
   "source": [
    "def timer(start_time=None):\n",
    "    if not start_time:\n",
    "        start_time = datetime.now()\n",
    "        return start_time\n",
    "    elif start_time:\n",
    "        thour, temp_sec = divmod((datetime.now() - start_time).total_seconds(), 3600)\n",
    "        tmin, tsec = divmod(temp_sec, 60)\n",
    "        print('\\n Time taken: %i hours %i minutes and %s seconds.' % (thour, tmin, round(tsec, 2)))"
   ]
  },
  {
   "cell_type": "markdown",
   "metadata": {
    "pycharm": {
     "name": "#%%\n"
    }
   },
   "source": [
    "params = {\n",
    "        'min_child_weight': [1, 5, 10],\n",
    "        'gamma': [0.5, 1, 1.5, 2, 5],\n",
    "        'subsample': [0.6, 0.8, 1.0],\n",
    "        'colsample_bytree': [0.6, 0.8, 1.0],\n",
    "        'max_depth': [3, 4, 5]\n",
    "        }"
   ]
  },
  {
   "cell_type": "code",
   "execution_count": 20,
   "metadata": {
    "pycharm": {
     "name": "#%%\n"
    }
   },
   "outputs": [],
   "source": [
    "xgb = XGBClassifier(learning_rate=0.02, n_estimators=100, objective='binary:logistic',\n",
    "                    silent=True, nthread=1)"
   ]
  },
  {
   "cell_type": "code",
   "execution_count": 21,
   "metadata": {
    "pycharm": {
     "name": "#%%\n"
    }
   },
   "outputs": [
    {
     "name": "stdout",
     "output_type": "stream",
     "text": [
      "Fitting 3 folds for each of 5 candidates, totalling 15 fits\n",
      "[08:06:17] WARNING: C:/Users/Administrator/workspace/xgboost-win64_release_1.6.0/src/learner.cc:627: \n",
      "Parameters: { \"silent\" } might not be used.\n",
      "\n",
      "  This could be a false alarm, with some parameters getting used by language bindings but\n",
      "  then being mistakenly passed down to XGBoost core, or some parameter actually being used\n",
      "  but getting flagged wrongly here. Please open an issue if you find any such cases.\n",
      "\n",
      "\n",
      "\n",
      " Time taken: 0 hours 1 minutes and 0.28 seconds.\n"
     ]
    }
   ],
   "source": [
    "folds = 3\n",
    "param_comb = 5\n",
    "\n",
    "skf = StratifiedKFold(n_splits=folds, shuffle = True)\n",
    "\n",
    "random_search = RandomizedSearchCV(xgb, param_distributions=params, n_iter=param_comb, scoring='roc_auc', n_jobs=4, cv=skf.split(X_train,y_train), verbose=3)\n",
    "\n",
    "# Here we go\n",
    "start_time = timer(None) # timing starts from this point for \"start_time\" variable\n",
    "random_search.fit(X_train, y_train)\n",
    "timer(start_time) # timing ends here for \"start_time\" variable"
   ]
  },
  {
   "cell_type": "code",
   "execution_count": 22,
   "metadata": {
    "pycharm": {
     "name": "#%%\n"
    }
   },
   "outputs": [
    {
     "name": "stdout",
     "output_type": "stream",
     "text": [
      "\n",
      " All results:\n",
      "{'mean_fit_time': array([10.33469272,  6.80475752,  8.73003109, 10.24086746, 12.64500658]), 'std_fit_time': array([0.11307797, 0.2227405 , 0.15809793, 0.04474016, 0.42874541]), 'mean_score_time': array([0.08896089, 0.08884382, 0.09930348, 0.08223065, 0.06928992]), 'std_score_time': array([0.00767502, 0.0045594 , 0.00800214, 0.01100771, 0.00644864]), 'param_subsample': masked_array(data=[0.8, 0.8, 0.8, 0.8, 0.8],\n",
      "             mask=[False, False, False, False, False],\n",
      "       fill_value='?',\n",
      "            dtype=object), 'param_min_child_weight': masked_array(data=[5, 5, 5, 10, 1],\n",
      "             mask=[False, False, False, False, False],\n",
      "       fill_value='?',\n",
      "            dtype=object), 'param_max_depth': masked_array(data=[5, 3, 5, 4, 5],\n",
      "             mask=[False, False, False, False, False],\n",
      "       fill_value='?',\n",
      "            dtype=object), 'param_gamma': masked_array(data=[2, 0.5, 1, 0.5, 5],\n",
      "             mask=[False, False, False, False, False],\n",
      "       fill_value='?',\n",
      "            dtype=object), 'param_colsample_bytree': masked_array(data=[0.8, 1.0, 0.6, 1.0, 1.0],\n",
      "             mask=[False, False, False, False, False],\n",
      "       fill_value='?',\n",
      "            dtype=object), 'params': [{'subsample': 0.8, 'min_child_weight': 5, 'max_depth': 5, 'gamma': 2, 'colsample_bytree': 0.8}, {'subsample': 0.8, 'min_child_weight': 5, 'max_depth': 3, 'gamma': 0.5, 'colsample_bytree': 1.0}, {'subsample': 0.8, 'min_child_weight': 5, 'max_depth': 5, 'gamma': 1, 'colsample_bytree': 0.6}, {'subsample': 0.8, 'min_child_weight': 10, 'max_depth': 4, 'gamma': 0.5, 'colsample_bytree': 1.0}, {'subsample': 0.8, 'min_child_weight': 1, 'max_depth': 5, 'gamma': 5, 'colsample_bytree': 1.0}], 'split0_test_score': array([0.83805459, 0.83054826, 0.83714288, 0.83612871, 0.83814118]), 'split1_test_score': array([0.84152491, 0.83380187, 0.84032576, 0.83993319, 0.84202051]), 'split2_test_score': array([0.84283736, 0.83538985, 0.84180607, 0.84134401, 0.84362392]), 'mean_test_score': array([0.84080562, 0.83324666, 0.83975824, 0.83913531, 0.84126187]), 'std_test_score': array([0.00201772, 0.00201518, 0.00194558, 0.00220262, 0.0023017 ]), 'rank_test_score': array([2, 5, 3, 4, 1])}\n",
      "\n",
      " Best estimator:\n",
      "XGBClassifier(base_score=0.5, booster='gbtree', callbacks=None,\n",
      "              colsample_bylevel=1, colsample_bynode=1, colsample_bytree=1.0,\n",
      "              early_stopping_rounds=None, enable_categorical=False,\n",
      "              eval_metric=None, gamma=5, gpu_id=-1, grow_policy='depthwise',\n",
      "              importance_type=None, interaction_constraints='',\n",
      "              learning_rate=0.02, max_bin=256, max_cat_to_onehot=4,\n",
      "              max_delta_step=0, max_depth=5, max_leaves=0, min_child_weight=1,\n",
      "              missing=nan, monotone_constraints='()', n_estimators=100,\n",
      "              n_jobs=1, nthread=1, num_parallel_tree=1, predictor='auto',\n",
      "              random_state=0, reg_alpha=0, ...)\n",
      "\n",
      " Best normalized gini score for 3-fold search with 5 parameter combinations:\n",
      "0.6825237416932122\n",
      "\n",
      " Best hyperparameters:\n",
      "{'subsample': 0.8, 'min_child_weight': 1, 'max_depth': 5, 'gamma': 5, 'colsample_bytree': 1.0}\n"
     ]
    }
   ],
   "source": [
    "print('\\n All results:')\n",
    "print(random_search.cv_results_)\n",
    "print('\\n Best estimator:')\n",
    "print(random_search.best_estimator_)\n",
    "print('\\n Best normalized gini score for %d-fold search with %d parameter combinations:' % (folds, param_comb))\n",
    "print(random_search.best_score_ * 2 - 1)\n",
    "print('\\n Best hyperparameters:')\n",
    "print(random_search.best_params_)\n",
    "results = pd.DataFrame(random_search.cv_results_)\n",
    "results.to_csv('xgb-random-grid-search-results-01.csv', index=False)"
   ]
  },
  {
   "cell_type": "markdown",
   "metadata": {},
   "source": [
    "## Gradient Boosted Trees"
   ]
  },
  {
   "cell_type": "code",
   "execution_count": 23,
   "metadata": {},
   "outputs": [
    {
     "name": "stdout",
     "output_type": "stream",
     "text": [
      "Accuracy: 75.81%\n"
     ]
    }
   ],
   "source": [
    "X.dropna(inplace=True, axis=1)\n",
    "X_train, X_test, y_train, y_test = train_test_split(X, y, test_size=0.1)\n",
    "\n",
    "# Initialize the Gradient Boosting Classifier\n",
    "gbt_model = GradientBoostingClassifier(n_estimators=100, learning_rate=0.1, max_depth=3, random_state=42)\n",
    "\n",
    "# Train the model on the training data\n",
    "gbt_model.fit(X_train, y_train)\n",
    "\n",
    "# Make predictions on the test data\n",
    "predictions = gbt_model.predict(X_test)\n",
    "\n",
    "# Evaluate the accuracy of the model\n",
    "accuracy = accuracy_score(y_test, predictions)\n",
    "print(f\"Accuracy: {accuracy * 100:.2f}%\")"
   ]
  },
  {
   "cell_type": "markdown",
   "metadata": {},
   "source": [
    "## Hist Gradient Boosted Classifier"
   ]
  },
  {
   "cell_type": "code",
   "execution_count": 24,
   "metadata": {},
   "outputs": [
    {
     "name": "stdout",
     "output_type": "stream",
     "text": [
      "Accuracy: 78.21%\n"
     ]
    }
   ],
   "source": [
    "y = data.iloc[:, 0] #selects the first column (wins)\n",
    "X = data.iloc[:, 1:] #selects all columns except the win column\n",
    "# X.dropna(inplace=True,axis=1)\n",
    "\n",
    "# Split the data into training and testing sets\n",
    "X_train, X_test, y_train, y_test = train_test_split(X, y, test_size=0.1)\n",
    "\n",
    "# Initialize the Histogram-based Gradient Boosting Classifier\n",
    "hist_gbt_model = HistGradientBoostingClassifier(max_iter=100)\n",
    "\n",
    "# Train the model on the training data\n",
    "hist_gbt_model.fit(X_train, y_train)\n",
    "\n",
    "# Make predictions on the test data\n",
    "predictions = hist_gbt_model.predict(X_test)\n",
    "\n",
    "# Evaluate the accuracy of the model\n",
    "accuracy = accuracy_score(y_test, predictions)\n",
    "print(f\"Accuracy: {accuracy * 100:.2f}%\")"
   ]
  },
  {
   "cell_type": "markdown",
   "metadata": {},
   "source": [
    "#### Perform Hyperparameter Tuning"
   ]
  },
  {
   "cell_type": "code",
   "execution_count": 25,
   "metadata": {},
   "outputs": [
    {
     "name": "stdout",
     "output_type": "stream",
     "text": [
      "Best Parameters: {'l2_regularization': 0.1, 'learning_rate': 0.05, 'max_iter': 100, 'min_samples_leaf': 20}\n",
      "Best Model Accuracy: 78.11%\n"
     ]
    }
   ],
   "source": [
    "# Initialize the Histogram-based Gradient Boosting Classifier\n",
    "hist_gbt_model = HistGradientBoostingClassifier()\n",
    "\n",
    "# Define the hyperparameter grid for grid search\n",
    "param_grid = {\n",
    "    'learning_rate': [0.01, 0.05, 0.1],\n",
    "    'max_iter': [50, 100, 150],\n",
    "    'min_samples_leaf': [10, 20, 30],\n",
    "    'l2_regularization':[0,0.1]\n",
    "}\n",
    "\n",
    "# Create the GridSearchCV object\n",
    "grid_search = GridSearchCV(estimator=hist_gbt_model, param_grid=param_grid, cv=3, scoring='accuracy')\n",
    "\n",
    "# Perform the grid search on the training data\n",
    "grid_search.fit(X_train, y_train)\n",
    "\n",
    "# Get the best parameters and model\n",
    "best_params = grid_search.best_params_\n",
    "best_model = grid_search.best_estimator_\n",
    "\n",
    "# Make predictions on the test data using the best model\n",
    "predictions = best_model.predict(X_test)\n",
    "\n",
    "# Evaluate the accuracy of the best model\n",
    "accuracy = accuracy_score(y_test, predictions)\n",
    "print(f\"Best Parameters: {best_params}\")\n",
    "print(f\"Best Model Accuracy: {accuracy * 100:.2f}%\")"
   ]
  },
  {
   "cell_type": "markdown",
   "metadata": {},
   "source": [
    "# Probablistic Models\n",
    "### Gaussian Naive Bayes"
   ]
  },
  {
   "cell_type": "code",
   "execution_count": 27,
   "metadata": {},
   "outputs": [
    {
     "name": "stdout",
     "output_type": "stream",
     "text": [
      "Accuracy: 72.24%\n"
     ]
    }
   ],
   "source": [
    "y = data.iloc[:, 0] #selects the first column (wins)\n",
    "X = data.iloc[:, 1:] #selects all columns except the win column\n",
    "X.dropna(inplace=True,axis=1)\n",
    "\n",
    "# Split the data into training and testing sets\n",
    "X_train, X_test, y_train, y_test = train_test_split(X, y, test_size=0.1)\n",
    "\n",
    "# Initialize the Gaussian Naive Bayes model\n",
    "gnb_model = GaussianNB()\n",
    "\n",
    "# Train the model on the training data\n",
    "gnb_model.fit(X_train, y_train)\n",
    "\n",
    "# Make predictions on the test data\n",
    "predictions = gnb_model.predict(X_test)\n",
    "\n",
    "# Evaluate the accuracy of the model\n",
    "accuracy = accuracy_score(y_test, predictions)\n",
    "print(f\"Accuracy: {accuracy * 100:.2f}%\")"
   ]
  },
  {
   "cell_type": "markdown",
   "metadata": {},
   "source": [
    "# Deterministic Models\n",
    "\n",
    "### Basic FNN (Feedforward Neural Network)"
   ]
  },
  {
   "cell_type": "code",
   "execution_count": 5,
   "metadata": {},
   "outputs": [
    {
     "ename": "ModuleNotFoundError",
     "evalue": "No module named 'tensorflow'",
     "output_type": "error",
     "traceback": [
      "\u001b[1;31m---------------------------------------------------------------------------\u001b[0m",
      "\u001b[1;31mModuleNotFoundError\u001b[0m                       Traceback (most recent call last)",
      "\u001b[1;32m<ipython-input-5-64156d691fe5>\u001b[0m in \u001b[0;36m<module>\u001b[1;34m\u001b[0m\n\u001b[1;32m----> 1\u001b[1;33m \u001b[1;32mimport\u001b[0m \u001b[0mtensorflow\u001b[0m \u001b[1;32mas\u001b[0m \u001b[0mtf\u001b[0m\u001b[1;33m\u001b[0m\u001b[1;33m\u001b[0m\u001b[0m\n\u001b[0m",
      "\u001b[1;31mModuleNotFoundError\u001b[0m: No module named 'tensorflow'"
     ]
    }
   ],
   "source": [
    "import tensorflow as tf\n",
    "from sklearn.model_selection import train_test_split\n",
    "# from sklearn.metrics import accuracy_score\n",
    "# import numpy as np\n",
    "# import pandas as pd\n",
    "\n",
    "data = pd.read_csv('../data/model_features.csv')\n",
    "data.dropna(inplace=True, axis=1)\n",
    "\n",
    "# Check for duplicates\n",
    "num_duplicates = data.loc[data.duplicated()].shape[0]\n",
    "print(f'{num_duplicates} duplicates')\n",
    "if num_duplicates > 0:\n",
    "#     print(data.loc[data.duplicated()].head())\n",
    "    data = data.drop_duplicates()\n",
    "    print('duplicates removed')\n",
    "\n",
    "y = data.iloc[:, 0] #selects the first column (wins)\n",
    "X = data.iloc[:, 1:] #selects all columns except the win column\n",
    "\n",
    "y_one_hot = tf.keras.utils.to_categorical(y, num_classes=2)\n",
    "\n",
    "# Split the data into training and testing sets\n",
    "X_train, X_test, y_train, y_test = train_test_split(X, y_one_hot, test_size=0.2, random_state=42)\n",
    "\n",
    "# Standardize the features\n",
    "scaler = StandardScaler()\n",
    "X_train_scaled = scaler.fit_transform(X_train)\n",
    "X_test_scaled = scaler.transform(X_test)\n",
    "\n",
    "# Build the neural network model\n",
    "model = tf.keras.Sequential([\n",
    "    tf.keras.layers.Dense(64, activation='relu', input_shape=(X_train_scaled.shape[1],)),\n",
    "    tf.keras.layers.Dense(32, activation='relu'),\n",
    "    tf.keras.layers.Dense(2, activation='softmax') \n",
    "])\n",
    "\n",
    "# Compile the model\n",
    "model.compile(optimizer=tf.keras.optimizers.Adam(learning_rate=0.001), \n",
    "              loss='categorical_crossentropy', metrics=['accuracy'])\n",
    "\n",
    "# Train the model\n",
    "model.fit(X_train_scaled, y_train, epochs=50, batch_size=32, \n",
    "          validation_split=0.2, verbose=1)\n",
    "\n",
    "# Evaluate the model on the test set\n",
    "y_pred = model.predict(X_test_scaled)\n",
    "predicted_labels = np.argmax(y_pred, axis=1)\n",
    "true_labels = np.argmax(y_test, axis=1)\n",
    "\n",
    "accuracy = accuracy_score(true_labels, predicted_labels)\n",
    "print(f\"Accuracy: {accuracy * 100:.2f}%\")"
   ]
  },
  {
   "cell_type": "code",
   "execution_count": 37,
   "metadata": {},
   "outputs": [],
   "source": [
    "from sklearn.preprocessing import MinMaxScaler"
   ]
  },
  {
   "cell_type": "code",
   "execution_count": 46,
   "metadata": {},
   "outputs": [
    {
     "name": "stdout",
     "output_type": "stream",
     "text": [
      "[0.36641822 0.99999996 0.99231327]\n"
     ]
    }
   ],
   "source": [
    "import numpy as np\n",
    "import math\n",
    "\n",
    "# custom function\n",
    "def sigmoid(x):\n",
    "  return 1 / (1 + math.exp(-x))\n",
    "\n",
    "# define vectorized sigmoid\n",
    "sigmoid_v = np.vectorize(sigmoid)\n",
    "\n",
    "# test\n",
    "scores = np.array([ -0.54761371,  17.04850603,   4.86054302])\n",
    "print(sigmoid_v(scores))"
   ]
  },
  {
   "cell_type": "code",
   "execution_count": 44,
   "metadata": {},
   "outputs": [
    {
     "data": {
      "text/plain": [
       "array([[0., 0., 0.],\n",
       "       [0., 0., 0.],\n",
       "       [0., 0., 0.]])"
      ]
     },
     "execution_count": 44,
     "metadata": {},
     "output_type": "execute_result"
    }
   ],
   "source": [
    "MinMaxScaler().fit_transform([[-1,0,1],[-1,0,1],[-1,0,1]])"
   ]
  }
 ],
 "metadata": {
  "kernelspec": {
   "display_name": "march_madness",
   "language": "python",
   "name": "march_madness"
  },
  "language_info": {
   "codemirror_mode": {
    "name": "ipython",
    "version": 3
   },
   "file_extension": ".py",
   "mimetype": "text/x-python",
   "name": "python",
   "nbconvert_exporter": "python",
   "pygments_lexer": "ipython3",
   "version": "3.8.8"
  }
 },
 "nbformat": 4,
 "nbformat_minor": 4
}
