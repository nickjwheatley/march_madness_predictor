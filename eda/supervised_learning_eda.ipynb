{
 "cells": [
  {
   "cell_type": "code",
   "execution_count": 1,
   "metadata": {
    "pycharm": {
     "name": "#%%\n"
    }
   },
   "outputs": [],
   "source": [
    "import pandas as pd\n",
    "import datetime as dt\n",
    "import numpy as np\n",
    "import os\n",
    "\n",
    "import statsmodels.formula.api as sm\n",
    "from sklearn.model_selection import train_test_split\n",
    "from sklearn.metrics import confusion_matrix, accuracy_score, f1_score, classification_report, roc_curve, roc_auc_score\n",
    "from sklearn.model_selection import RandomizedSearchCV, GridSearchCV, StratifiedKFold\n",
    "import seaborn as sns\n",
    "import matplotlib.pyplot as plt\n",
    "import xgboost as xgb\n",
    "from xgboost import XGBClassifier\n",
    "from sklearn.linear_model import LogisticRegression\n",
    "from datetime import datetime"
   ]
  },
  {
   "cell_type": "code",
   "execution_count": 3,
   "metadata": {
    "pycharm": {
     "name": "#%%\n"
    }
   },
   "outputs": [
    {
     "data": {
      "text/html": [
       "<div>\n",
       "<style scoped>\n",
       "    .dataframe tbody tr th:only-of-type {\n",
       "        vertical-align: middle;\n",
       "    }\n",
       "\n",
       "    .dataframe tbody tr th {\n",
       "        vertical-align: top;\n",
       "    }\n",
       "\n",
       "    .dataframe thead th {\n",
       "        text-align: right;\n",
       "    }\n",
       "</style>\n",
       "<table border=\"1\" class=\"dataframe\">\n",
       "  <thead>\n",
       "    <tr style=\"text-align: right;\">\n",
       "      <th></th>\n",
       "      <th>won</th>\n",
       "      <th>underdog</th>\n",
       "      <th>underdog_opp</th>\n",
       "      <th>fan_favorite</th>\n",
       "      <th>fan_favorite_opp</th>\n",
       "      <th>de</th>\n",
       "      <th>oe</th>\n",
       "      <th>te</th>\n",
       "      <th>pace</th>\n",
       "      <th>physicality_score</th>\n",
       "      <th>...</th>\n",
       "      <th>luck_opp</th>\n",
       "      <th>choke_rate</th>\n",
       "      <th>choke_rate_opp</th>\n",
       "      <th>upset_rate</th>\n",
       "      <th>upset_rate_opp</th>\n",
       "      <th>three_mean_plus_minus</th>\n",
       "      <th>three_mean_plus_minus_opp</th>\n",
       "      <th>win_streak</th>\n",
       "      <th>win_streak_opp</th>\n",
       "      <th>matchup_win_rate</th>\n",
       "    </tr>\n",
       "  </thead>\n",
       "  <tbody>\n",
       "    <tr>\n",
       "      <th>0</th>\n",
       "      <td>1</td>\n",
       "      <td>0</td>\n",
       "      <td>0</td>\n",
       "      <td>1</td>\n",
       "      <td>0</td>\n",
       "      <td>83.955939</td>\n",
       "      <td>105.172414</td>\n",
       "      <td>1.25271</td>\n",
       "      <td>72.0</td>\n",
       "      <td>9.405172</td>\n",
       "      <td>...</td>\n",
       "      <td>0.000000</td>\n",
       "      <td>0.0</td>\n",
       "      <td>NaN</td>\n",
       "      <td>0.0</td>\n",
       "      <td>NaN</td>\n",
       "      <td>14.333333</td>\n",
       "      <td>-3.333333</td>\n",
       "      <td>0</td>\n",
       "      <td>0</td>\n",
       "      <td>NaN</td>\n",
       "    </tr>\n",
       "    <tr>\n",
       "      <th>1</th>\n",
       "      <td>1</td>\n",
       "      <td>0</td>\n",
       "      <td>0</td>\n",
       "      <td>0</td>\n",
       "      <td>1</td>\n",
       "      <td>83.955939</td>\n",
       "      <td>105.172414</td>\n",
       "      <td>1.25271</td>\n",
       "      <td>72.0</td>\n",
       "      <td>9.405172</td>\n",
       "      <td>...</td>\n",
       "      <td>0.571429</td>\n",
       "      <td>0.0</td>\n",
       "      <td>NaN</td>\n",
       "      <td>0.0</td>\n",
       "      <td>NaN</td>\n",
       "      <td>14.333333</td>\n",
       "      <td>-0.333333</td>\n",
       "      <td>1</td>\n",
       "      <td>2</td>\n",
       "      <td>NaN</td>\n",
       "    </tr>\n",
       "    <tr>\n",
       "      <th>2</th>\n",
       "      <td>1</td>\n",
       "      <td>0</td>\n",
       "      <td>0</td>\n",
       "      <td>1</td>\n",
       "      <td>0</td>\n",
       "      <td>83.955939</td>\n",
       "      <td>105.172414</td>\n",
       "      <td>1.25271</td>\n",
       "      <td>72.0</td>\n",
       "      <td>9.405172</td>\n",
       "      <td>...</td>\n",
       "      <td>0.444444</td>\n",
       "      <td>0.0</td>\n",
       "      <td>NaN</td>\n",
       "      <td>0.0</td>\n",
       "      <td>0.000000</td>\n",
       "      <td>14.333333</td>\n",
       "      <td>-5.666667</td>\n",
       "      <td>2</td>\n",
       "      <td>1</td>\n",
       "      <td>NaN</td>\n",
       "    </tr>\n",
       "    <tr>\n",
       "      <th>3</th>\n",
       "      <td>1</td>\n",
       "      <td>0</td>\n",
       "      <td>0</td>\n",
       "      <td>1</td>\n",
       "      <td>0</td>\n",
       "      <td>83.955939</td>\n",
       "      <td>105.172414</td>\n",
       "      <td>1.25271</td>\n",
       "      <td>72.0</td>\n",
       "      <td>9.405172</td>\n",
       "      <td>...</td>\n",
       "      <td>0.000000</td>\n",
       "      <td>0.0</td>\n",
       "      <td>NaN</td>\n",
       "      <td>0.0</td>\n",
       "      <td>NaN</td>\n",
       "      <td>14.333333</td>\n",
       "      <td>-10.333333</td>\n",
       "      <td>3</td>\n",
       "      <td>0</td>\n",
       "      <td>0.5</td>\n",
       "    </tr>\n",
       "    <tr>\n",
       "      <th>4</th>\n",
       "      <td>0</td>\n",
       "      <td>1</td>\n",
       "      <td>0</td>\n",
       "      <td>0</td>\n",
       "      <td>1</td>\n",
       "      <td>83.955939</td>\n",
       "      <td>105.172414</td>\n",
       "      <td>1.25271</td>\n",
       "      <td>72.0</td>\n",
       "      <td>9.405172</td>\n",
       "      <td>...</td>\n",
       "      <td>0.333333</td>\n",
       "      <td>0.0</td>\n",
       "      <td>0.3</td>\n",
       "      <td>0.0</td>\n",
       "      <td>0.444444</td>\n",
       "      <td>13.666667</td>\n",
       "      <td>21.333333</td>\n",
       "      <td>4</td>\n",
       "      <td>2</td>\n",
       "      <td>NaN</td>\n",
       "    </tr>\n",
       "  </tbody>\n",
       "</table>\n",
       "<p>5 rows × 86 columns</p>\n",
       "</div>"
      ],
      "text/plain": [
       "   won  underdog  underdog_opp  fan_favorite  fan_favorite_opp         de  \\\n",
       "0    1         0             0             1                 0  83.955939   \n",
       "1    1         0             0             0                 1  83.955939   \n",
       "2    1         0             0             1                 0  83.955939   \n",
       "3    1         0             0             1                 0  83.955939   \n",
       "4    0         1             0             0                 1  83.955939   \n",
       "\n",
       "           oe       te  pace  physicality_score  ...  luck_opp  choke_rate  \\\n",
       "0  105.172414  1.25271  72.0           9.405172  ...  0.000000         0.0   \n",
       "1  105.172414  1.25271  72.0           9.405172  ...  0.571429         0.0   \n",
       "2  105.172414  1.25271  72.0           9.405172  ...  0.444444         0.0   \n",
       "3  105.172414  1.25271  72.0           9.405172  ...  0.000000         0.0   \n",
       "4  105.172414  1.25271  72.0           9.405172  ...  0.333333         0.0   \n",
       "\n",
       "   choke_rate_opp  upset_rate  upset_rate_opp  three_mean_plus_minus  \\\n",
       "0             NaN         0.0             NaN              14.333333   \n",
       "1             NaN         0.0             NaN              14.333333   \n",
       "2             NaN         0.0        0.000000              14.333333   \n",
       "3             NaN         0.0             NaN              14.333333   \n",
       "4             0.3         0.0        0.444444              13.666667   \n",
       "\n",
       "   three_mean_plus_minus_opp  win_streak  win_streak_opp  matchup_win_rate  \n",
       "0                  -3.333333           0               0               NaN  \n",
       "1                  -0.333333           1               2               NaN  \n",
       "2                  -5.666667           2               1               NaN  \n",
       "3                 -10.333333           3               0               0.5  \n",
       "4                  21.333333           4               2               NaN  \n",
       "\n",
       "[5 rows x 86 columns]"
      ]
     },
     "execution_count": 3,
     "metadata": {},
     "output_type": "execute_result"
    }
   ],
   "source": [
    "# Read data\n",
    "data = pd.read_csv('../data/model_features.csv')\n",
    "# data = pd.read_csv('../data/transformed_data_men_21_to_24.csv')\n",
    "# data.drop('Unnamed: 0',axis=1,inplace=True)\n",
    "data.columns = [col.replace('%','_perc') for col in data.columns]\n",
    "data.columns = [col.replace('3','three_') for col in data.columns]\n",
    "data.head()"
   ]
  },
  {
   "cell_type": "code",
   "execution_count": 4,
   "metadata": {},
   "outputs": [
    {
     "data": {
      "text/plain": [
       "Index(['won', 'underdog', 'underdog_opp', 'fan_favorite', 'fan_favorite_opp',\n",
       "       'de', 'oe', 'te', 'pace', 'physicality_score', 'sos', 'srs', 'fg',\n",
       "       'fga', 'fg_perc', 'three_p', 'three_pa', 'three_p_perc', 'ft', 'fta',\n",
       "       'ft_perc', 'orb', 'drb', 'trb', 'ast', 'stl', 'blk', 'pf', 'tov',\n",
       "       'tov_perc', 'poss', 'ast_per_poss', 'ast_per_fg', 'tov_per_poss',\n",
       "       'ast_to_tov', 'poss_per_game', 'game_win_rate', 'gpt_sent_score_avg',\n",
       "       'gpt_sent_score_avg.1', 'de_opp', 'oe_opp', 'te_opp', 'pace_opp',\n",
       "       'physicality_score_opp', 'sos_opp', 'srs_opp', 'fg_opp', 'fga_opp',\n",
       "       'fg_perc_opp', 'three_p_opp', 'three_pa_opp', 'three_p_perc_opp',\n",
       "       'ft_opp', 'fta_opp', 'ft_perc_opp', 'orb_opp', 'drb_opp', 'trb_opp',\n",
       "       'ast_opp', 'stl_opp', 'blk_opp', 'pf_opp', 'tov_opp', 'tov_perc_opp',\n",
       "       'poss_opp', 'ast_per_poss_opp', 'ast_per_fg_opp', 'tov_per_poss_opp',\n",
       "       'ast_to_tov_opp', 'poss_per_game_opp', 'game_win_rate_opp',\n",
       "       'gpt_sent_score_avg_opp', 'gpt_sent_score_avg_opp.1', 'conf_rank',\n",
       "       'conf_rank_opp', 'luck', 'luck_opp', 'choke_rate', 'choke_rate_opp',\n",
       "       'upset_rate', 'upset_rate_opp', 'three_mean_plus_minus',\n",
       "       'three_mean_plus_minus_opp', 'win_streak', 'win_streak_opp',\n",
       "       'matchup_win_rate'],\n",
       "      dtype='object')"
      ]
     },
     "execution_count": 4,
     "metadata": {},
     "output_type": "execute_result"
    }
   ],
   "source": [
    "data[['gpt_sent_score_avg']]"
   ]
  },
  {
   "cell_type": "code",
   "execution_count": null,
   "metadata": {
    "pycharm": {
     "name": "#%%\n"
    }
   },
   "outputs": [],
   "source": [
    "# Check for duplicates\n",
    "num_duplicates = data.loc[data.duplicated()].shape[0]\n",
    "print(f'{num_duplicates} duplicates')\n",
    "if num_duplicates > 0:\n",
    "#     print(data.loc[data.duplicated()].head())\n",
    "    data = data.drop_duplicates()\n",
    "    print('duplicates removed')"
   ]
  },
  {
   "cell_type": "markdown",
   "metadata": {
    "pycharm": {
     "name": "#%% md\n"
    }
   },
   "source": [
    "## Create helper functions"
   ]
  },
  {
   "cell_type": "code",
   "execution_count": null,
   "metadata": {
    "pycharm": {
     "name": "#%%\n"
    }
   },
   "outputs": [],
   "source": [
    "def get_odds_ratios(model, save_name=None):\n",
    "    # Build a dataframe with odds ratios and their confidence intervals.\n",
    "    if type(model) in [type(LogisticRegression()), type(XGBClassifier())]:\n",
    "#         params = np.concatenate((model.intercept_, model.coef_[0]),axis=0)\n",
    "        params = pd.Series(model.coef_[0],index=model.feature_names_in_)\n",
    "    else:\n",
    "        params = model.params\n",
    "    odds_ratios = pd.DataFrame(\n",
    "        {\n",
    "            \"OR\": params\n",
    "#             \"Lower CI\": model.conf_int()[0],\n",
    "#             \"Upper CI\": model.conf_int()[1],\n",
    "        }\n",
    "    )\n",
    "    # Exponentiate the data frame\n",
    "    odds_ratios = np.exp(odds_ratios)\n",
    "\n",
    "    # Print the odds ratios\n",
    "#     or_string = \n",
    "    print('\\nOdds Ratios:')\n",
    "    print(odds_ratios.sort_values('OR',ascending=False))\n",
    "    odds_ratios.sort_values('OR',ascending=False).to_csv(f'../eda/{save_name}_odds_ratios.csv')\n",
    "    \n",
    "    # Print prediction table\n",
    "    if type(model) not in [type(LogisticRegression()), type(XGBClassifier())]:\n",
    "        print('\\nPrediction table:')\n",
    "        print(model.pred_table())\n",
    "    if save_name is not None:\n",
    "        np.savetxt(f'../eda/{save_name}_prediction_table.out',model.pred_table(),\n",
    "                   header=f'{save_name} prediction table')\n",
    "    \n",
    "    return None"
   ]
  },
  {
   "cell_type": "code",
   "execution_count": null,
   "metadata": {
    "pycharm": {
     "name": "#%%\n"
    }
   },
   "outputs": [],
   "source": [
    "def get_confusion_matrix(model, validation, response_var):\n",
    "    y_pred = model.predict(validation)\n",
    "    prediction = list(map(round, y_pred))\n",
    "\n",
    "    # Create a sklearn confusion matrix\n",
    "    cm = confusion_matrix(validation[response_var], prediction)\n",
    "    print (\"\\nConfusion Matrix : \\n\", cm)\n",
    "\n",
    "    # We also can use sklearn to calculate the overall accuracy of the model.  A flawed, but helpful metric.\n",
    "    print('\\nTest accuracy = ', accuracy_score(validation[response_var], prediction))\n",
    "    \n",
    "    # Print classfication report\n",
    "    print('\\nClassification Report: \\n' , classification_report(validation[response_var],prediction))\n",
    "    \n",
    "    return None"
   ]
  },
  {
   "cell_type": "markdown",
   "metadata": {
    "pycharm": {
     "name": "#%% md\n"
    }
   },
   "source": [
    "## 1 - Statsmodels Logistic Regression"
   ]
  },
  {
   "cell_type": "code",
   "execution_count": null,
   "metadata": {
    "pycharm": {
     "name": "#%%\n"
    }
   },
   "outputs": [],
   "source": [
    "resp_var = data.columns[0]\n",
    "pred_vars = data.columns[1:].tolist()\n",
    "\n",
    "train, test = train_test_split(data,test_size=0.1)\n",
    "logit_phrase = resp_var + ' ~ ' + ' + '.join(pred_vars)\n",
    "log_reg = sm.logit(logit_phrase, data=train).fit(method='bfgs')\n",
    "y_pred = log_reg.predict(test)\n",
    "prediction = list(map(round, y_pred))\n",
    "\n",
    "false_positive_rate, true_positive_rate, threshold1 = roc_curve(test[resp_var], prediction)\n",
    "print(f'Accuracy: {accuracy_score(test[resp_var], prediction)}')\n",
    "print(f'F1-Score: {f1_score(test[resp_var], prediction)}')\n",
    "print('ROC/AUC Score for Logistic Regression: ', roc_auc_score(test[resp_var], prediction))"
   ]
  },
  {
   "cell_type": "code",
   "execution_count": null,
   "metadata": {
    "pycharm": {
     "name": "#%%\n"
    }
   },
   "outputs": [],
   "source": [
    "plt.title('Receiver Operating Characteristic - Logistic Regression')\n",
    "plt.plot(false_positive_rate, true_positive_rate)\n",
    "plt.plot([0, 1], ls=\"--\")\n",
    "plt.ylabel('True Positive Rate')\n",
    "plt.xlabel('False Positive Rate')\n",
    "plt.show()"
   ]
  },
  {
   "cell_type": "code",
   "execution_count": null,
   "metadata": {
    "pycharm": {
     "name": "#%%\n"
    }
   },
   "outputs": [],
   "source": [
    "get_odds_ratios(log_reg)"
   ]
  },
  {
   "cell_type": "markdown",
   "metadata": {
    "pycharm": {
     "name": "#%% md\n"
    }
   },
   "source": [
    "#### 1-A Remove possibly confounding features"
   ]
  },
  {
   "cell_type": "code",
   "execution_count": null,
   "metadata": {
    "pycharm": {
     "name": "#%%\n"
    }
   },
   "outputs": [],
   "source": [
    "data.columns\n",
    "exclude_columns = ['matchup_win_rate','choke_rate','choke_rate_opp','luck','luck_opp',\n",
    "                   'upset_rate','upset_rate_opp']\n",
    "data2 = data.drop(exclude_columns, axis=1)\n",
    "resp_var = data2.columns[0]\n",
    "pred_vars = data2.columns[1:].tolist()\n",
    "\n",
    "train, test = train_test_split(data2,test_size=0.1)\n",
    "logit_phrase = resp_var + ' ~ ' + ' + '.join(pred_vars)\n",
    "log_reg = sm.logit(logit_phrase, data=train).fit(method='bfgs')\n",
    "y_pred = log_reg.predict(test)\n",
    "prediction = list(map(round, y_pred))\n",
    "\n",
    "false_positive_rate, true_positive_rate, threshold1 = roc_curve(test[resp_var], prediction)\n",
    "print(f'Accuracy: {accuracy_score(test[resp_var], prediction)}')\n",
    "print(f'F1-Score: {f1_score(test[resp_var], prediction)}')\n",
    "print('ROC/AUC Score for Logistic Regression: ', roc_auc_score(test[resp_var], prediction))"
   ]
  },
  {
   "cell_type": "code",
   "execution_count": null,
   "metadata": {
    "pycharm": {
     "name": "#%%\n"
    }
   },
   "outputs": [],
   "source": [
    "plt.title('Receiver Operating Characteristic - Logistic Regression')\n",
    "plt.plot(false_positive_rate, true_positive_rate)\n",
    "plt.plot([0, 1], ls=\"--\")\n",
    "plt.ylabel('True Positive Rate')\n",
    "plt.xlabel('False Positive Rate')\n",
    "plt.show()"
   ]
  },
  {
   "cell_type": "code",
   "execution_count": null,
   "metadata": {
    "pycharm": {
     "name": "#%%\n"
    }
   },
   "outputs": [],
   "source": [
    "get_odds_ratios(log_reg)"
   ]
  },
  {
   "cell_type": "markdown",
   "metadata": {
    "pycharm": {
     "name": "#%% md\n"
    }
   },
   "source": [
    "## 2 - Sklearn Logistic Regression"
   ]
  },
  {
   "cell_type": "code",
   "execution_count": null,
   "metadata": {
    "pycharm": {
     "name": "#%%\n"
    }
   },
   "outputs": [],
   "source": [
    "y = data.iloc[:, 0] #selects the first column (wins)\n",
    "X = data.iloc[:, 1:] #selects all columns except the win column\n",
    "\n",
    "X_train, X_test, y_train, y_test = train_test_split(X, y, test_size=0.1)\n",
    "\n",
    "model = LogisticRegression(max_iter=1000)  # Increase max_iter if the model doesn't converge\n",
    "model.fit(X_train, y_train)\n",
    "\n",
    "prediction = model.predict(X_test)\n",
    "\n",
    "false_positive_rate, true_positive_rate, threshold1 = roc_curve(\n",
    "    y_test, model.predict_proba(X_test)[:,1])\n",
    "print(f'Accuracy: {accuracy_score(y_test, prediction)}')\n",
    "print(f'F1-Score: {f1_score(y_test, prediction)}')\n",
    "print('ROC/AUC Score for Logistic Regression: ', roc_auc_score(y_test, prediction))\n",
    "\n",
    "get_odds_ratios(model)"
   ]
  },
  {
   "cell_type": "code",
   "execution_count": null,
   "metadata": {
    "pycharm": {
     "name": "#%%\n"
    }
   },
   "outputs": [],
   "source": [
    "plt.title('Receiver Operating Characteristic - Sklearn Logistic Regression')\n",
    "plt.plot(false_positive_rate, true_positive_rate)\n",
    "plt.plot([0, 1], ls=\"--\")\n",
    "plt.ylabel('True Positive Rate')\n",
    "plt.xlabel('False Positive Rate')\n",
    "plt.show()"
   ]
  },
  {
   "cell_type": "markdown",
   "metadata": {
    "pycharm": {
     "name": "#%% md\n"
    }
   },
   "source": [
    "## 3 - Xgboost"
   ]
  },
  {
   "cell_type": "code",
   "execution_count": null,
   "metadata": {
    "pycharm": {
     "name": "#%%\n"
    }
   },
   "outputs": [],
   "source": [
    "pd.options.display.max_columns = 100"
   ]
  },
  {
   "cell_type": "code",
   "execution_count": null,
   "metadata": {
    "pycharm": {
     "name": "#%%\n"
    }
   },
   "outputs": [],
   "source": [
    "model = XGBClassifier(\n",
    "    objective='binary:logistic', \n",
    "    n_estimators=100, \n",
    "    learning_rate = 0.02,\n",
    "    max_depth = 5,\n",
    "    gamma = 5,\n",
    "    min_child_weight = 10,\n",
    "    subsample = .8\n",
    ")\n",
    "model.fit(X_train, y_train)\n",
    "\n",
    "prediction = model.predict(X_test)\n",
    "\n",
    "false_positive_rate, true_positive_rate, threshold1 = roc_curve(\n",
    "    y_test, model.predict_proba(X_test)[:,1])\n",
    "print(f'Accuracy: {accuracy_score(y_test, prediction)}')\n",
    "print(f'F1-Score: {f1_score(y_test, prediction)}')\n",
    "print('ROC/AUC Score for Xgboost: ', roc_auc_score(y_test, prediction))\n",
    "\n",
    "# get_odds_ratios(model)"
   ]
  },
  {
   "cell_type": "code",
   "execution_count": null,
   "metadata": {
    "pycharm": {
     "name": "#%%\n"
    }
   },
   "outputs": [],
   "source": [
    "plt.title('Receiver Operating Characteristic - Xgboost')\n",
    "plt.plot(false_positive_rate, true_positive_rate)\n",
    "plt.plot([0, 1], ls=\"--\")\n",
    "plt.ylabel('True Positive Rate')\n",
    "plt.xlabel('False Positive Rate')\n",
    "plt.show()"
   ]
  },
  {
   "cell_type": "markdown",
   "metadata": {
    "pycharm": {
     "name": "#%% md\n"
    }
   },
   "source": [
    "### Grid Search for Xgboost"
   ]
  },
  {
   "cell_type": "code",
   "execution_count": null,
   "metadata": {
    "pycharm": {
     "name": "#%%\n"
    }
   },
   "outputs": [],
   "source": [
    "def timer(start_time=None):\n",
    "    if not start_time:\n",
    "        start_time = datetime.now()\n",
    "        return start_time\n",
    "    elif start_time:\n",
    "        thour, temp_sec = divmod((datetime.now() - start_time).total_seconds(), 3600)\n",
    "        tmin, tsec = divmod(temp_sec, 60)\n",
    "        print('\\n Time taken: %i hours %i minutes and %s seconds.' % (thour, tmin, round(tsec, 2)))"
   ]
  },
  {
   "cell_type": "code",
   "execution_count": null,
   "metadata": {
    "pycharm": {
     "name": "#%%\n"
    }
   },
   "outputs": [],
   "source": [
    "params = {\n",
    "        'min_child_weight': [1, 5, 10],\n",
    "        'gamma': [0.5, 1, 1.5, 2, 5],\n",
    "        'subsample': [0.6, 0.8, 1.0],\n",
    "        'colsample_bytree': [0.6, 0.8, 1.0],\n",
    "        'max_depth': [3, 4, 5]\n",
    "        }"
   ]
  },
  {
   "cell_type": "code",
   "execution_count": null,
   "metadata": {
    "pycharm": {
     "name": "#%%\n"
    }
   },
   "outputs": [],
   "source": [
    "xgb = XGBClassifier(learning_rate=0.02, n_estimators=100, objective='binary:logistic',\n",
    "                    silent=True, nthread=1)"
   ]
  },
  {
   "cell_type": "code",
   "execution_count": null,
   "metadata": {
    "pycharm": {
     "name": "#%%\n"
    }
   },
   "outputs": [],
   "source": [
    "folds = 3\n",
    "param_comb = 5\n",
    "\n",
    "skf = StratifiedKFold(n_splits=folds, shuffle = True)\n",
    "\n",
    "random_search = RandomizedSearchCV(xgb, param_distributions=params, n_iter=param_comb, scoring='roc_auc', n_jobs=4, cv=skf.split(X_train,y_train), verbose=3)\n",
    "\n",
    "# Here we go\n",
    "start_time = timer(None) # timing starts from this point for \"start_time\" variable\n",
    "random_search.fit(X_train, y_train)\n",
    "timer(start_time) # timing ends here for \"start_time\" variable"
   ]
  },
  {
   "cell_type": "code",
   "execution_count": null,
   "metadata": {
    "pycharm": {
     "name": "#%%\n"
    }
   },
   "outputs": [],
   "source": [
    "print('\\n All results:')\n",
    "print(random_search.cv_results_)\n",
    "print('\\n Best estimator:')\n",
    "print(random_search.best_estimator_)\n",
    "print('\\n Best normalized gini score for %d-fold search with %d parameter combinations:' % (folds, param_comb))\n",
    "print(random_search.best_score_ * 2 - 1)\n",
    "print('\\n Best hyperparameters:')\n",
    "print(random_search.best_params_)\n",
    "results = pd.DataFrame(random_search.cv_results_)\n",
    "results.to_csv('xgb-random-grid-search-results-01.csv', index=False)"
   ]
  },
  {
   "cell_type": "code",
   "execution_count": 50,
   "metadata": {},
   "outputs": [
    {
     "name": "stdout",
     "output_type": "stream",
     "text": [
      "120 duplicates\n",
      "duplicates removed\n"
     ]
    }
   ],
   "source": [
    "# Check for duplicates\n",
    "num_duplicates = data.loc[data.duplicated()].shape[0]\n",
    "print(f'{num_duplicates} duplicates')\n",
    "if num_duplicates > 0:\n",
    "#     print(data.loc[data.duplicated()].head())\n",
    "    data = data.drop_duplicates()\n",
    "    print('duplicates removed')"
   ]
  },
  {
   "cell_type": "markdown",
   "metadata": {},
   "source": [
    "## Create helper functions"
   ]
  },
  {
   "cell_type": "code",
   "execution_count": 166,
   "metadata": {},
   "outputs": [],
   "source": [
    "def get_odds_ratios(model, save_name=None):\n",
    "    # Build a dataframe with odds ratios and their confidence intervals.\n",
    "    if type(model) in [type(LogisticRegression()), type(XGBClassifier())]:\n",
    "#         params = np.concatenate((model.intercept_, model.coef_[0]),axis=0)\n",
    "        params = pd.Series(model.coef_[0],index=model.feature_names_in_)\n",
    "    else:\n",
    "        params = model.params\n",
    "    odds_ratios = pd.DataFrame(\n",
    "        {\n",
    "            \"OR\": params\n",
    "#             \"Lower CI\": model.conf_int()[0],\n",
    "#             \"Upper CI\": model.conf_int()[1],\n",
    "        }\n",
    "    )\n",
    "    # Exponentiate the data frame\n",
    "    odds_ratios = np.exp(odds_ratios)\n",
    "\n",
    "    # Print the odds ratios\n",
    "#     or_string = \n",
    "    print('\\nOdds Ratios:')\n",
    "    print(odds_ratios.sort_values('OR',ascending=False))\n",
    "    odds_ratios.sort_values('OR',ascending=False).to_csv(f'../eda/{save_name}_odds_ratios.csv')\n",
    "    \n",
    "    # Print prediction table\n",
    "    if type(model) not in [type(LogisticRegression()), type(XGBClassifier())]:\n",
    "        print('\\nPrediction table:')\n",
    "        print(model.pred_table())\n",
    "    if save_name is not None:\n",
    "        np.savetxt(f'../eda/{save_name}_prediction_table.out',model.pred_table(),\n",
    "                   header=f'{save_name} prediction table')\n",
    "    \n",
    "    return None"
   ]
  },
  {
   "cell_type": "code",
   "execution_count": 68,
   "metadata": {},
   "outputs": [],
   "source": [
    "def get_confusion_matrix(model, validation, response_var):\n",
    "    y_pred = model.predict(validation)\n",
    "    prediction = list(map(round, y_pred))\n",
    "\n",
    "    # Create a sklearn confusion matrix\n",
    "    cm = confusion_matrix(validation[response_var], prediction)\n",
    "    print (\"\\nConfusion Matrix : \\n\", cm)\n",
    "\n",
    "    # We also can use sklearn to calculate the overall accuracy of the model.  A flawed, but helpful metric.\n",
    "    print('\\nTest accuracy = ', accuracy_score(validation[response_var], prediction))\n",
    "    \n",
    "    # Print classfication report\n",
    "    print('\\nClassification Report: \\n' , classification_report(validation[response_var],prediction))\n",
    "    \n",
    "    return None"
   ]
  },
  {
   "cell_type": "markdown",
   "metadata": {},
   "source": [
    "## 1 - Statsmodels Logistic Regression"
   ]
  },
  {
   "cell_type": "code",
   "execution_count": 81,
   "metadata": {},
   "outputs": [
    {
     "name": "stdout",
     "output_type": "stream",
     "text": [
      "Warning: Maximum number of iterations has been exceeded.\n",
      "         Current function value: 0.448688\n",
      "         Iterations: 35\n",
      "         Function evaluations: 39\n",
      "         Gradient evaluations: 39\n",
      "Accuracy: 0.7857142857142857\n",
      "F1-Score: 0.7834562697576396\n",
      "ROC/AUC Score for Logistic Regression:  0.7858684467715211\n"
     ]
    },
    {
     "name": "stderr",
     "output_type": "stream",
     "text": [
      "C:\\Users\\nwheatle\\Anaconda3\\lib\\site-packages\\statsmodels\\base\\model.py:592: HessianInversionWarning: Inverting hessian failed, no bse or cov_params available\n",
      "  warnings.warn('Inverting hessian failed, no bse or cov_params '\n",
      "C:\\Users\\nwheatle\\Anaconda3\\lib\\site-packages\\statsmodels\\base\\model.py:604: ConvergenceWarning: Maximum Likelihood optimization failed to converge. Check mle_retvals\n",
      "  warnings.warn(\"Maximum Likelihood optimization failed to \"\n"
     ]
    }
   ],
   "source": [
    "resp_var = data.columns[0]\n",
    "pred_vars = data.columns[1:].tolist()\n",
    "\n",
    "train, test = train_test_split(data,test_size=0.1)\n",
    "logit_phrase = resp_var + ' ~ ' + ' + '.join(pred_vars)\n",
    "log_reg = sm.logit(logit_phrase, data=train).fit(method='bfgs')\n",
    "y_pred = log_reg.predict(test)\n",
    "prediction = list(map(round, y_pred))\n",
    "\n",
    "false_positive_rate, true_positive_rate, threshold1 = roc_curve(test[resp_var], prediction)\n",
    "print(f'Accuracy: {accuracy_score(test[resp_var], prediction)}')\n",
    "print(f'F1-Score: {f1_score(test[resp_var], prediction)}')\n",
    "print('ROC/AUC Score for Logistic Regression: ', roc_auc_score(test[resp_var], prediction))"
   ]
  },
  {
   "cell_type": "code",
   "execution_count": 86,
   "metadata": {},
   "outputs": [
    {
     "data": {
      "image/png": "[encoded data removed]",
      "text/plain": [
       "<Figure size 432x288 with 1 Axes>"
      ]
     },
     "metadata": {
      "needs_background": "light"
     },
     "output_type": "display_data"
    }
   ],
   "source": [
    "plt.title('Receiver Operating Characteristic - Logistic Regression')\n",
    "plt.plot(false_positive_rate, true_positive_rate)\n",
    "plt.plot([0, 1], ls=\"--\")\n",
    "plt.ylabel('True Positive Rate')\n",
    "plt.xlabel('False Positive Rate')\n",
    "plt.show()"
   ]
  },
  {
   "cell_type": "code",
   "execution_count": 73,
   "metadata": {},
   "outputs": [
    {
     "name": "stdout",
     "output_type": "stream",
     "text": [
      "\n",
      "Odds Ratios:\n",
      "                         OR  Lower CI  Upper CI\n",
      "matchup_win_rate   8.364590       NaN       NaN\n",
      "luck               2.499675       NaN       NaN\n",
      "game_win_rate      1.613030       NaN       NaN\n",
      "fan_favorite       1.558582       NaN       NaN\n",
      "upset_rate         1.284219       NaN       NaN\n",
      "...                     ...       ...       ...\n",
      "srs_opp            0.876485       NaN       NaN\n",
      "upset_rate_opp     0.803861       NaN       NaN\n",
      "fan_favorite_opp   0.632787       NaN       NaN\n",
      "game_win_rate_opp  0.609932       NaN       NaN\n",
      "luck_opp           0.403085       NaN       NaN\n",
      "\n",
      "[82 rows x 3 columns]\n",
      "\n",
      "Prediction table:\n",
      "[[13615.  3639.]\n",
      " [ 3855. 13407.]]\n"
     ]
    }
   ],
   "source": [
    "get_odds_ratios(log_reg)"
   ]
  },
  {
   "cell_type": "markdown",
   "metadata": {},
   "source": [
    "#### 1-A Remove possibly confounding features"
   ]
  },
  {
   "cell_type": "code",
   "execution_count": 91,
   "metadata": {},
   "outputs": [
    {
     "name": "stdout",
     "output_type": "stream",
     "text": [
      "Warning: Maximum number of iterations has been exceeded.\n",
      "         Current function value: 0.479665\n",
      "         Iterations: 35\n",
      "         Function evaluations: 39\n",
      "         Gradient evaluations: 39\n",
      "Accuracy: 0.7606882168925965\n",
      "F1-Score: 0.7559808612440191\n",
      "ROC/AUC Score for Logistic Regression:  0.7606630894563685\n"
     ]
    },
    {
     "name": "stderr",
     "output_type": "stream",
     "text": [
      "C:\\Users\\nwheatle\\Anaconda3\\lib\\site-packages\\statsmodels\\base\\model.py:592: HessianInversionWarning: Inverting hessian failed, no bse or cov_params available\n",
      "  warnings.warn('Inverting hessian failed, no bse or cov_params '\n",
      "C:\\Users\\nwheatle\\Anaconda3\\lib\\site-packages\\statsmodels\\base\\model.py:604: ConvergenceWarning: Maximum Likelihood optimization failed to converge. Check mle_retvals\n",
      "  warnings.warn(\"Maximum Likelihood optimization failed to \"\n"
     ]
    }
   ],
   "source": [
    "data.columns\n",
    "exclude_columns = ['matchup_win_rate','choke_rate','choke_rate_opp','luck','luck_opp',\n",
    "                   'upset_rate','upset_rate_opp']\n",
    "data2 = data.drop(exclude_columns, axis=1)\n",
    "resp_var = data2.columns[0]\n",
    "pred_vars = data2.columns[1:].tolist()\n",
    "\n",
    "train, test = train_test_split(data2,test_size=0.1)\n",
    "logit_phrase = resp_var + ' ~ ' + ' + '.join(pred_vars)\n",
    "log_reg = sm.logit(logit_phrase, data=train).fit(method='bfgs')\n",
    "y_pred = log_reg.predict(test)\n",
    "prediction = list(map(round, y_pred))\n",
    "\n",
    "false_positive_rate, true_positive_rate, threshold1 = roc_curve(test[resp_var], prediction)\n",
    "print(f'Accuracy: {accuracy_score(test[resp_var], prediction)}')\n",
    "print(f'F1-Score: {f1_score(test[resp_var], prediction)}')\n",
    "print('ROC/AUC Score for Logistic Regression: ', roc_auc_score(test[resp_var], prediction))"
   ]
  },
  {
   "cell_type": "code",
   "execution_count": 92,
   "metadata": {},
   "outputs": [
    {
     "data": {
      "image/png": "[encoded data removed]",
      "text/plain": [
       "<Figure size 432x288 with 1 Axes>"
      ]
     },
     "metadata": {
      "needs_background": "light"
     },
     "output_type": "display_data"
    }
   ],
   "source": [
    "plt.title('Receiver Operating Characteristic - Logistic Regression')\n",
    "plt.plot(false_positive_rate, true_positive_rate)\n",
    "plt.plot([0, 1], ls=\"--\")\n",
    "plt.ylabel('True Positive Rate')\n",
    "plt.xlabel('False Positive Rate')\n",
    "plt.show()"
   ]
  },
  {
   "cell_type": "code",
   "execution_count": 93,
   "metadata": {},
   "outputs": [
    {
     "name": "stdout",
     "output_type": "stream",
     "text": [
      "\n",
      "Odds Ratios:\n",
      "                          OR  Lower CI  Upper CI\n",
      "game_win_rate      10.625782       NaN       NaN\n",
      "underdog            1.762710       NaN       NaN\n",
      "fan_favorite        1.473077       NaN       NaN\n",
      "poss_per_game_opp   1.413852       NaN       NaN\n",
      "pace                1.239943       NaN       NaN\n",
      "...                      ...       ...       ...\n",
      "fga                 0.811411       NaN       NaN\n",
      "fan_favorite_opp    0.671622       NaN       NaN\n",
      "poss_per_game       0.632839       NaN       NaN\n",
      "underdog_opp        0.589429       NaN       NaN\n",
      "game_win_rate_opp   0.089788       NaN       NaN\n",
      "\n",
      "[75 rows x 3 columns]\n",
      "\n",
      "Prediction table:\n",
      "[[13120.  4093.]\n",
      " [ 4160. 13143.]]\n"
     ]
    }
   ],
   "source": [
    "get_odds_ratios(log_reg)"
   ]
  },
  {
   "cell_type": "markdown",
   "metadata": {},
   "source": [
    "## 2 - Sklearn Logistic Regression"
   ]
  },
  {
   "cell_type": "code",
   "execution_count": 153,
   "metadata": {},
   "outputs": [
    {
     "name": "stdout",
     "output_type": "stream",
     "text": [
      "Accuracy: 0.7836287799791449\n",
      "F1-Score: 0.7820378151260504\n",
      "ROC/AUC Score for Logistic Regression:  0.7836287799791449\n",
      "\n",
      "Odds Ratios:\n",
      "                         OR\n",
      "game_win_rate      6.813596\n",
      "matchup_win_rate   5.744312\n",
      "luck               2.035772\n",
      "upset_rate         1.495901\n",
      "fan_favorite       1.445202\n",
      "...                     ...\n",
      "choke_rate         0.804596\n",
      "upset_rate_opp     0.700496\n",
      "fan_favorite_opp   0.609678\n",
      "luck_opp           0.518066\n",
      "game_win_rate_opp  0.136297\n",
      "\n",
      "[81 rows x 1 columns]\n"
     ]
    },
    {
     "name": "stderr",
     "output_type": "stream",
     "text": [
      "C:\\Users\\nwheatle\\Anaconda3\\lib\\site-packages\\sklearn\\linear_model\\_logistic.py:444: ConvergenceWarning: lbfgs failed to converge (status=1):\n",
      "STOP: TOTAL NO. of ITERATIONS REACHED LIMIT.\n",
      "\n",
      "Increase the number of iterations (max_iter) or scale the data as shown in:\n",
      "    https://scikit-learn.org/stable/modules/preprocessing.html\n",
      "Please also refer to the documentation for alternative solver options:\n",
      "    https://scikit-learn.org/stable/modules/linear_model.html#logistic-regression\n",
      "  n_iter_i = _check_optimize_result(\n"
     ]
    }
   ],
   "source": [
    "y = data.iloc[:, 0] #selects the first column (wins)\n",
    "X = data.iloc[:, 1:] #selects all columns except the win column\n",
    "\n",
    "X_train, X_test, y_train, y_test = train_test_split(X, y, test_size=0.1)\n",
    "\n",
    "model = LogisticRegression(max_iter=1000)  # Increase max_iter if the model doesn't converge\n",
    "model.fit(X_train, y_train)\n",
    "\n",
    "prediction = model.predict(X_test)\n",
    "\n",
    "false_positive_rate, true_positive_rate, threshold1 = roc_curve(\n",
    "    y_test, model.predict_proba(X_test)[:,1])\n",
    "print(f'Accuracy: {accuracy_score(y_test, prediction)}')\n",
    "print(f'F1-Score: {f1_score(y_test, prediction)}')\n",
    "print('ROC/AUC Score for Logistic Regression: ', roc_auc_score(y_test, prediction))\n",
    "\n",
    "get_odds_ratios(model)"
   ]
  },
  {
   "cell_type": "code",
   "execution_count": 154,
   "metadata": {},
   "outputs": [
    {
     "data": {
      "image/png": "[encoded data removed]",
      "text/plain": [
       "<Figure size 432x288 with 1 Axes>"
      ]
     },
     "metadata": {
      "needs_background": "light"
     },
     "output_type": "display_data"
    }
   ],
   "source": [
    "plt.title('Receiver Operating Characteristic - Sklearn Logistic Regression')\n",
    "plt.plot(false_positive_rate, true_positive_rate)\n",
    "plt.plot([0, 1], ls=\"--\")\n",
    "plt.ylabel('True Positive Rate')\n",
    "plt.xlabel('False Positive Rate')\n",
    "plt.show()"
   ]
  },
  {
   "cell_type": "markdown",
   "metadata": {},
   "source": [
    "## 3 - Xgboost"
   ]
  },
  {
   "cell_type": "code",
   "execution_count": 197,
   "metadata": {},
   "outputs": [],
   "source": [
    "pd.options.display.max_columns = 100"
   ]
  },
  {
   "cell_type": "code",
   "execution_count": 193,
   "metadata": {},
   "outputs": [
    {
     "name": "stdout",
     "output_type": "stream",
     "text": [
      "Accuracy: 0.7849322210636079\n",
      "F1-Score: 0.7794707297514034\n",
      "ROC/AUC Score for Xgboost:  0.7849322210636079\n"
     ]
    }
   ],
   "source": [
    "model = XGBClassifier(\n",
    "    objective='binary:logistic', \n",
    "    n_estimators=100, \n",
    "    learning_rate = 0.02,\n",
    "    max_depth = 5,\n",
    "    gamma = 5,\n",
    "    min_child_weight = 10,\n",
    "    subsample = .8\n",
    ")\n",
    "model.fit(X_train, y_train)\n",
    "\n",
    "prediction = model.predict(X_test)\n",
    "\n",
    "false_positive_rate, true_positive_rate, threshold1 = roc_curve(\n",
    "    y_test, model.predict_proba(X_test)[:,1])\n",
    "print(f'Accuracy: {accuracy_score(y_test, prediction)}')\n",
    "print(f'F1-Score: {f1_score(y_test, prediction)}')\n",
    "print('ROC/AUC Score for Xgboost: ', roc_auc_score(y_test, prediction))\n",
    "\n",
    "# get_odds_ratios(model)"
   ]
  },
  {
   "cell_type": "code",
   "execution_count": 170,
   "metadata": {},
   "outputs": [
    {
     "data": {
      "image/png": "[encoded data removed]",
      "text/plain": [
       "<Figure size 432x288 with 1 Axes>"
      ]
     },
     "metadata": {
      "needs_background": "light"
     },
     "output_type": "display_data"
    }
   ],
   "source": [
    "plt.title('Receiver Operating Characteristic - Xgboost')\n",
    "plt.plot(false_positive_rate, true_positive_rate)\n",
    "plt.plot([0, 1], ls=\"--\")\n",
    "plt.ylabel('True Positive Rate')\n",
    "plt.xlabel('False Positive Rate')\n",
    "plt.show()"
   ]
  },
  {
   "cell_type": "markdown",
   "metadata": {},
   "source": [
    "### Grid Search for Xgboost"
   ]
  },
  {
   "cell_type": "code",
   "execution_count": 179,
   "metadata": {},
   "outputs": [],
   "source": [
    "def timer(start_time=None):\n",
    "    if not start_time:\n",
    "        start_time = datetime.now()\n",
    "        return start_time\n",
    "    elif start_time:\n",
    "        thour, temp_sec = divmod((datetime.now() - start_time).total_seconds(), 3600)\n",
    "        tmin, tsec = divmod(temp_sec, 60)\n",
    "        print('\\n Time taken: %i hours %i minutes and %s seconds.' % (thour, tmin, round(tsec, 2)))"
   ]
  },
  {
   "cell_type": "code",
   "execution_count": 180,
   "metadata": {},
   "outputs": [],
   "source": [
    "params = {\n",
    "        'min_child_weight': [1, 5, 10],\n",
    "        'gamma': [0.5, 1, 1.5, 2, 5],\n",
    "        'subsample': [0.6, 0.8, 1.0],\n",
    "        'colsample_bytree': [0.6, 0.8, 1.0],\n",
    "        'max_depth': [3, 4, 5]\n",
    "        }"
   ]
  },
  {
   "cell_type": "code",
   "execution_count": 188,
   "metadata": {},
   "outputs": [],
   "source": [
    "xgb = XGBClassifier(learning_rate=0.02, n_estimators=100, objective='binary:logistic',\n",
    "                    silent=True, nthread=1)"
   ]
  },
  {
   "cell_type": "code",
   "execution_count": 194,
   "metadata": {},
   "outputs": [
    {
     "name": "stdout",
     "output_type": "stream",
     "text": [
      "Fitting 3 folds for each of 5 candidates, totalling 15 fits\n",
      "[10:41:01] WARNING: C:/Users/Administrator/workspace/xgboost-win64_release_1.6.0/src/learner.cc:627: \n",
      "Parameters: { \"silent\" } might not be used.\n",
      "\n",
      "  This could be a false alarm, with some parameters getting used by language bindings but\n",
      "  then being mistakenly passed down to XGBoost core, or some parameter actually being used\n",
      "  but getting flagged wrongly here. Please open an issue if you find any such cases.\n",
      "\n",
      "\n",
      "\n",
      " Time taken: 0 hours 1 minutes and 0.68 seconds.\n"
     ]
    }
   ],
   "source": [
    "folds = 3\n",
    "param_comb = 5\n",
    "\n",
    "skf = StratifiedKFold(n_splits=folds, shuffle = True)\n",
    "\n",
    "random_search = RandomizedSearchCV(xgb, param_distributions=params, n_iter=param_comb, scoring='roc_auc', n_jobs=4, cv=skf.split(X_train,y_train), verbose=3)\n",
    "\n",
    "# Here we go\n",
    "start_time = timer(None) # timing starts from this point for \"start_time\" variable\n",
    "random_search.fit(X_train, y_train)\n",
    "timer(start_time) # timing ends here for \"start_time\" variable"
   ]
  },
  {
   "cell_type": "code",
   "execution_count": 190,
   "metadata": {},
   "outputs": [
    {
     "name": "stdout",
     "output_type": "stream",
     "text": [
      "\n",
      " All results:\n",
      "{'mean_fit_time': array([ 5.71665724,  5.65834936,  8.47132953, 10.23006447, 12.28322983]), 'std_fit_time': array([0.10900781, 0.07105301, 0.07435012, 0.07223454, 0.22617717]), 'mean_score_time': array([0.09430456, 0.08398644, 0.07843351, 0.08662256, 0.08521215]), 'std_score_time': array([0.01275547, 0.00806786, 0.00021364, 0.00639928, 0.00557539]), 'param_subsample': masked_array(data=[1.0, 0.8, 0.6, 0.6, 0.8],\n",
      "             mask=[False, False, False, False, False],\n",
      "       fill_value='?',\n",
      "            dtype=object), 'param_min_child_weight': masked_array(data=[1, 5, 1, 5, 10],\n",
      "             mask=[False, False, False, False, False],\n",
      "       fill_value='?',\n",
      "            dtype=object), 'param_max_depth': masked_array(data=[4, 3, 4, 4, 5],\n",
      "             mask=[False, False, False, False, False],\n",
      "       fill_value='?',\n",
      "            dtype=object), 'param_gamma': masked_array(data=[1.5, 5, 0.5, 0.5, 5],\n",
      "             mask=[False, False, False, False, False],\n",
      "       fill_value='?',\n",
      "            dtype=object), 'param_colsample_bytree': masked_array(data=[0.6, 0.8, 0.8, 1.0, 1.0],\n",
      "             mask=[False, False, False, False, False],\n",
      "       fill_value='?',\n",
      "            dtype=object), 'params': [{'subsample': 1.0, 'min_child_weight': 1, 'max_depth': 4, 'gamma': 1.5, 'colsample_bytree': 0.6}, {'subsample': 0.8, 'min_child_weight': 5, 'max_depth': 3, 'gamma': 5, 'colsample_bytree': 0.8}, {'subsample': 0.6, 'min_child_weight': 1, 'max_depth': 4, 'gamma': 0.5, 'colsample_bytree': 0.8}, {'subsample': 0.6, 'min_child_weight': 5, 'max_depth': 4, 'gamma': 0.5, 'colsample_bytree': 1.0}, {'subsample': 0.8, 'min_child_weight': 10, 'max_depth': 5, 'gamma': 5, 'colsample_bytree': 1.0}], 'split0_test_score': array([0.86011207, 0.85779064, 0.86255337, 0.86270438, 0.8655706 ]), 'split1_test_score': array([0.8720776 , 0.86749012, 0.87311671, 0.87295775, 0.87469858]), 'split2_test_score': array([0.86512948, 0.85999088, 0.86591763, 0.86626475, 0.86893835]), 'mean_test_score': array([0.86577305, 0.86175721, 0.8671959 , 0.86730896, 0.86973584]), 'std_test_score': array([0.00490606, 0.0041521 , 0.00440617, 0.00425055, 0.00376891]), 'rank_test_score': array([4, 5, 3, 2, 1])}\n",
      "\n",
      " Best estimator:\n",
      "XGBClassifier(base_score=0.5, booster='gbtree', callbacks=None,\n",
      "              colsample_bylevel=1, colsample_bynode=1, colsample_bytree=1.0,\n",
      "              early_stopping_rounds=None, enable_categorical=False,\n",
      "              eval_metric=None, gamma=5, gpu_id=-1, grow_policy='depthwise',\n",
      "              importance_type=None, interaction_constraints='',\n",
      "              learning_rate=0.02, max_bin=256, max_cat_to_onehot=4,\n",
      "              max_delta_step=0, max_depth=5, max_leaves=0, min_child_weight=10,\n",
      "              missing=nan, monotone_constraints='()', n_estimators=100,\n",
      "              n_jobs=1, nthread=1, num_parallel_tree=1, predictor='auto',\n",
      "              random_state=0, reg_alpha=0, ...)\n",
      "\n",
      " Best normalized gini score for 3-fold search with 5 parameter combinations:\n",
      "0.7394716874719105\n",
      "\n",
      " Best hyperparameters:\n",
      "{'subsample': 0.8, 'min_child_weight': 10, 'max_depth': 5, 'gamma': 5, 'colsample_bytree': 1.0}\n"
     ]
    }
   ],
   "source": [
    "print('\\n All results:')\n",
    "print(random_search.cv_results_)\n",
    "print('\\n Best estimator:')\n",
    "print(random_search.best_estimator_)\n",
    "print('\\n Best normalized gini score for %d-fold search with %d parameter combinations:' % (folds, param_comb))\n",
    "print(random_search.best_score_ * 2 - 1)\n",
    "print('\\n Best hyperparameters:')\n",
    "print(random_search.best_params_)\n",
    "results = pd.DataFrame(random_search.cv_results_)\n",
    "results.to_csv('xgb-random-grid-search-results-01.csv', index=False)"
   ]
  }
 ],
 "metadata": {
  "kernelspec": {
   "display_name": "Python 3",
   "language": "python",
   "name": "python3"
  },
  "language_info": {
   "codemirror_mode": {
    "name": "ipython",
    "version": 3
   },
   "file_extension": ".py",
   "mimetype": "text/x-python",
   "name": "python",
   "nbconvert_exporter": "python",
   "pygments_lexer": "ipython3",
   "version": "3.8.8"
  }
 },
 "nbformat": 4,
 "nbformat_minor": 1
}
